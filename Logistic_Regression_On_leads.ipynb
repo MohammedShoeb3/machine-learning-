{
  "cells": [
    {
      "cell_type": "code",
      "source": [
        "# Supress unnecessary warnings\n",
        "\n",
        "import warnings\n",
        "warnings.filterwarnings('ignore')"
      ],
      "metadata": {
        "id": "OL8dZMfqic87"
      },
      "execution_count": null,
      "outputs": []
    },
    {
      "cell_type": "code",
      "execution_count": null,
      "metadata": {
        "id": "Wl1f1zkJp4OE"
      },
      "outputs": [],
      "source": [
        "import pandas as pd\n",
        "import os\n",
        "import numpy as np\n",
        "import seaborn as sns\n",
        "import matplotlib.pyplot as plt"
      ]
    },
    {
      "cell_type": "code",
      "execution_count": null,
      "metadata": {
        "colab": {
          "base_uri": "https://localhost:8080/"
        },
        "collapsed": true,
        "id": "nk5__r8pqUo7",
        "outputId": "ade316d3-6604-47c9-b6f4-4d593d6b0e1f"
      },
      "outputs": [
        {
          "output_type": "execute_result",
          "data": {
            "text/plain": [
              "['.config', 'sample_data']"
            ]
          },
          "metadata": {},
          "execution_count": 3
        }
      ],
      "source": [
        "os.listdir()"
      ]
    },
    {
      "cell_type": "code",
      "execution_count": null,
      "metadata": {
        "colab": {
          "base_uri": "https://localhost:8080/",
          "height": 1000
        },
        "id": "-kyqIkm7wTBJ",
        "outputId": "aa0f1b42-bb3f-45b6-cf33-c5bff6babe0f"
      },
      "outputs": [
        {
          "output_type": "execute_result",
          "data": {
            "text/plain": [
              "                               Prospect ID  Lead Number  \\\n",
              "0     7927b2df-8bba-4d29-b9a2-b6e0beafe620       660737   \n",
              "1     2a272436-5132-4136-86fa-dcc88c88f482       660728   \n",
              "2     8cc8c611-a219-4f35-ad23-fdfd2656bd8a       660727   \n",
              "3     0cc2df48-7cf4-4e39-9de9-19797f9b38cc       660719   \n",
              "4     3256f628-e534-4826-9d63-4a8b88782852       660681   \n",
              "...                                    ...          ...   \n",
              "8225  4d428dd5-9c95-4041-b29d-28d5f05d9e4e       587105   \n",
              "8226  ae564441-f4e2-45f4-961e-eab6f8446a8c       587103   \n",
              "8227  c05d0eac-0ffd-4ca8-97fd-d3ebdcfbdfe6       587099   \n",
              "8228  f09f07bf-b8d9-4e88-9c8d-b83202507103       587094   \n",
              "8229  df0c5e09-5263-489d-9c93-ebaa0644bb77       587089   \n",
              "\n",
              "                  Lead Origin     Lead Source Do Not Email Do Not Call  \\\n",
              "0                         API      Olark Chat           No          No   \n",
              "1                         API  Organic Search           No          No   \n",
              "2     Landing Page Submission  Direct Traffic           No          No   \n",
              "3     Landing Page Submission  Direct Traffic           No          No   \n",
              "4     Landing Page Submission          Google           No          No   \n",
              "...                       ...             ...          ...         ...   \n",
              "8225  Landing Page Submission          Google           No          No   \n",
              "8226                      API          Google           No          No   \n",
              "8227  Landing Page Submission          Google           No          No   \n",
              "8228                      API  Organic Search           No          No   \n",
              "8229  Landing Page Submission  Organic Search           No          No   \n",
              "\n",
              "      Converted  TotalVisits  Total Time Spent on Website  \\\n",
              "0             0          0.0                            0   \n",
              "1             0          5.0                          674   \n",
              "2             1          2.0                         1532   \n",
              "3             0          1.0                          305   \n",
              "4             1          2.0                         1428   \n",
              "...         ...          ...                          ...   \n",
              "8225          1          4.0                            2   \n",
              "8226          1          3.0                         1288   \n",
              "8227          0          2.0                          205   \n",
              "8228          1          6.0                          147   \n",
              "8229          1          9.0                         1105   \n",
              "\n",
              "      Page Views Per Visit  ... Get updates on DM Content    Lead Profile  \\\n",
              "0                     0.00  ...                        No          Select   \n",
              "1                     2.50  ...                        No          Select   \n",
              "2                     2.00  ...                        No  Potential Lead   \n",
              "3                     1.00  ...                        No          Select   \n",
              "4                     1.00  ...                        No          Select   \n",
              "...                    ...  ...                       ...             ...   \n",
              "8225                  2.00  ...                        No          Select   \n",
              "8226                  3.00  ...                        No  Potential Lead   \n",
              "8227                  2.00  ...                        No          Select   \n",
              "8228                  6.00  ...                        No          Select   \n",
              "8229                  2.25  ...                       NaN             NaN   \n",
              "\n",
              "                             City Asymmetrique Activity Index  \\\n",
              "0                          Select                   02.Medium   \n",
              "1                          Select                   02.Medium   \n",
              "2                          Mumbai                   02.Medium   \n",
              "3                          Mumbai                   02.Medium   \n",
              "4                          Mumbai                   02.Medium   \n",
              "...                           ...                         ...   \n",
              "8225  Other Cities of Maharashtra                   02.Medium   \n",
              "8226                       Mumbai                   02.Medium   \n",
              "8227                       Mumbai                   02.Medium   \n",
              "8228                       Select                   02.Medium   \n",
              "8229                          NaN                         NaN   \n",
              "\n",
              "     Asymmetrique Profile Index Asymmetrique Activity Score  \\\n",
              "0                     02.Medium                        15.0   \n",
              "1                     02.Medium                        15.0   \n",
              "2                       01.High                        14.0   \n",
              "3                       01.High                        13.0   \n",
              "4                       01.High                        15.0   \n",
              "...                         ...                         ...   \n",
              "8225                    01.High                        13.0   \n",
              "8226                    01.High                        14.0   \n",
              "8227                    01.High                        14.0   \n",
              "8228                  02.Medium                        15.0   \n",
              "8229                        NaN                         NaN   \n",
              "\n",
              "     Asymmetrique Profile Score I agree to pay the amount through cheque  \\\n",
              "0                          15.0                                       No   \n",
              "1                          15.0                                       No   \n",
              "2                          20.0                                       No   \n",
              "3                          17.0                                       No   \n",
              "4                          18.0                                       No   \n",
              "...                         ...                                      ...   \n",
              "8225                       17.0                                       No   \n",
              "8226                       18.0                                       No   \n",
              "8227                       18.0                                       No   \n",
              "8228                       15.0                                       No   \n",
              "8229                        NaN                                      NaN   \n",
              "\n",
              "     A free copy of Mastering The Interview Last Notable Activity  \n",
              "0                                        No              Modified  \n",
              "1                                        No          Email Opened  \n",
              "2                                       Yes          Email Opened  \n",
              "3                                        No              Modified  \n",
              "4                                        No              Modified  \n",
              "...                                     ...                   ...  \n",
              "8225                                     No              Modified  \n",
              "8226                                     No          Email Opened  \n",
              "8227                                     No              SMS Sent  \n",
              "8228                                     No          Email Opened  \n",
              "8229                                    NaN                   NaN  \n",
              "\n",
              "[8230 rows x 37 columns]"
            ],
            "text/html": [
              "\n",
              "  <div id=\"df-b9e6bc22-cfce-4402-9232-8681aaf3e9c1\">\n",
              "    <div class=\"colab-df-container\">\n",
              "      <div>\n",
              "<style scoped>\n",
              "    .dataframe tbody tr th:only-of-type {\n",
              "        vertical-align: middle;\n",
              "    }\n",
              "\n",
              "    .dataframe tbody tr th {\n",
              "        vertical-align: top;\n",
              "    }\n",
              "\n",
              "    .dataframe thead th {\n",
              "        text-align: right;\n",
              "    }\n",
              "</style>\n",
              "<table border=\"1\" class=\"dataframe\">\n",
              "  <thead>\n",
              "    <tr style=\"text-align: right;\">\n",
              "      <th></th>\n",
              "      <th>Prospect ID</th>\n",
              "      <th>Lead Number</th>\n",
              "      <th>Lead Origin</th>\n",
              "      <th>Lead Source</th>\n",
              "      <th>Do Not Email</th>\n",
              "      <th>Do Not Call</th>\n",
              "      <th>Converted</th>\n",
              "      <th>TotalVisits</th>\n",
              "      <th>Total Time Spent on Website</th>\n",
              "      <th>Page Views Per Visit</th>\n",
              "      <th>...</th>\n",
              "      <th>Get updates on DM Content</th>\n",
              "      <th>Lead Profile</th>\n",
              "      <th>City</th>\n",
              "      <th>Asymmetrique Activity Index</th>\n",
              "      <th>Asymmetrique Profile Index</th>\n",
              "      <th>Asymmetrique Activity Score</th>\n",
              "      <th>Asymmetrique Profile Score</th>\n",
              "      <th>I agree to pay the amount through cheque</th>\n",
              "      <th>A free copy of Mastering The Interview</th>\n",
              "      <th>Last Notable Activity</th>\n",
              "    </tr>\n",
              "  </thead>\n",
              "  <tbody>\n",
              "    <tr>\n",
              "      <th>0</th>\n",
              "      <td>7927b2df-8bba-4d29-b9a2-b6e0beafe620</td>\n",
              "      <td>660737</td>\n",
              "      <td>API</td>\n",
              "      <td>Olark Chat</td>\n",
              "      <td>No</td>\n",
              "      <td>No</td>\n",
              "      <td>0</td>\n",
              "      <td>0.0</td>\n",
              "      <td>0</td>\n",
              "      <td>0.00</td>\n",
              "      <td>...</td>\n",
              "      <td>No</td>\n",
              "      <td>Select</td>\n",
              "      <td>Select</td>\n",
              "      <td>02.Medium</td>\n",
              "      <td>02.Medium</td>\n",
              "      <td>15.0</td>\n",
              "      <td>15.0</td>\n",
              "      <td>No</td>\n",
              "      <td>No</td>\n",
              "      <td>Modified</td>\n",
              "    </tr>\n",
              "    <tr>\n",
              "      <th>1</th>\n",
              "      <td>2a272436-5132-4136-86fa-dcc88c88f482</td>\n",
              "      <td>660728</td>\n",
              "      <td>API</td>\n",
              "      <td>Organic Search</td>\n",
              "      <td>No</td>\n",
              "      <td>No</td>\n",
              "      <td>0</td>\n",
              "      <td>5.0</td>\n",
              "      <td>674</td>\n",
              "      <td>2.50</td>\n",
              "      <td>...</td>\n",
              "      <td>No</td>\n",
              "      <td>Select</td>\n",
              "      <td>Select</td>\n",
              "      <td>02.Medium</td>\n",
              "      <td>02.Medium</td>\n",
              "      <td>15.0</td>\n",
              "      <td>15.0</td>\n",
              "      <td>No</td>\n",
              "      <td>No</td>\n",
              "      <td>Email Opened</td>\n",
              "    </tr>\n",
              "    <tr>\n",
              "      <th>2</th>\n",
              "      <td>8cc8c611-a219-4f35-ad23-fdfd2656bd8a</td>\n",
              "      <td>660727</td>\n",
              "      <td>Landing Page Submission</td>\n",
              "      <td>Direct Traffic</td>\n",
              "      <td>No</td>\n",
              "      <td>No</td>\n",
              "      <td>1</td>\n",
              "      <td>2.0</td>\n",
              "      <td>1532</td>\n",
              "      <td>2.00</td>\n",
              "      <td>...</td>\n",
              "      <td>No</td>\n",
              "      <td>Potential Lead</td>\n",
              "      <td>Mumbai</td>\n",
              "      <td>02.Medium</td>\n",
              "      <td>01.High</td>\n",
              "      <td>14.0</td>\n",
              "      <td>20.0</td>\n",
              "      <td>No</td>\n",
              "      <td>Yes</td>\n",
              "      <td>Email Opened</td>\n",
              "    </tr>\n",
              "    <tr>\n",
              "      <th>3</th>\n",
              "      <td>0cc2df48-7cf4-4e39-9de9-19797f9b38cc</td>\n",
              "      <td>660719</td>\n",
              "      <td>Landing Page Submission</td>\n",
              "      <td>Direct Traffic</td>\n",
              "      <td>No</td>\n",
              "      <td>No</td>\n",
              "      <td>0</td>\n",
              "      <td>1.0</td>\n",
              "      <td>305</td>\n",
              "      <td>1.00</td>\n",
              "      <td>...</td>\n",
              "      <td>No</td>\n",
              "      <td>Select</td>\n",
              "      <td>Mumbai</td>\n",
              "      <td>02.Medium</td>\n",
              "      <td>01.High</td>\n",
              "      <td>13.0</td>\n",
              "      <td>17.0</td>\n",
              "      <td>No</td>\n",
              "      <td>No</td>\n",
              "      <td>Modified</td>\n",
              "    </tr>\n",
              "    <tr>\n",
              "      <th>4</th>\n",
              "      <td>3256f628-e534-4826-9d63-4a8b88782852</td>\n",
              "      <td>660681</td>\n",
              "      <td>Landing Page Submission</td>\n",
              "      <td>Google</td>\n",
              "      <td>No</td>\n",
              "      <td>No</td>\n",
              "      <td>1</td>\n",
              "      <td>2.0</td>\n",
              "      <td>1428</td>\n",
              "      <td>1.00</td>\n",
              "      <td>...</td>\n",
              "      <td>No</td>\n",
              "      <td>Select</td>\n",
              "      <td>Mumbai</td>\n",
              "      <td>02.Medium</td>\n",
              "      <td>01.High</td>\n",
              "      <td>15.0</td>\n",
              "      <td>18.0</td>\n",
              "      <td>No</td>\n",
              "      <td>No</td>\n",
              "      <td>Modified</td>\n",
              "    </tr>\n",
              "    <tr>\n",
              "      <th>...</th>\n",
              "      <td>...</td>\n",
              "      <td>...</td>\n",
              "      <td>...</td>\n",
              "      <td>...</td>\n",
              "      <td>...</td>\n",
              "      <td>...</td>\n",
              "      <td>...</td>\n",
              "      <td>...</td>\n",
              "      <td>...</td>\n",
              "      <td>...</td>\n",
              "      <td>...</td>\n",
              "      <td>...</td>\n",
              "      <td>...</td>\n",
              "      <td>...</td>\n",
              "      <td>...</td>\n",
              "      <td>...</td>\n",
              "      <td>...</td>\n",
              "      <td>...</td>\n",
              "      <td>...</td>\n",
              "      <td>...</td>\n",
              "      <td>...</td>\n",
              "    </tr>\n",
              "    <tr>\n",
              "      <th>8225</th>\n",
              "      <td>4d428dd5-9c95-4041-b29d-28d5f05d9e4e</td>\n",
              "      <td>587105</td>\n",
              "      <td>Landing Page Submission</td>\n",
              "      <td>Google</td>\n",
              "      <td>No</td>\n",
              "      <td>No</td>\n",
              "      <td>1</td>\n",
              "      <td>4.0</td>\n",
              "      <td>2</td>\n",
              "      <td>2.00</td>\n",
              "      <td>...</td>\n",
              "      <td>No</td>\n",
              "      <td>Select</td>\n",
              "      <td>Other Cities of Maharashtra</td>\n",
              "      <td>02.Medium</td>\n",
              "      <td>01.High</td>\n",
              "      <td>13.0</td>\n",
              "      <td>17.0</td>\n",
              "      <td>No</td>\n",
              "      <td>No</td>\n",
              "      <td>Modified</td>\n",
              "    </tr>\n",
              "    <tr>\n",
              "      <th>8226</th>\n",
              "      <td>ae564441-f4e2-45f4-961e-eab6f8446a8c</td>\n",
              "      <td>587103</td>\n",
              "      <td>API</td>\n",
              "      <td>Google</td>\n",
              "      <td>No</td>\n",
              "      <td>No</td>\n",
              "      <td>1</td>\n",
              "      <td>3.0</td>\n",
              "      <td>1288</td>\n",
              "      <td>3.00</td>\n",
              "      <td>...</td>\n",
              "      <td>No</td>\n",
              "      <td>Potential Lead</td>\n",
              "      <td>Mumbai</td>\n",
              "      <td>02.Medium</td>\n",
              "      <td>01.High</td>\n",
              "      <td>14.0</td>\n",
              "      <td>18.0</td>\n",
              "      <td>No</td>\n",
              "      <td>No</td>\n",
              "      <td>Email Opened</td>\n",
              "    </tr>\n",
              "    <tr>\n",
              "      <th>8227</th>\n",
              "      <td>c05d0eac-0ffd-4ca8-97fd-d3ebdcfbdfe6</td>\n",
              "      <td>587099</td>\n",
              "      <td>Landing Page Submission</td>\n",
              "      <td>Google</td>\n",
              "      <td>No</td>\n",
              "      <td>No</td>\n",
              "      <td>0</td>\n",
              "      <td>2.0</td>\n",
              "      <td>205</td>\n",
              "      <td>2.00</td>\n",
              "      <td>...</td>\n",
              "      <td>No</td>\n",
              "      <td>Select</td>\n",
              "      <td>Mumbai</td>\n",
              "      <td>02.Medium</td>\n",
              "      <td>01.High</td>\n",
              "      <td>14.0</td>\n",
              "      <td>18.0</td>\n",
              "      <td>No</td>\n",
              "      <td>No</td>\n",
              "      <td>SMS Sent</td>\n",
              "    </tr>\n",
              "    <tr>\n",
              "      <th>8228</th>\n",
              "      <td>f09f07bf-b8d9-4e88-9c8d-b83202507103</td>\n",
              "      <td>587094</td>\n",
              "      <td>API</td>\n",
              "      <td>Organic Search</td>\n",
              "      <td>No</td>\n",
              "      <td>No</td>\n",
              "      <td>1</td>\n",
              "      <td>6.0</td>\n",
              "      <td>147</td>\n",
              "      <td>6.00</td>\n",
              "      <td>...</td>\n",
              "      <td>No</td>\n",
              "      <td>Select</td>\n",
              "      <td>Select</td>\n",
              "      <td>02.Medium</td>\n",
              "      <td>02.Medium</td>\n",
              "      <td>15.0</td>\n",
              "      <td>15.0</td>\n",
              "      <td>No</td>\n",
              "      <td>No</td>\n",
              "      <td>Email Opened</td>\n",
              "    </tr>\n",
              "    <tr>\n",
              "      <th>8229</th>\n",
              "      <td>df0c5e09-5263-489d-9c93-ebaa0644bb77</td>\n",
              "      <td>587089</td>\n",
              "      <td>Landing Page Submission</td>\n",
              "      <td>Organic Search</td>\n",
              "      <td>No</td>\n",
              "      <td>No</td>\n",
              "      <td>1</td>\n",
              "      <td>9.0</td>\n",
              "      <td>1105</td>\n",
              "      <td>2.25</td>\n",
              "      <td>...</td>\n",
              "      <td>NaN</td>\n",
              "      <td>NaN</td>\n",
              "      <td>NaN</td>\n",
              "      <td>NaN</td>\n",
              "      <td>NaN</td>\n",
              "      <td>NaN</td>\n",
              "      <td>NaN</td>\n",
              "      <td>NaN</td>\n",
              "      <td>NaN</td>\n",
              "      <td>NaN</td>\n",
              "    </tr>\n",
              "  </tbody>\n",
              "</table>\n",
              "<p>8230 rows × 37 columns</p>\n",
              "</div>\n",
              "      <button class=\"colab-df-convert\" onclick=\"convertToInteractive('df-b9e6bc22-cfce-4402-9232-8681aaf3e9c1')\"\n",
              "              title=\"Convert this dataframe to an interactive table.\"\n",
              "              style=\"display:none;\">\n",
              "        \n",
              "  <svg xmlns=\"http://www.w3.org/2000/svg\" height=\"24px\"viewBox=\"0 0 24 24\"\n",
              "       width=\"24px\">\n",
              "    <path d=\"M0 0h24v24H0V0z\" fill=\"none\"/>\n",
              "    <path d=\"M18.56 5.44l.94 2.06.94-2.06 2.06-.94-2.06-.94-.94-2.06-.94 2.06-2.06.94zm-11 1L8.5 8.5l.94-2.06 2.06-.94-2.06-.94L8.5 2.5l-.94 2.06-2.06.94zm10 10l.94 2.06.94-2.06 2.06-.94-2.06-.94-.94-2.06-.94 2.06-2.06.94z\"/><path d=\"M17.41 7.96l-1.37-1.37c-.4-.4-.92-.59-1.43-.59-.52 0-1.04.2-1.43.59L10.3 9.45l-7.72 7.72c-.78.78-.78 2.05 0 2.83L4 21.41c.39.39.9.59 1.41.59.51 0 1.02-.2 1.41-.59l7.78-7.78 2.81-2.81c.8-.78.8-2.07 0-2.86zM5.41 20L4 18.59l7.72-7.72 1.47 1.35L5.41 20z\"/>\n",
              "  </svg>\n",
              "      </button>\n",
              "      \n",
              "  <style>\n",
              "    .colab-df-container {\n",
              "      display:flex;\n",
              "      flex-wrap:wrap;\n",
              "      gap: 12px;\n",
              "    }\n",
              "\n",
              "    .colab-df-convert {\n",
              "      background-color: #E8F0FE;\n",
              "      border: none;\n",
              "      border-radius: 50%;\n",
              "      cursor: pointer;\n",
              "      display: none;\n",
              "      fill: #1967D2;\n",
              "      height: 32px;\n",
              "      padding: 0 0 0 0;\n",
              "      width: 32px;\n",
              "    }\n",
              "\n",
              "    .colab-df-convert:hover {\n",
              "      background-color: #E2EBFA;\n",
              "      box-shadow: 0px 1px 2px rgba(60, 64, 67, 0.3), 0px 1px 3px 1px rgba(60, 64, 67, 0.15);\n",
              "      fill: #174EA6;\n",
              "    }\n",
              "\n",
              "    [theme=dark] .colab-df-convert {\n",
              "      background-color: #3B4455;\n",
              "      fill: #D2E3FC;\n",
              "    }\n",
              "\n",
              "    [theme=dark] .colab-df-convert:hover {\n",
              "      background-color: #434B5C;\n",
              "      box-shadow: 0px 1px 3px 1px rgba(0, 0, 0, 0.15);\n",
              "      filter: drop-shadow(0px 1px 2px rgba(0, 0, 0, 0.3));\n",
              "      fill: #FFFFFF;\n",
              "    }\n",
              "  </style>\n",
              "\n",
              "      <script>\n",
              "        const buttonEl =\n",
              "          document.querySelector('#df-b9e6bc22-cfce-4402-9232-8681aaf3e9c1 button.colab-df-convert');\n",
              "        buttonEl.style.display =\n",
              "          google.colab.kernel.accessAllowed ? 'block' : 'none';\n",
              "\n",
              "        async function convertToInteractive(key) {\n",
              "          const element = document.querySelector('#df-b9e6bc22-cfce-4402-9232-8681aaf3e9c1');\n",
              "          const dataTable =\n",
              "            await google.colab.kernel.invokeFunction('convertToInteractive',\n",
              "                                                     [key], {});\n",
              "          if (!dataTable) return;\n",
              "\n",
              "          const docLinkHtml = 'Like what you see? Visit the ' +\n",
              "            '<a target=\"_blank\" href=https://colab.research.google.com/notebooks/data_table.ipynb>data table notebook</a>'\n",
              "            + ' to learn more about interactive tables.';\n",
              "          element.innerHTML = '';\n",
              "          dataTable['output_type'] = 'display_data';\n",
              "          await google.colab.output.renderOutput(dataTable, element);\n",
              "          const docLink = document.createElement('div');\n",
              "          docLink.innerHTML = docLinkHtml;\n",
              "          element.appendChild(docLink);\n",
              "        }\n",
              "      </script>\n",
              "    </div>\n",
              "  </div>\n",
              "  "
            ]
          },
          "metadata": {},
          "execution_count": 5
        }
      ],
      "source": [
        "leads = pd.read_csv('/content/Leads.csv')\n",
        "leads"
      ]
    },
    {
      "cell_type": "code",
      "execution_count": null,
      "metadata": {
        "id": "9d-LgS_3wTYR"
      },
      "outputs": [],
      "source": [
        ""
      ]
    },
    {
      "cell_type": "code",
      "execution_count": null,
      "metadata": {
        "colab": {
          "base_uri": "https://localhost:8080/"
        },
        "id": "1lQCzESNy3bz",
        "outputId": "55a58197-c11d-4caf-d957-88c36f578b9c"
      },
      "outputs": [
        {
          "output_type": "stream",
          "name": "stdout",
          "text": [
            "<class 'pandas.core.frame.DataFrame'>\n",
            "RangeIndex: 8230 entries, 0 to 8229\n",
            "Data columns (total 37 columns):\n",
            " #   Column                                         Non-Null Count  Dtype  \n",
            "---  ------                                         --------------  -----  \n",
            " 0   Prospect ID                                    8230 non-null   object \n",
            " 1   Lead Number                                    8230 non-null   int64  \n",
            " 2   Lead Origin                                    8230 non-null   object \n",
            " 3   Lead Source                                    8197 non-null   object \n",
            " 4   Do Not Email                                   8230 non-null   object \n",
            " 5   Do Not Call                                    8230 non-null   object \n",
            " 6   Converted                                      8230 non-null   int64  \n",
            " 7   TotalVisits                                    8096 non-null   float64\n",
            " 8   Total Time Spent on Website                    8230 non-null   int64  \n",
            " 9   Page Views Per Visit                           8096 non-null   float64\n",
            " 10  Last Activity                                  8130 non-null   object \n",
            " 11  Country                                        6009 non-null   object \n",
            " 12  Specialization                                 6953 non-null   object \n",
            " 13  How did you hear about X Education             6272 non-null   object \n",
            " 14  What is your current occupation                5819 non-null   object \n",
            " 15  What matters most to you in choosing a course  5801 non-null   object \n",
            " 16  Search                                         8229 non-null   object \n",
            " 17  Magazine                                       8229 non-null   object \n",
            " 18  Newspaper Article                              8229 non-null   object \n",
            " 19  X Education Forums                             8229 non-null   object \n",
            " 20  Newspaper                                      8229 non-null   object \n",
            " 21  Digital Advertisement                          8229 non-null   object \n",
            " 22  Through Recommendations                        8229 non-null   object \n",
            " 23  Receive More Updates About Our Courses         8229 non-null   object \n",
            " 24  Tags                                           5194 non-null   object \n",
            " 25  Lead Quality                                   3964 non-null   object \n",
            " 26  Update me on Supply Chain Content              8229 non-null   object \n",
            " 27  Get updates on DM Content                      8229 non-null   object \n",
            " 28  Lead Profile                                   5800 non-null   object \n",
            " 29  City                                           6972 non-null   object \n",
            " 30  Asymmetrique Activity Index                    4028 non-null   object \n",
            " 31  Asymmetrique Profile Index                     4028 non-null   object \n",
            " 32  Asymmetrique Activity Score                    4028 non-null   float64\n",
            " 33  Asymmetrique Profile Score                     4028 non-null   float64\n",
            " 34  I agree to pay the amount through cheque       8229 non-null   object \n",
            " 35  A free copy of Mastering The Interview         8229 non-null   object \n",
            " 36  Last Notable Activity                          8229 non-null   object \n",
            "dtypes: float64(4), int64(3), object(30)\n",
            "memory usage: 2.3+ MB\n"
          ]
        }
      ],
      "source": [
        "leads.info()"
      ]
    },
    {
      "cell_type": "code",
      "execution_count": null,
      "metadata": {
        "colab": {
          "base_uri": "https://localhost:8080/",
          "height": 626
        },
        "id": "Hc8v5uB700Ab",
        "outputId": "8bfbe7a4-4135-494c-c5be-165de7ee0bae"
      },
      "outputs": [
        {
          "output_type": "execute_result",
          "data": {
            "text/plain": [
              "                                 Prospect ID    Lead Number  \\\n",
              "count                                   9240    9240.000000   \n",
              "unique                                  9240            NaN   \n",
              "top     7927b2df-8bba-4d29-b9a2-b6e0beafe620            NaN   \n",
              "freq                                       1            NaN   \n",
              "mean                                     NaN  617188.435606   \n",
              "std                                      NaN   23405.995698   \n",
              "min                                      NaN  579533.000000   \n",
              "25%                                      NaN  596484.500000   \n",
              "50%                                      NaN  615479.000000   \n",
              "75%                                      NaN  637387.250000   \n",
              "max                                      NaN  660737.000000   \n",
              "\n",
              "                    Lead Origin Lead Source Do Not Email Do Not Call  \\\n",
              "count                      9240        9204         9240        9240   \n",
              "unique                        5          21            2           2   \n",
              "top     Landing Page Submission      Google           No          No   \n",
              "freq                       4886        2868         8506        9238   \n",
              "mean                        NaN         NaN          NaN         NaN   \n",
              "std                         NaN         NaN          NaN         NaN   \n",
              "min                         NaN         NaN          NaN         NaN   \n",
              "25%                         NaN         NaN          NaN         NaN   \n",
              "50%                         NaN         NaN          NaN         NaN   \n",
              "75%                         NaN         NaN          NaN         NaN   \n",
              "max                         NaN         NaN          NaN         NaN   \n",
              "\n",
              "          Converted  TotalVisits  Total Time Spent on Website  \\\n",
              "count   9240.000000  9103.000000                  9240.000000   \n",
              "unique          NaN          NaN                          NaN   \n",
              "top             NaN          NaN                          NaN   \n",
              "freq            NaN          NaN                          NaN   \n",
              "mean       0.385390     3.445238                   487.698268   \n",
              "std        0.486714     4.854853                   548.021466   \n",
              "min        0.000000     0.000000                     0.000000   \n",
              "25%        0.000000     1.000000                    12.000000   \n",
              "50%        0.000000     3.000000                   248.000000   \n",
              "75%        1.000000     5.000000                   936.000000   \n",
              "max        1.000000   251.000000                  2272.000000   \n",
              "\n",
              "        Page Views Per Visit  ... Get updates on DM Content Lead Profile  \\\n",
              "count            9103.000000  ...                      9240         6531   \n",
              "unique                   NaN  ...                         1            6   \n",
              "top                      NaN  ...                        No       Select   \n",
              "freq                     NaN  ...                      9240         4146   \n",
              "mean                2.362820  ...                       NaN          NaN   \n",
              "std                 2.161418  ...                       NaN          NaN   \n",
              "min                 0.000000  ...                       NaN          NaN   \n",
              "25%                 1.000000  ...                       NaN          NaN   \n",
              "50%                 2.000000  ...                       NaN          NaN   \n",
              "75%                 3.000000  ...                       NaN          NaN   \n",
              "max                55.000000  ...                       NaN          NaN   \n",
              "\n",
              "          City Asymmetrique Activity Index Asymmetrique Profile Index  \\\n",
              "count     7820                        5022                       5022   \n",
              "unique       7                           3                          3   \n",
              "top     Mumbai                   02.Medium                  02.Medium   \n",
              "freq      3222                        3839                       2788   \n",
              "mean       NaN                         NaN                        NaN   \n",
              "std        NaN                         NaN                        NaN   \n",
              "min        NaN                         NaN                        NaN   \n",
              "25%        NaN                         NaN                        NaN   \n",
              "50%        NaN                         NaN                        NaN   \n",
              "75%        NaN                         NaN                        NaN   \n",
              "max        NaN                         NaN                        NaN   \n",
              "\n",
              "       Asymmetrique Activity Score Asymmetrique Profile Score  \\\n",
              "count                  5022.000000                5022.000000   \n",
              "unique                         NaN                        NaN   \n",
              "top                            NaN                        NaN   \n",
              "freq                           NaN                        NaN   \n",
              "mean                     14.306252                  16.344883   \n",
              "std                       1.386694                   1.811395   \n",
              "min                       7.000000                  11.000000   \n",
              "25%                      14.000000                  15.000000   \n",
              "50%                      14.000000                  16.000000   \n",
              "75%                      15.000000                  18.000000   \n",
              "max                      18.000000                  20.000000   \n",
              "\n",
              "       I agree to pay the amount through cheque  \\\n",
              "count                                      9240   \n",
              "unique                                        1   \n",
              "top                                          No   \n",
              "freq                                       9240   \n",
              "mean                                        NaN   \n",
              "std                                         NaN   \n",
              "min                                         NaN   \n",
              "25%                                         NaN   \n",
              "50%                                         NaN   \n",
              "75%                                         NaN   \n",
              "max                                         NaN   \n",
              "\n",
              "       A free copy of Mastering The Interview Last Notable Activity  \n",
              "count                                    9240                  9240  \n",
              "unique                                      2                    16  \n",
              "top                                        No              Modified  \n",
              "freq                                     6352                  3407  \n",
              "mean                                      NaN                   NaN  \n",
              "std                                       NaN                   NaN  \n",
              "min                                       NaN                   NaN  \n",
              "25%                                       NaN                   NaN  \n",
              "50%                                       NaN                   NaN  \n",
              "75%                                       NaN                   NaN  \n",
              "max                                       NaN                   NaN  \n",
              "\n",
              "[11 rows x 37 columns]"
            ],
            "text/html": [
              "\n",
              "  <div id=\"df-c44771ba-f77c-4bac-a42b-27e4859b82b2\">\n",
              "    <div class=\"colab-df-container\">\n",
              "      <div>\n",
              "<style scoped>\n",
              "    .dataframe tbody tr th:only-of-type {\n",
              "        vertical-align: middle;\n",
              "    }\n",
              "\n",
              "    .dataframe tbody tr th {\n",
              "        vertical-align: top;\n",
              "    }\n",
              "\n",
              "    .dataframe thead th {\n",
              "        text-align: right;\n",
              "    }\n",
              "</style>\n",
              "<table border=\"1\" class=\"dataframe\">\n",
              "  <thead>\n",
              "    <tr style=\"text-align: right;\">\n",
              "      <th></th>\n",
              "      <th>Prospect ID</th>\n",
              "      <th>Lead Number</th>\n",
              "      <th>Lead Origin</th>\n",
              "      <th>Lead Source</th>\n",
              "      <th>Do Not Email</th>\n",
              "      <th>Do Not Call</th>\n",
              "      <th>Converted</th>\n",
              "      <th>TotalVisits</th>\n",
              "      <th>Total Time Spent on Website</th>\n",
              "      <th>Page Views Per Visit</th>\n",
              "      <th>...</th>\n",
              "      <th>Get updates on DM Content</th>\n",
              "      <th>Lead Profile</th>\n",
              "      <th>City</th>\n",
              "      <th>Asymmetrique Activity Index</th>\n",
              "      <th>Asymmetrique Profile Index</th>\n",
              "      <th>Asymmetrique Activity Score</th>\n",
              "      <th>Asymmetrique Profile Score</th>\n",
              "      <th>I agree to pay the amount through cheque</th>\n",
              "      <th>A free copy of Mastering The Interview</th>\n",
              "      <th>Last Notable Activity</th>\n",
              "    </tr>\n",
              "  </thead>\n",
              "  <tbody>\n",
              "    <tr>\n",
              "      <th>count</th>\n",
              "      <td>9240</td>\n",
              "      <td>9240.000000</td>\n",
              "      <td>9240</td>\n",
              "      <td>9204</td>\n",
              "      <td>9240</td>\n",
              "      <td>9240</td>\n",
              "      <td>9240.000000</td>\n",
              "      <td>9103.000000</td>\n",
              "      <td>9240.000000</td>\n",
              "      <td>9103.000000</td>\n",
              "      <td>...</td>\n",
              "      <td>9240</td>\n",
              "      <td>6531</td>\n",
              "      <td>7820</td>\n",
              "      <td>5022</td>\n",
              "      <td>5022</td>\n",
              "      <td>5022.000000</td>\n",
              "      <td>5022.000000</td>\n",
              "      <td>9240</td>\n",
              "      <td>9240</td>\n",
              "      <td>9240</td>\n",
              "    </tr>\n",
              "    <tr>\n",
              "      <th>unique</th>\n",
              "      <td>9240</td>\n",
              "      <td>NaN</td>\n",
              "      <td>5</td>\n",
              "      <td>21</td>\n",
              "      <td>2</td>\n",
              "      <td>2</td>\n",
              "      <td>NaN</td>\n",
              "      <td>NaN</td>\n",
              "      <td>NaN</td>\n",
              "      <td>NaN</td>\n",
              "      <td>...</td>\n",
              "      <td>1</td>\n",
              "      <td>6</td>\n",
              "      <td>7</td>\n",
              "      <td>3</td>\n",
              "      <td>3</td>\n",
              "      <td>NaN</td>\n",
              "      <td>NaN</td>\n",
              "      <td>1</td>\n",
              "      <td>2</td>\n",
              "      <td>16</td>\n",
              "    </tr>\n",
              "    <tr>\n",
              "      <th>top</th>\n",
              "      <td>7927b2df-8bba-4d29-b9a2-b6e0beafe620</td>\n",
              "      <td>NaN</td>\n",
              "      <td>Landing Page Submission</td>\n",
              "      <td>Google</td>\n",
              "      <td>No</td>\n",
              "      <td>No</td>\n",
              "      <td>NaN</td>\n",
              "      <td>NaN</td>\n",
              "      <td>NaN</td>\n",
              "      <td>NaN</td>\n",
              "      <td>...</td>\n",
              "      <td>No</td>\n",
              "      <td>Select</td>\n",
              "      <td>Mumbai</td>\n",
              "      <td>02.Medium</td>\n",
              "      <td>02.Medium</td>\n",
              "      <td>NaN</td>\n",
              "      <td>NaN</td>\n",
              "      <td>No</td>\n",
              "      <td>No</td>\n",
              "      <td>Modified</td>\n",
              "    </tr>\n",
              "    <tr>\n",
              "      <th>freq</th>\n",
              "      <td>1</td>\n",
              "      <td>NaN</td>\n",
              "      <td>4886</td>\n",
              "      <td>2868</td>\n",
              "      <td>8506</td>\n",
              "      <td>9238</td>\n",
              "      <td>NaN</td>\n",
              "      <td>NaN</td>\n",
              "      <td>NaN</td>\n",
              "      <td>NaN</td>\n",
              "      <td>...</td>\n",
              "      <td>9240</td>\n",
              "      <td>4146</td>\n",
              "      <td>3222</td>\n",
              "      <td>3839</td>\n",
              "      <td>2788</td>\n",
              "      <td>NaN</td>\n",
              "      <td>NaN</td>\n",
              "      <td>9240</td>\n",
              "      <td>6352</td>\n",
              "      <td>3407</td>\n",
              "    </tr>\n",
              "    <tr>\n",
              "      <th>mean</th>\n",
              "      <td>NaN</td>\n",
              "      <td>617188.435606</td>\n",
              "      <td>NaN</td>\n",
              "      <td>NaN</td>\n",
              "      <td>NaN</td>\n",
              "      <td>NaN</td>\n",
              "      <td>0.385390</td>\n",
              "      <td>3.445238</td>\n",
              "      <td>487.698268</td>\n",
              "      <td>2.362820</td>\n",
              "      <td>...</td>\n",
              "      <td>NaN</td>\n",
              "      <td>NaN</td>\n",
              "      <td>NaN</td>\n",
              "      <td>NaN</td>\n",
              "      <td>NaN</td>\n",
              "      <td>14.306252</td>\n",
              "      <td>16.344883</td>\n",
              "      <td>NaN</td>\n",
              "      <td>NaN</td>\n",
              "      <td>NaN</td>\n",
              "    </tr>\n",
              "    <tr>\n",
              "      <th>std</th>\n",
              "      <td>NaN</td>\n",
              "      <td>23405.995698</td>\n",
              "      <td>NaN</td>\n",
              "      <td>NaN</td>\n",
              "      <td>NaN</td>\n",
              "      <td>NaN</td>\n",
              "      <td>0.486714</td>\n",
              "      <td>4.854853</td>\n",
              "      <td>548.021466</td>\n",
              "      <td>2.161418</td>\n",
              "      <td>...</td>\n",
              "      <td>NaN</td>\n",
              "      <td>NaN</td>\n",
              "      <td>NaN</td>\n",
              "      <td>NaN</td>\n",
              "      <td>NaN</td>\n",
              "      <td>1.386694</td>\n",
              "      <td>1.811395</td>\n",
              "      <td>NaN</td>\n",
              "      <td>NaN</td>\n",
              "      <td>NaN</td>\n",
              "    </tr>\n",
              "    <tr>\n",
              "      <th>min</th>\n",
              "      <td>NaN</td>\n",
              "      <td>579533.000000</td>\n",
              "      <td>NaN</td>\n",
              "      <td>NaN</td>\n",
              "      <td>NaN</td>\n",
              "      <td>NaN</td>\n",
              "      <td>0.000000</td>\n",
              "      <td>0.000000</td>\n",
              "      <td>0.000000</td>\n",
              "      <td>0.000000</td>\n",
              "      <td>...</td>\n",
              "      <td>NaN</td>\n",
              "      <td>NaN</td>\n",
              "      <td>NaN</td>\n",
              "      <td>NaN</td>\n",
              "      <td>NaN</td>\n",
              "      <td>7.000000</td>\n",
              "      <td>11.000000</td>\n",
              "      <td>NaN</td>\n",
              "      <td>NaN</td>\n",
              "      <td>NaN</td>\n",
              "    </tr>\n",
              "    <tr>\n",
              "      <th>25%</th>\n",
              "      <td>NaN</td>\n",
              "      <td>596484.500000</td>\n",
              "      <td>NaN</td>\n",
              "      <td>NaN</td>\n",
              "      <td>NaN</td>\n",
              "      <td>NaN</td>\n",
              "      <td>0.000000</td>\n",
              "      <td>1.000000</td>\n",
              "      <td>12.000000</td>\n",
              "      <td>1.000000</td>\n",
              "      <td>...</td>\n",
              "      <td>NaN</td>\n",
              "      <td>NaN</td>\n",
              "      <td>NaN</td>\n",
              "      <td>NaN</td>\n",
              "      <td>NaN</td>\n",
              "      <td>14.000000</td>\n",
              "      <td>15.000000</td>\n",
              "      <td>NaN</td>\n",
              "      <td>NaN</td>\n",
              "      <td>NaN</td>\n",
              "    </tr>\n",
              "    <tr>\n",
              "      <th>50%</th>\n",
              "      <td>NaN</td>\n",
              "      <td>615479.000000</td>\n",
              "      <td>NaN</td>\n",
              "      <td>NaN</td>\n",
              "      <td>NaN</td>\n",
              "      <td>NaN</td>\n",
              "      <td>0.000000</td>\n",
              "      <td>3.000000</td>\n",
              "      <td>248.000000</td>\n",
              "      <td>2.000000</td>\n",
              "      <td>...</td>\n",
              "      <td>NaN</td>\n",
              "      <td>NaN</td>\n",
              "      <td>NaN</td>\n",
              "      <td>NaN</td>\n",
              "      <td>NaN</td>\n",
              "      <td>14.000000</td>\n",
              "      <td>16.000000</td>\n",
              "      <td>NaN</td>\n",
              "      <td>NaN</td>\n",
              "      <td>NaN</td>\n",
              "    </tr>\n",
              "    <tr>\n",
              "      <th>75%</th>\n",
              "      <td>NaN</td>\n",
              "      <td>637387.250000</td>\n",
              "      <td>NaN</td>\n",
              "      <td>NaN</td>\n",
              "      <td>NaN</td>\n",
              "      <td>NaN</td>\n",
              "      <td>1.000000</td>\n",
              "      <td>5.000000</td>\n",
              "      <td>936.000000</td>\n",
              "      <td>3.000000</td>\n",
              "      <td>...</td>\n",
              "      <td>NaN</td>\n",
              "      <td>NaN</td>\n",
              "      <td>NaN</td>\n",
              "      <td>NaN</td>\n",
              "      <td>NaN</td>\n",
              "      <td>15.000000</td>\n",
              "      <td>18.000000</td>\n",
              "      <td>NaN</td>\n",
              "      <td>NaN</td>\n",
              "      <td>NaN</td>\n",
              "    </tr>\n",
              "    <tr>\n",
              "      <th>max</th>\n",
              "      <td>NaN</td>\n",
              "      <td>660737.000000</td>\n",
              "      <td>NaN</td>\n",
              "      <td>NaN</td>\n",
              "      <td>NaN</td>\n",
              "      <td>NaN</td>\n",
              "      <td>1.000000</td>\n",
              "      <td>251.000000</td>\n",
              "      <td>2272.000000</td>\n",
              "      <td>55.000000</td>\n",
              "      <td>...</td>\n",
              "      <td>NaN</td>\n",
              "      <td>NaN</td>\n",
              "      <td>NaN</td>\n",
              "      <td>NaN</td>\n",
              "      <td>NaN</td>\n",
              "      <td>18.000000</td>\n",
              "      <td>20.000000</td>\n",
              "      <td>NaN</td>\n",
              "      <td>NaN</td>\n",
              "      <td>NaN</td>\n",
              "    </tr>\n",
              "  </tbody>\n",
              "</table>\n",
              "<p>11 rows × 37 columns</p>\n",
              "</div>\n",
              "      <button class=\"colab-df-convert\" onclick=\"convertToInteractive('df-c44771ba-f77c-4bac-a42b-27e4859b82b2')\"\n",
              "              title=\"Convert this dataframe to an interactive table.\"\n",
              "              style=\"display:none;\">\n",
              "        \n",
              "  <svg xmlns=\"http://www.w3.org/2000/svg\" height=\"24px\"viewBox=\"0 0 24 24\"\n",
              "       width=\"24px\">\n",
              "    <path d=\"M0 0h24v24H0V0z\" fill=\"none\"/>\n",
              "    <path d=\"M18.56 5.44l.94 2.06.94-2.06 2.06-.94-2.06-.94-.94-2.06-.94 2.06-2.06.94zm-11 1L8.5 8.5l.94-2.06 2.06-.94-2.06-.94L8.5 2.5l-.94 2.06-2.06.94zm10 10l.94 2.06.94-2.06 2.06-.94-2.06-.94-.94-2.06-.94 2.06-2.06.94z\"/><path d=\"M17.41 7.96l-1.37-1.37c-.4-.4-.92-.59-1.43-.59-.52 0-1.04.2-1.43.59L10.3 9.45l-7.72 7.72c-.78.78-.78 2.05 0 2.83L4 21.41c.39.39.9.59 1.41.59.51 0 1.02-.2 1.41-.59l7.78-7.78 2.81-2.81c.8-.78.8-2.07 0-2.86zM5.41 20L4 18.59l7.72-7.72 1.47 1.35L5.41 20z\"/>\n",
              "  </svg>\n",
              "      </button>\n",
              "      \n",
              "  <style>\n",
              "    .colab-df-container {\n",
              "      display:flex;\n",
              "      flex-wrap:wrap;\n",
              "      gap: 12px;\n",
              "    }\n",
              "\n",
              "    .colab-df-convert {\n",
              "      background-color: #E8F0FE;\n",
              "      border: none;\n",
              "      border-radius: 50%;\n",
              "      cursor: pointer;\n",
              "      display: none;\n",
              "      fill: #1967D2;\n",
              "      height: 32px;\n",
              "      padding: 0 0 0 0;\n",
              "      width: 32px;\n",
              "    }\n",
              "\n",
              "    .colab-df-convert:hover {\n",
              "      background-color: #E2EBFA;\n",
              "      box-shadow: 0px 1px 2px rgba(60, 64, 67, 0.3), 0px 1px 3px 1px rgba(60, 64, 67, 0.15);\n",
              "      fill: #174EA6;\n",
              "    }\n",
              "\n",
              "    [theme=dark] .colab-df-convert {\n",
              "      background-color: #3B4455;\n",
              "      fill: #D2E3FC;\n",
              "    }\n",
              "\n",
              "    [theme=dark] .colab-df-convert:hover {\n",
              "      background-color: #434B5C;\n",
              "      box-shadow: 0px 1px 3px 1px rgba(0, 0, 0, 0.15);\n",
              "      filter: drop-shadow(0px 1px 2px rgba(0, 0, 0, 0.3));\n",
              "      fill: #FFFFFF;\n",
              "    }\n",
              "  </style>\n",
              "\n",
              "      <script>\n",
              "        const buttonEl =\n",
              "          document.querySelector('#df-c44771ba-f77c-4bac-a42b-27e4859b82b2 button.colab-df-convert');\n",
              "        buttonEl.style.display =\n",
              "          google.colab.kernel.accessAllowed ? 'block' : 'none';\n",
              "\n",
              "        async function convertToInteractive(key) {\n",
              "          const element = document.querySelector('#df-c44771ba-f77c-4bac-a42b-27e4859b82b2');\n",
              "          const dataTable =\n",
              "            await google.colab.kernel.invokeFunction('convertToInteractive',\n",
              "                                                     [key], {});\n",
              "          if (!dataTable) return;\n",
              "\n",
              "          const docLinkHtml = 'Like what you see? Visit the ' +\n",
              "            '<a target=\"_blank\" href=https://colab.research.google.com/notebooks/data_table.ipynb>data table notebook</a>'\n",
              "            + ' to learn more about interactive tables.';\n",
              "          element.innerHTML = '';\n",
              "          dataTable['output_type'] = 'display_data';\n",
              "          await google.colab.output.renderOutput(dataTable, element);\n",
              "          const docLink = document.createElement('div');\n",
              "          docLink.innerHTML = docLinkHtml;\n",
              "          element.appendChild(docLink);\n",
              "        }\n",
              "      </script>\n",
              "    </div>\n",
              "  </div>\n",
              "  "
            ]
          },
          "metadata": {},
          "execution_count": 75
        }
      ],
      "source": [
        "leads.describe(include='all')"
      ]
    },
    {
      "cell_type": "code",
      "execution_count": null,
      "metadata": {
        "colab": {
          "base_uri": "https://localhost:8080/",
          "height": 1000
        },
        "id": "LCP9jQzh012Z",
        "outputId": "2a0f8d91-07f7-4345-910f-54055fe1f6a7"
      },
      "outputs": [
        {
          "output_type": "execute_result",
          "data": {
            "text/plain": [
              "    Unnamed: 0                                        Unnamed: 1  \\\n",
              "0          NaN                                               NaN   \n",
              "1          NaN                                         Variables   \n",
              "2          NaN                                       Prospect ID   \n",
              "3          NaN                                       Lead Number   \n",
              "4          NaN                                       Lead Origin   \n",
              "5          NaN                                       Lead Source   \n",
              "6          NaN                                      Do Not Email   \n",
              "7          NaN                                       Do Not Call   \n",
              "8          NaN                                         Converted   \n",
              "9          NaN                                       TotalVisits   \n",
              "10         NaN                       Total Time Spent on Website   \n",
              "11         NaN                              Page Views Per Visit   \n",
              "12         NaN                                     Last Activity   \n",
              "13         NaN                                           Country   \n",
              "14         NaN                                    Specialization   \n",
              "15         NaN                How did you hear about X Education   \n",
              "16         NaN                   What is your current occupation   \n",
              "17         NaN  What matters most to you in choosing this course   \n",
              "18         NaN                                            Search   \n",
              "19         NaN                                          Magazine   \n",
              "20         NaN                                 Newspaper Article   \n",
              "21         NaN                                X Education Forums   \n",
              "22         NaN                                         Newspaper   \n",
              "23         NaN                             Digital Advertisement   \n",
              "24         NaN                           Through Recommendations   \n",
              "25         NaN            Receive More Updates About Our Courses   \n",
              "26         NaN                                              Tags   \n",
              "27         NaN                                      Lead Quality   \n",
              "28         NaN                 Update me on Supply Chain Content   \n",
              "29         NaN                         Get updates on DM Content   \n",
              "30         NaN                                      Lead Profile   \n",
              "31         NaN                                              City   \n",
              "32         NaN                       Asymmetrique Activity Index   \n",
              "33         NaN                        Asymmetrique Profile Index   \n",
              "34         NaN                       Asymmetrique Activity Score   \n",
              "35         NaN                        Asymmetrique Profile Score   \n",
              "36         NaN          I agree to pay the amount through cheque   \n",
              "37         NaN            a free copy of Mastering The Interview   \n",
              "38         NaN                             Last Notable Activity   \n",
              "\n",
              "                                           Unnamed: 2  \n",
              "0                                                 NaN  \n",
              "1                                         Description  \n",
              "2   A unique ID with which the customer is identif...  \n",
              "3       A lead number assigned to each lead procured.  \n",
              "4   The origin identifier with which the customer ...  \n",
              "5   The source of the lead. Includes Google, Organ...  \n",
              "6   An indicator variable selected by the customer...  \n",
              "7   An indicator variable selected by the customer...  \n",
              "8   The target variable. Indicates whether a lead ...  \n",
              "9   The total number of visits made by the custome...  \n",
              "10  The total time spent by the customer on the we...  \n",
              "11  Average number of pages on the website viewed ...  \n",
              "12  Last activity performed by the customer. Inclu...  \n",
              "13                       The country of the customer.  \n",
              "14  The industry domain in which the customer work...  \n",
              "15  The source from which the customer heard about...  \n",
              "16  Indicates whether the customer is a student, u...  \n",
              "17  An option selected by the customer indicating ...  \n",
              "18  Indicating whether the customer had seen the a...  \n",
              "19                                                NaN  \n",
              "20                                                NaN  \n",
              "21                                                NaN  \n",
              "22                                                NaN  \n",
              "23                                                NaN  \n",
              "24  Indicates whether the customer came in through...  \n",
              "25  Indicates whether the customer chose to receiv...  \n",
              "26  Tags assigned to customers indicating the curr...  \n",
              "27  Indicates the quality of lead based on the dat...  \n",
              "28  Indicates whether the customer wants updates o...  \n",
              "29  Indicates whether the customer wants updates o...  \n",
              "30  A lead level assigned to each customer based o...  \n",
              "31                          The city of the customer.  \n",
              "32  An index and score assigned to each customer b...  \n",
              "33                                                NaN  \n",
              "34                                                NaN  \n",
              "35                                                NaN  \n",
              "36  Indicates whether the customer has agreed to p...  \n",
              "37  Indicates whether the customer wants a free co...  \n",
              "38  The last notable acitivity performed by the st...  "
            ],
            "text/html": [
              "\n",
              "  <div id=\"df-1501841d-859e-42fd-a43f-2bdd3cb25a5f\">\n",
              "    <div class=\"colab-df-container\">\n",
              "      <div>\n",
              "<style scoped>\n",
              "    .dataframe tbody tr th:only-of-type {\n",
              "        vertical-align: middle;\n",
              "    }\n",
              "\n",
              "    .dataframe tbody tr th {\n",
              "        vertical-align: top;\n",
              "    }\n",
              "\n",
              "    .dataframe thead th {\n",
              "        text-align: right;\n",
              "    }\n",
              "</style>\n",
              "<table border=\"1\" class=\"dataframe\">\n",
              "  <thead>\n",
              "    <tr style=\"text-align: right;\">\n",
              "      <th></th>\n",
              "      <th>Unnamed: 0</th>\n",
              "      <th>Unnamed: 1</th>\n",
              "      <th>Unnamed: 2</th>\n",
              "    </tr>\n",
              "  </thead>\n",
              "  <tbody>\n",
              "    <tr>\n",
              "      <th>0</th>\n",
              "      <td>NaN</td>\n",
              "      <td>NaN</td>\n",
              "      <td>NaN</td>\n",
              "    </tr>\n",
              "    <tr>\n",
              "      <th>1</th>\n",
              "      <td>NaN</td>\n",
              "      <td>Variables</td>\n",
              "      <td>Description</td>\n",
              "    </tr>\n",
              "    <tr>\n",
              "      <th>2</th>\n",
              "      <td>NaN</td>\n",
              "      <td>Prospect ID</td>\n",
              "      <td>A unique ID with which the customer is identif...</td>\n",
              "    </tr>\n",
              "    <tr>\n",
              "      <th>3</th>\n",
              "      <td>NaN</td>\n",
              "      <td>Lead Number</td>\n",
              "      <td>A lead number assigned to each lead procured.</td>\n",
              "    </tr>\n",
              "    <tr>\n",
              "      <th>4</th>\n",
              "      <td>NaN</td>\n",
              "      <td>Lead Origin</td>\n",
              "      <td>The origin identifier with which the customer ...</td>\n",
              "    </tr>\n",
              "    <tr>\n",
              "      <th>5</th>\n",
              "      <td>NaN</td>\n",
              "      <td>Lead Source</td>\n",
              "      <td>The source of the lead. Includes Google, Organ...</td>\n",
              "    </tr>\n",
              "    <tr>\n",
              "      <th>6</th>\n",
              "      <td>NaN</td>\n",
              "      <td>Do Not Email</td>\n",
              "      <td>An indicator variable selected by the customer...</td>\n",
              "    </tr>\n",
              "    <tr>\n",
              "      <th>7</th>\n",
              "      <td>NaN</td>\n",
              "      <td>Do Not Call</td>\n",
              "      <td>An indicator variable selected by the customer...</td>\n",
              "    </tr>\n",
              "    <tr>\n",
              "      <th>8</th>\n",
              "      <td>NaN</td>\n",
              "      <td>Converted</td>\n",
              "      <td>The target variable. Indicates whether a lead ...</td>\n",
              "    </tr>\n",
              "    <tr>\n",
              "      <th>9</th>\n",
              "      <td>NaN</td>\n",
              "      <td>TotalVisits</td>\n",
              "      <td>The total number of visits made by the custome...</td>\n",
              "    </tr>\n",
              "    <tr>\n",
              "      <th>10</th>\n",
              "      <td>NaN</td>\n",
              "      <td>Total Time Spent on Website</td>\n",
              "      <td>The total time spent by the customer on the we...</td>\n",
              "    </tr>\n",
              "    <tr>\n",
              "      <th>11</th>\n",
              "      <td>NaN</td>\n",
              "      <td>Page Views Per Visit</td>\n",
              "      <td>Average number of pages on the website viewed ...</td>\n",
              "    </tr>\n",
              "    <tr>\n",
              "      <th>12</th>\n",
              "      <td>NaN</td>\n",
              "      <td>Last Activity</td>\n",
              "      <td>Last activity performed by the customer. Inclu...</td>\n",
              "    </tr>\n",
              "    <tr>\n",
              "      <th>13</th>\n",
              "      <td>NaN</td>\n",
              "      <td>Country</td>\n",
              "      <td>The country of the customer.</td>\n",
              "    </tr>\n",
              "    <tr>\n",
              "      <th>14</th>\n",
              "      <td>NaN</td>\n",
              "      <td>Specialization</td>\n",
              "      <td>The industry domain in which the customer work...</td>\n",
              "    </tr>\n",
              "    <tr>\n",
              "      <th>15</th>\n",
              "      <td>NaN</td>\n",
              "      <td>How did you hear about X Education</td>\n",
              "      <td>The source from which the customer heard about...</td>\n",
              "    </tr>\n",
              "    <tr>\n",
              "      <th>16</th>\n",
              "      <td>NaN</td>\n",
              "      <td>What is your current occupation</td>\n",
              "      <td>Indicates whether the customer is a student, u...</td>\n",
              "    </tr>\n",
              "    <tr>\n",
              "      <th>17</th>\n",
              "      <td>NaN</td>\n",
              "      <td>What matters most to you in choosing this course</td>\n",
              "      <td>An option selected by the customer indicating ...</td>\n",
              "    </tr>\n",
              "    <tr>\n",
              "      <th>18</th>\n",
              "      <td>NaN</td>\n",
              "      <td>Search</td>\n",
              "      <td>Indicating whether the customer had seen the a...</td>\n",
              "    </tr>\n",
              "    <tr>\n",
              "      <th>19</th>\n",
              "      <td>NaN</td>\n",
              "      <td>Magazine</td>\n",
              "      <td>NaN</td>\n",
              "    </tr>\n",
              "    <tr>\n",
              "      <th>20</th>\n",
              "      <td>NaN</td>\n",
              "      <td>Newspaper Article</td>\n",
              "      <td>NaN</td>\n",
              "    </tr>\n",
              "    <tr>\n",
              "      <th>21</th>\n",
              "      <td>NaN</td>\n",
              "      <td>X Education Forums</td>\n",
              "      <td>NaN</td>\n",
              "    </tr>\n",
              "    <tr>\n",
              "      <th>22</th>\n",
              "      <td>NaN</td>\n",
              "      <td>Newspaper</td>\n",
              "      <td>NaN</td>\n",
              "    </tr>\n",
              "    <tr>\n",
              "      <th>23</th>\n",
              "      <td>NaN</td>\n",
              "      <td>Digital Advertisement</td>\n",
              "      <td>NaN</td>\n",
              "    </tr>\n",
              "    <tr>\n",
              "      <th>24</th>\n",
              "      <td>NaN</td>\n",
              "      <td>Through Recommendations</td>\n",
              "      <td>Indicates whether the customer came in through...</td>\n",
              "    </tr>\n",
              "    <tr>\n",
              "      <th>25</th>\n",
              "      <td>NaN</td>\n",
              "      <td>Receive More Updates About Our Courses</td>\n",
              "      <td>Indicates whether the customer chose to receiv...</td>\n",
              "    </tr>\n",
              "    <tr>\n",
              "      <th>26</th>\n",
              "      <td>NaN</td>\n",
              "      <td>Tags</td>\n",
              "      <td>Tags assigned to customers indicating the curr...</td>\n",
              "    </tr>\n",
              "    <tr>\n",
              "      <th>27</th>\n",
              "      <td>NaN</td>\n",
              "      <td>Lead Quality</td>\n",
              "      <td>Indicates the quality of lead based on the dat...</td>\n",
              "    </tr>\n",
              "    <tr>\n",
              "      <th>28</th>\n",
              "      <td>NaN</td>\n",
              "      <td>Update me on Supply Chain Content</td>\n",
              "      <td>Indicates whether the customer wants updates o...</td>\n",
              "    </tr>\n",
              "    <tr>\n",
              "      <th>29</th>\n",
              "      <td>NaN</td>\n",
              "      <td>Get updates on DM Content</td>\n",
              "      <td>Indicates whether the customer wants updates o...</td>\n",
              "    </tr>\n",
              "    <tr>\n",
              "      <th>30</th>\n",
              "      <td>NaN</td>\n",
              "      <td>Lead Profile</td>\n",
              "      <td>A lead level assigned to each customer based o...</td>\n",
              "    </tr>\n",
              "    <tr>\n",
              "      <th>31</th>\n",
              "      <td>NaN</td>\n",
              "      <td>City</td>\n",
              "      <td>The city of the customer.</td>\n",
              "    </tr>\n",
              "    <tr>\n",
              "      <th>32</th>\n",
              "      <td>NaN</td>\n",
              "      <td>Asymmetrique Activity Index</td>\n",
              "      <td>An index and score assigned to each customer b...</td>\n",
              "    </tr>\n",
              "    <tr>\n",
              "      <th>33</th>\n",
              "      <td>NaN</td>\n",
              "      <td>Asymmetrique Profile Index</td>\n",
              "      <td>NaN</td>\n",
              "    </tr>\n",
              "    <tr>\n",
              "      <th>34</th>\n",
              "      <td>NaN</td>\n",
              "      <td>Asymmetrique Activity Score</td>\n",
              "      <td>NaN</td>\n",
              "    </tr>\n",
              "    <tr>\n",
              "      <th>35</th>\n",
              "      <td>NaN</td>\n",
              "      <td>Asymmetrique Profile Score</td>\n",
              "      <td>NaN</td>\n",
              "    </tr>\n",
              "    <tr>\n",
              "      <th>36</th>\n",
              "      <td>NaN</td>\n",
              "      <td>I agree to pay the amount through cheque</td>\n",
              "      <td>Indicates whether the customer has agreed to p...</td>\n",
              "    </tr>\n",
              "    <tr>\n",
              "      <th>37</th>\n",
              "      <td>NaN</td>\n",
              "      <td>a free copy of Mastering The Interview</td>\n",
              "      <td>Indicates whether the customer wants a free co...</td>\n",
              "    </tr>\n",
              "    <tr>\n",
              "      <th>38</th>\n",
              "      <td>NaN</td>\n",
              "      <td>Last Notable Activity</td>\n",
              "      <td>The last notable acitivity performed by the st...</td>\n",
              "    </tr>\n",
              "  </tbody>\n",
              "</table>\n",
              "</div>\n",
              "      <button class=\"colab-df-convert\" onclick=\"convertToInteractive('df-1501841d-859e-42fd-a43f-2bdd3cb25a5f')\"\n",
              "              title=\"Convert this dataframe to an interactive table.\"\n",
              "              style=\"display:none;\">\n",
              "        \n",
              "  <svg xmlns=\"http://www.w3.org/2000/svg\" height=\"24px\"viewBox=\"0 0 24 24\"\n",
              "       width=\"24px\">\n",
              "    <path d=\"M0 0h24v24H0V0z\" fill=\"none\"/>\n",
              "    <path d=\"M18.56 5.44l.94 2.06.94-2.06 2.06-.94-2.06-.94-.94-2.06-.94 2.06-2.06.94zm-11 1L8.5 8.5l.94-2.06 2.06-.94-2.06-.94L8.5 2.5l-.94 2.06-2.06.94zm10 10l.94 2.06.94-2.06 2.06-.94-2.06-.94-.94-2.06-.94 2.06-2.06.94z\"/><path d=\"M17.41 7.96l-1.37-1.37c-.4-.4-.92-.59-1.43-.59-.52 0-1.04.2-1.43.59L10.3 9.45l-7.72 7.72c-.78.78-.78 2.05 0 2.83L4 21.41c.39.39.9.59 1.41.59.51 0 1.02-.2 1.41-.59l7.78-7.78 2.81-2.81c.8-.78.8-2.07 0-2.86zM5.41 20L4 18.59l7.72-7.72 1.47 1.35L5.41 20z\"/>\n",
              "  </svg>\n",
              "      </button>\n",
              "      \n",
              "  <style>\n",
              "    .colab-df-container {\n",
              "      display:flex;\n",
              "      flex-wrap:wrap;\n",
              "      gap: 12px;\n",
              "    }\n",
              "\n",
              "    .colab-df-convert {\n",
              "      background-color: #E8F0FE;\n",
              "      border: none;\n",
              "      border-radius: 50%;\n",
              "      cursor: pointer;\n",
              "      display: none;\n",
              "      fill: #1967D2;\n",
              "      height: 32px;\n",
              "      padding: 0 0 0 0;\n",
              "      width: 32px;\n",
              "    }\n",
              "\n",
              "    .colab-df-convert:hover {\n",
              "      background-color: #E2EBFA;\n",
              "      box-shadow: 0px 1px 2px rgba(60, 64, 67, 0.3), 0px 1px 3px 1px rgba(60, 64, 67, 0.15);\n",
              "      fill: #174EA6;\n",
              "    }\n",
              "\n",
              "    [theme=dark] .colab-df-convert {\n",
              "      background-color: #3B4455;\n",
              "      fill: #D2E3FC;\n",
              "    }\n",
              "\n",
              "    [theme=dark] .colab-df-convert:hover {\n",
              "      background-color: #434B5C;\n",
              "      box-shadow: 0px 1px 3px 1px rgba(0, 0, 0, 0.15);\n",
              "      filter: drop-shadow(0px 1px 2px rgba(0, 0, 0, 0.3));\n",
              "      fill: #FFFFFF;\n",
              "    }\n",
              "  </style>\n",
              "\n",
              "      <script>\n",
              "        const buttonEl =\n",
              "          document.querySelector('#df-1501841d-859e-42fd-a43f-2bdd3cb25a5f button.colab-df-convert');\n",
              "        buttonEl.style.display =\n",
              "          google.colab.kernel.accessAllowed ? 'block' : 'none';\n",
              "\n",
              "        async function convertToInteractive(key) {\n",
              "          const element = document.querySelector('#df-1501841d-859e-42fd-a43f-2bdd3cb25a5f');\n",
              "          const dataTable =\n",
              "            await google.colab.kernel.invokeFunction('convertToInteractive',\n",
              "                                                     [key], {});\n",
              "          if (!dataTable) return;\n",
              "\n",
              "          const docLinkHtml = 'Like what you see? Visit the ' +\n",
              "            '<a target=\"_blank\" href=https://colab.research.google.com/notebooks/data_table.ipynb>data table notebook</a>'\n",
              "            + ' to learn more about interactive tables.';\n",
              "          element.innerHTML = '';\n",
              "          dataTable['output_type'] = 'display_data';\n",
              "          await google.colab.output.renderOutput(dataTable, element);\n",
              "          const docLink = document.createElement('div');\n",
              "          docLink.innerHTML = docLinkHtml;\n",
              "          element.appendChild(docLink);\n",
              "        }\n",
              "      </script>\n",
              "    </div>\n",
              "  </div>\n",
              "  "
            ]
          },
          "metadata": {},
          "execution_count": 7
        }
      ],
      "source": [
        "pd.read_excel(\"/content/Leads Data Dictionary.xlsx\")"
      ]
    },
    {
      "cell_type": "code",
      "source": [
        "leads.describe(include=np.object)"
      ],
      "metadata": {
        "colab": {
          "base_uri": "https://localhost:8080/",
          "height": 407
        },
        "id": "eLujsDL7jtQX",
        "outputId": "f89f2d8c-c4d2-4ea6-c3f0-002a473b401c"
      },
      "execution_count": null,
      "outputs": [
        {
          "output_type": "execute_result",
          "data": {
            "text/plain": [
              "                                 Prospect ID              Lead Origin  \\\n",
              "count                                   8230                     8230   \n",
              "unique                                  8230                        5   \n",
              "top     7927b2df-8bba-4d29-b9a2-b6e0beafe620  Landing Page Submission   \n",
              "freq                                       1                     4295   \n",
              "\n",
              "       Lead Source Do Not Email Do Not Call Last Activity Country  \\\n",
              "count         8197         8230        8230          8130    6009   \n",
              "unique          20            2           2            17      37   \n",
              "top         Google           No          No  Email Opened   India   \n",
              "freq          2607         7603        8228          3083    5769   \n",
              "\n",
              "       Specialization How did you hear about X Education  \\\n",
              "count            6953                               6272   \n",
              "unique             19                                 10   \n",
              "top            Select                             Select   \n",
              "freq             1752                               4452   \n",
              "\n",
              "       What is your current occupation  ... Lead Quality  \\\n",
              "count                             5819  ...         3964   \n",
              "unique                               6  ...            5   \n",
              "top                         Unemployed  ...     Might be   \n",
              "freq                              4969  ...         1403   \n",
              "\n",
              "       Update me on Supply Chain Content Get updates on DM Content  \\\n",
              "count                               8229                      8229   \n",
              "unique                                 1                         1   \n",
              "top                                   No                        No   \n",
              "freq                                8229                      8229   \n",
              "\n",
              "       Lead Profile    City Asymmetrique Activity Index  \\\n",
              "count          5800    6972                        4028   \n",
              "unique            6       7                           3   \n",
              "top          Select  Mumbai                   02.Medium   \n",
              "freq           3887    2834                        3093   \n",
              "\n",
              "       Asymmetrique Profile Index I agree to pay the amount through cheque  \\\n",
              "count                        4028                                     8229   \n",
              "unique                          3                                        1   \n",
              "top                     02.Medium                                       No   \n",
              "freq                         2291                                     8229   \n",
              "\n",
              "       A free copy of Mastering The Interview Last Notable Activity  \n",
              "count                                    8229                  8229  \n",
              "unique                                      2                    16  \n",
              "top                                        No              Modified  \n",
              "freq                                     5752                  2971  \n",
              "\n",
              "[4 rows x 30 columns]"
            ],
            "text/html": [
              "\n",
              "  <div id=\"df-cf79ce37-1750-4b8e-bcb4-2011e356944e\">\n",
              "    <div class=\"colab-df-container\">\n",
              "      <div>\n",
              "<style scoped>\n",
              "    .dataframe tbody tr th:only-of-type {\n",
              "        vertical-align: middle;\n",
              "    }\n",
              "\n",
              "    .dataframe tbody tr th {\n",
              "        vertical-align: top;\n",
              "    }\n",
              "\n",
              "    .dataframe thead th {\n",
              "        text-align: right;\n",
              "    }\n",
              "</style>\n",
              "<table border=\"1\" class=\"dataframe\">\n",
              "  <thead>\n",
              "    <tr style=\"text-align: right;\">\n",
              "      <th></th>\n",
              "      <th>Prospect ID</th>\n",
              "      <th>Lead Origin</th>\n",
              "      <th>Lead Source</th>\n",
              "      <th>Do Not Email</th>\n",
              "      <th>Do Not Call</th>\n",
              "      <th>Last Activity</th>\n",
              "      <th>Country</th>\n",
              "      <th>Specialization</th>\n",
              "      <th>How did you hear about X Education</th>\n",
              "      <th>What is your current occupation</th>\n",
              "      <th>...</th>\n",
              "      <th>Lead Quality</th>\n",
              "      <th>Update me on Supply Chain Content</th>\n",
              "      <th>Get updates on DM Content</th>\n",
              "      <th>Lead Profile</th>\n",
              "      <th>City</th>\n",
              "      <th>Asymmetrique Activity Index</th>\n",
              "      <th>Asymmetrique Profile Index</th>\n",
              "      <th>I agree to pay the amount through cheque</th>\n",
              "      <th>A free copy of Mastering The Interview</th>\n",
              "      <th>Last Notable Activity</th>\n",
              "    </tr>\n",
              "  </thead>\n",
              "  <tbody>\n",
              "    <tr>\n",
              "      <th>count</th>\n",
              "      <td>8230</td>\n",
              "      <td>8230</td>\n",
              "      <td>8197</td>\n",
              "      <td>8230</td>\n",
              "      <td>8230</td>\n",
              "      <td>8130</td>\n",
              "      <td>6009</td>\n",
              "      <td>6953</td>\n",
              "      <td>6272</td>\n",
              "      <td>5819</td>\n",
              "      <td>...</td>\n",
              "      <td>3964</td>\n",
              "      <td>8229</td>\n",
              "      <td>8229</td>\n",
              "      <td>5800</td>\n",
              "      <td>6972</td>\n",
              "      <td>4028</td>\n",
              "      <td>4028</td>\n",
              "      <td>8229</td>\n",
              "      <td>8229</td>\n",
              "      <td>8229</td>\n",
              "    </tr>\n",
              "    <tr>\n",
              "      <th>unique</th>\n",
              "      <td>8230</td>\n",
              "      <td>5</td>\n",
              "      <td>20</td>\n",
              "      <td>2</td>\n",
              "      <td>2</td>\n",
              "      <td>17</td>\n",
              "      <td>37</td>\n",
              "      <td>19</td>\n",
              "      <td>10</td>\n",
              "      <td>6</td>\n",
              "      <td>...</td>\n",
              "      <td>5</td>\n",
              "      <td>1</td>\n",
              "      <td>1</td>\n",
              "      <td>6</td>\n",
              "      <td>7</td>\n",
              "      <td>3</td>\n",
              "      <td>3</td>\n",
              "      <td>1</td>\n",
              "      <td>2</td>\n",
              "      <td>16</td>\n",
              "    </tr>\n",
              "    <tr>\n",
              "      <th>top</th>\n",
              "      <td>7927b2df-8bba-4d29-b9a2-b6e0beafe620</td>\n",
              "      <td>Landing Page Submission</td>\n",
              "      <td>Google</td>\n",
              "      <td>No</td>\n",
              "      <td>No</td>\n",
              "      <td>Email Opened</td>\n",
              "      <td>India</td>\n",
              "      <td>Select</td>\n",
              "      <td>Select</td>\n",
              "      <td>Unemployed</td>\n",
              "      <td>...</td>\n",
              "      <td>Might be</td>\n",
              "      <td>No</td>\n",
              "      <td>No</td>\n",
              "      <td>Select</td>\n",
              "      <td>Mumbai</td>\n",
              "      <td>02.Medium</td>\n",
              "      <td>02.Medium</td>\n",
              "      <td>No</td>\n",
              "      <td>No</td>\n",
              "      <td>Modified</td>\n",
              "    </tr>\n",
              "    <tr>\n",
              "      <th>freq</th>\n",
              "      <td>1</td>\n",
              "      <td>4295</td>\n",
              "      <td>2607</td>\n",
              "      <td>7603</td>\n",
              "      <td>8228</td>\n",
              "      <td>3083</td>\n",
              "      <td>5769</td>\n",
              "      <td>1752</td>\n",
              "      <td>4452</td>\n",
              "      <td>4969</td>\n",
              "      <td>...</td>\n",
              "      <td>1403</td>\n",
              "      <td>8229</td>\n",
              "      <td>8229</td>\n",
              "      <td>3887</td>\n",
              "      <td>2834</td>\n",
              "      <td>3093</td>\n",
              "      <td>2291</td>\n",
              "      <td>8229</td>\n",
              "      <td>5752</td>\n",
              "      <td>2971</td>\n",
              "    </tr>\n",
              "  </tbody>\n",
              "</table>\n",
              "<p>4 rows × 30 columns</p>\n",
              "</div>\n",
              "      <button class=\"colab-df-convert\" onclick=\"convertToInteractive('df-cf79ce37-1750-4b8e-bcb4-2011e356944e')\"\n",
              "              title=\"Convert this dataframe to an interactive table.\"\n",
              "              style=\"display:none;\">\n",
              "        \n",
              "  <svg xmlns=\"http://www.w3.org/2000/svg\" height=\"24px\"viewBox=\"0 0 24 24\"\n",
              "       width=\"24px\">\n",
              "    <path d=\"M0 0h24v24H0V0z\" fill=\"none\"/>\n",
              "    <path d=\"M18.56 5.44l.94 2.06.94-2.06 2.06-.94-2.06-.94-.94-2.06-.94 2.06-2.06.94zm-11 1L8.5 8.5l.94-2.06 2.06-.94-2.06-.94L8.5 2.5l-.94 2.06-2.06.94zm10 10l.94 2.06.94-2.06 2.06-.94-2.06-.94-.94-2.06-.94 2.06-2.06.94z\"/><path d=\"M17.41 7.96l-1.37-1.37c-.4-.4-.92-.59-1.43-.59-.52 0-1.04.2-1.43.59L10.3 9.45l-7.72 7.72c-.78.78-.78 2.05 0 2.83L4 21.41c.39.39.9.59 1.41.59.51 0 1.02-.2 1.41-.59l7.78-7.78 2.81-2.81c.8-.78.8-2.07 0-2.86zM5.41 20L4 18.59l7.72-7.72 1.47 1.35L5.41 20z\"/>\n",
              "  </svg>\n",
              "      </button>\n",
              "      \n",
              "  <style>\n",
              "    .colab-df-container {\n",
              "      display:flex;\n",
              "      flex-wrap:wrap;\n",
              "      gap: 12px;\n",
              "    }\n",
              "\n",
              "    .colab-df-convert {\n",
              "      background-color: #E8F0FE;\n",
              "      border: none;\n",
              "      border-radius: 50%;\n",
              "      cursor: pointer;\n",
              "      display: none;\n",
              "      fill: #1967D2;\n",
              "      height: 32px;\n",
              "      padding: 0 0 0 0;\n",
              "      width: 32px;\n",
              "    }\n",
              "\n",
              "    .colab-df-convert:hover {\n",
              "      background-color: #E2EBFA;\n",
              "      box-shadow: 0px 1px 2px rgba(60, 64, 67, 0.3), 0px 1px 3px 1px rgba(60, 64, 67, 0.15);\n",
              "      fill: #174EA6;\n",
              "    }\n",
              "\n",
              "    [theme=dark] .colab-df-convert {\n",
              "      background-color: #3B4455;\n",
              "      fill: #D2E3FC;\n",
              "    }\n",
              "\n",
              "    [theme=dark] .colab-df-convert:hover {\n",
              "      background-color: #434B5C;\n",
              "      box-shadow: 0px 1px 3px 1px rgba(0, 0, 0, 0.15);\n",
              "      filter: drop-shadow(0px 1px 2px rgba(0, 0, 0, 0.3));\n",
              "      fill: #FFFFFF;\n",
              "    }\n",
              "  </style>\n",
              "\n",
              "      <script>\n",
              "        const buttonEl =\n",
              "          document.querySelector('#df-cf79ce37-1750-4b8e-bcb4-2011e356944e button.colab-df-convert');\n",
              "        buttonEl.style.display =\n",
              "          google.colab.kernel.accessAllowed ? 'block' : 'none';\n",
              "\n",
              "        async function convertToInteractive(key) {\n",
              "          const element = document.querySelector('#df-cf79ce37-1750-4b8e-bcb4-2011e356944e');\n",
              "          const dataTable =\n",
              "            await google.colab.kernel.invokeFunction('convertToInteractive',\n",
              "                                                     [key], {});\n",
              "          if (!dataTable) return;\n",
              "\n",
              "          const docLinkHtml = 'Like what you see? Visit the ' +\n",
              "            '<a target=\"_blank\" href=https://colab.research.google.com/notebooks/data_table.ipynb>data table notebook</a>'\n",
              "            + ' to learn more about interactive tables.';\n",
              "          element.innerHTML = '';\n",
              "          dataTable['output_type'] = 'display_data';\n",
              "          await google.colab.output.renderOutput(dataTable, element);\n",
              "          const docLink = document.createElement('div');\n",
              "          docLink.innerHTML = docLinkHtml;\n",
              "          element.appendChild(docLink);\n",
              "        }\n",
              "      </script>\n",
              "    </div>\n",
              "  </div>\n",
              "  "
            ]
          },
          "metadata": {},
          "execution_count": 8
        }
      ]
    },
    {
      "cell_type": "code",
      "execution_count": null,
      "metadata": {
        "colab": {
          "base_uri": "https://localhost:8080/"
        },
        "id": "ZxQBcTgH2J-R",
        "outputId": "f9507f62-1a13-4730-f9bb-5c54bc8f26db"
      },
      "outputs": [
        {
          "output_type": "execute_result",
          "data": {
            "text/plain": [
              "Prospect ID                                         0\n",
              "Lead Number                                         0\n",
              "Lead Origin                                         0\n",
              "Lead Source                                        33\n",
              "Do Not Email                                        0\n",
              "Do Not Call                                         0\n",
              "Converted                                           0\n",
              "TotalVisits                                       134\n",
              "Total Time Spent on Website                         0\n",
              "Page Views Per Visit                              134\n",
              "Last Activity                                     100\n",
              "Country                                          2221\n",
              "Specialization                                   1277\n",
              "How did you hear about X Education               1958\n",
              "What is your current occupation                  2411\n",
              "What matters most to you in choosing a course    2429\n",
              "Search                                              1\n",
              "Magazine                                            1\n",
              "Newspaper Article                                   1\n",
              "X Education Forums                                  1\n",
              "Newspaper                                           1\n",
              "Digital Advertisement                               1\n",
              "Through Recommendations                             1\n",
              "Receive More Updates About Our Courses              1\n",
              "Tags                                             3036\n",
              "Lead Quality                                     4266\n",
              "Update me on Supply Chain Content                   1\n",
              "Get updates on DM Content                           1\n",
              "Lead Profile                                     2430\n",
              "City                                             1258\n",
              "Asymmetrique Activity Index                      4202\n",
              "Asymmetrique Profile Index                       4202\n",
              "Asymmetrique Activity Score                      4202\n",
              "Asymmetrique Profile Score                       4202\n",
              "I agree to pay the amount through cheque            1\n",
              "A free copy of Mastering The Interview              1\n",
              "Last Notable Activity                               1\n",
              "dtype: int64"
            ]
          },
          "metadata": {},
          "execution_count": 9
        }
      ],
      "source": [
        "\n",
        "leads.isnull().sum()"
      ]
    },
    {
      "cell_type": "code",
      "source": [
        "# Check the number of missing values in each column\n",
        "\n",
        "leads.isnull().sum()/len(leads)*100"
      ],
      "metadata": {
        "colab": {
          "base_uri": "https://localhost:8080/"
        },
        "id": "kT6vV6vjkWqF",
        "outputId": "5d124bf7-2a5f-4c45-b88f-c07670577845"
      },
      "execution_count": null,
      "outputs": [
        {
          "output_type": "execute_result",
          "data": {
            "text/plain": [
              "Prospect ID                                       0.000000\n",
              "Lead Number                                       0.000000\n",
              "Lead Origin                                       0.000000\n",
              "Lead Source                                       0.400972\n",
              "Do Not Email                                      0.000000\n",
              "Do Not Call                                       0.000000\n",
              "Converted                                         0.000000\n",
              "TotalVisits                                       1.628190\n",
              "Total Time Spent on Website                       0.000000\n",
              "Page Views Per Visit                              1.628190\n",
              "Last Activity                                     1.215067\n",
              "Country                                          26.986634\n",
              "Specialization                                   15.516403\n",
              "How did you hear about X Education               23.791009\n",
              "What is your current occupation                  29.295261\n",
              "What matters most to you in choosing a course    29.513973\n",
              "Search                                            0.012151\n",
              "Magazine                                          0.012151\n",
              "Newspaper Article                                 0.012151\n",
              "X Education Forums                                0.012151\n",
              "Newspaper                                         0.012151\n",
              "Digital Advertisement                             0.012151\n",
              "Through Recommendations                           0.012151\n",
              "Receive More Updates About Our Courses            0.012151\n",
              "Tags                                             36.889429\n",
              "Lead Quality                                     51.834751\n",
              "Update me on Supply Chain Content                 0.012151\n",
              "Get updates on DM Content                         0.012151\n",
              "Lead Profile                                     29.526124\n",
              "City                                             15.285541\n",
              "Asymmetrique Activity Index                      51.057108\n",
              "Asymmetrique Profile Index                       51.057108\n",
              "Asymmetrique Activity Score                      51.057108\n",
              "Asymmetrique Profile Score                       51.057108\n",
              "I agree to pay the amount through cheque          0.012151\n",
              "A free copy of Mastering The Interview            0.012151\n",
              "Last Notable Activity                             0.012151\n",
              "dtype: float64"
            ]
          },
          "metadata": {},
          "execution_count": 10
        }
      ]
    },
    {
      "cell_type": "code",
      "execution_count": null,
      "metadata": {
        "colab": {
          "base_uri": "https://localhost:8080/"
        },
        "collapsed": true,
        "id": "5GAgO2j58U7f",
        "outputId": "aa7cf9ea-7e02-40f8-8c86-112856a03f1e"
      },
      "outputs": [
        {
          "output_type": "execute_result",
          "data": {
            "text/plain": [
              "Index(['Prospect ID', 'Lead Number', 'Lead Origin', 'Lead Source',\n",
              "       'Do Not Email', 'Do Not Call', 'Converted', 'TotalVisits',\n",
              "       'Total Time Spent on Website', 'Page Views Per Visit', 'Last Activity',\n",
              "       'Country', 'Specialization', 'How did you hear about X Education',\n",
              "       'What is your current occupation',\n",
              "       'What matters most to you in choosing a course', 'Search', 'Magazine',\n",
              "       'Newspaper Article', 'X Education Forums', 'Newspaper',\n",
              "       'Digital Advertisement', 'Through Recommendations',\n",
              "       'Receive More Updates About Our Courses', 'Tags', 'Lead Quality',\n",
              "       'Update me on Supply Chain Content', 'Get updates on DM Content',\n",
              "       'Lead Profile', 'City', 'Asymmetrique Activity Index',\n",
              "       'Asymmetrique Profile Index', 'Asymmetrique Activity Score',\n",
              "       'Asymmetrique Profile Score',\n",
              "       'I agree to pay the amount through cheque',\n",
              "       'A free copy of Mastering The Interview', 'Last Notable Activity'],\n",
              "      dtype='object')"
            ]
          },
          "metadata": {},
          "execution_count": 80
        }
      ],
      "source": [
        "leads.columns"
      ]
    },
    {
      "cell_type": "code",
      "source": [
        ""
      ],
      "metadata": {
        "id": "HzfhLQ7xk3uR"
      },
      "execution_count": null,
      "outputs": []
    },
    {
      "cell_type": "markdown",
      "source": [
        "####           **EDA**\n",
        "\n",
        "\n",
        "\n"
      ],
      "metadata": {
        "id": "eVeLhhvEk40V"
      }
    },
    {
      "cell_type": "code",
      "execution_count": null,
      "metadata": {
        "colab": {
          "base_uri": "https://localhost:8080/",
          "height": 278
        },
        "id": "RfljOVjGgOAQ",
        "outputId": "d4457730-f6d1-4bc3-c692-ce46664f4b02"
      },
      "outputs": [
        {
          "output_type": "display_data",
          "data": {
            "text/plain": [
              "<Figure size 432x288 with 1 Axes>"
            ],
            "image/png": "[encoded data removed]"
          },
          "metadata": {
            "needs_background": "light"
          }
        }
      ],
      "source": [
        "bar_plot1 = sns.barplot(x='Converted', y='Do Not Call',data=leads, label=\"Do Not Call\", color=\"y\")\n",
        "bar_plot2 = sns.barplot(x='Converted', y='Do Not Email', data=leads, label=\"Do Not Email\", color=\"g\")\n",
        "plt.show()\n"
      ]
    },
    {
      "cell_type": "code",
      "execution_count": null,
      "metadata": {
        "id": "8Mb_ym5mhc0D"
      },
      "outputs": [],
      "source": [
        ""
      ]
    },
    {
      "cell_type": "code",
      "execution_count": null,
      "metadata": {
        "colab": {
          "base_uri": "https://localhost:8080/",
          "height": 606
        },
        "id": "ax0TyP4i80jZ",
        "outputId": "da4b4e26-f3fc-49b7-efbc-0ccfe31bb818"
      },
      "outputs": [
        {
          "output_type": "display_data",
          "data": {
            "text/plain": [
              "<Figure size 1008x720 with 1 Axes>"
            ],
            "image/png": "[encoded data removed]"
          },
          "metadata": {
            "needs_background": "light"
          }
        }
      ],
      "source": [
        "plt.figure(figsize=(14,10))\n",
        "sns.countplot(x='City',data=leads)\n",
        "plt.show()"
      ]
    },
    {
      "cell_type": "code",
      "execution_count": null,
      "metadata": {
        "id": "0TtSUcVzhc0F"
      },
      "outputs": [],
      "source": [
        ""
      ]
    },
    {
      "cell_type": "code",
      "execution_count": null,
      "metadata": {
        "colab": {
          "base_uri": "https://localhost:8080/",
          "height": 278
        },
        "id": "9XkGRFkL4GAO",
        "outputId": "47071d72-b265-499b-f7ec-98f2197baa05"
      },
      "outputs": [
        {
          "output_type": "display_data",
          "data": {
            "text/plain": [
              "<Figure size 432x288 with 1 Axes>"
            ],
            "image/png": "[encoded data removed]"
          },
          "metadata": {
            "needs_background": "light"
          }
        }
      ],
      "source": [
        "sns.countplot(x='Converted',data=leads)\n",
        "plt.show()"
      ]
    },
    {
      "cell_type": "code",
      "execution_count": null,
      "metadata": {
        "id": "10vrcfDchc0K"
      },
      "outputs": [],
      "source": [
        ""
      ]
    },
    {
      "cell_type": "code",
      "execution_count": null,
      "metadata": {
        "colab": {
          "base_uri": "https://localhost:8080/",
          "height": 278
        },
        "id": "_7PtmW_h4m4b",
        "outputId": "406cf537-9aae-4e9a-c0bb-b4461155e110"
      },
      "outputs": [
        {
          "output_type": "display_data",
          "data": {
            "text/plain": [
              "<Figure size 432x288 with 1 Axes>"
            ],
            "image/png": "[encoded data removed]"
          },
          "metadata": {
            "needs_background": "light"
          }
        }
      ],
      "source": [
        "sns.countplot(x='Asymmetrique Profile Index',hue='Converted',data=leads,color='skyblue')\n",
        "plt.show()"
      ]
    },
    {
      "cell_type": "markdown",
      "metadata": {
        "id": "Zqms3vgghc0M"
      },
      "source": [
        "# Inference\n",
        "  The Distn. Of Converted w.r.to ASymetric Profile Index falls higher for High Asymetric profile Index, then for Medium profile Index."
      ]
    },
    {
      "cell_type": "code",
      "execution_count": null,
      "metadata": {
        "colab": {
          "base_uri": "https://localhost:8080/",
          "height": 368
        },
        "id": "Tf4-PEGI4-ie",
        "outputId": "8f79b969-0b19-4aa0-ceb2-d10f04b7d78a"
      },
      "outputs": [
        {
          "output_type": "display_data",
          "data": {
            "text/plain": [
              "<Figure size 360x360 with 1 Axes>"
            ],
            "image/png": "[encoded data removed]"
          },
          "metadata": {
            "needs_background": "light"
          }
        }
      ],
      "source": [
        "sns.catplot(x='Receive More Updates About Our Courses',kind='count',data=leads)\n",
        "plt.show()"
      ]
    },
    {
      "cell_type": "code",
      "execution_count": null,
      "metadata": {
        "id": "ji4J68crhc0S"
      },
      "outputs": [],
      "source": [
        ""
      ]
    },
    {
      "cell_type": "code",
      "execution_count": null,
      "metadata": {
        "colab": {
          "base_uri": "https://localhost:8080/"
        },
        "id": "PYjFNlNbXnrw",
        "outputId": "473b1cf4-1cce-4fe1-ff41-5ef301390778"
      },
      "outputs": [
        {
          "output_type": "execute_result",
          "data": {
            "text/plain": [
              "Unemployed              5600\n",
              "Working Professional     706\n",
              "Student                  210\n",
              "Other                     16\n",
              "Housewife                 10\n",
              "Businessman                8\n",
              "Name: What is your current occupation, dtype: int64"
            ]
          },
          "metadata": {},
          "execution_count": 86
        }
      ],
      "source": [
        "df_co = leads['What is your current occupation'].value_counts()\n",
        "df_co"
      ]
    },
    {
      "cell_type": "code",
      "execution_count": null,
      "metadata": {
        "colab": {
          "base_uri": "https://localhost:8080/",
          "height": 372
        },
        "id": "KDHjrJE97EiC",
        "outputId": "ba8d55d1-e4a9-4390-aed3-1b4478ca7390"
      },
      "outputs": [
        {
          "output_type": "display_data",
          "data": {
            "text/plain": [
              "<Figure size 432x288 with 1 Axes>"
            ],
            "image/png": "[encoded data removed]"
          },
          "metadata": {
            "needs_background": "light"
          }
        }
      ],
      "source": [
        "plt.Figure(figsize=(10,8))\n",
        "sns.barplot(x='What is your current occupation',y='Converted',data=leads)\n",
        "plt.xticks(rotation=270)\n",
        "plt.show()"
      ]
    },
    {
      "cell_type": "code",
      "execution_count": null,
      "metadata": {
        "id": "Ix6wPTn3hc0U"
      },
      "outputs": [],
      "source": [
        ""
      ]
    },
    {
      "cell_type": "code",
      "execution_count": null,
      "metadata": {
        "colab": {
          "base_uri": "https://localhost:8080/"
        },
        "id": "x0dO8wJEWsEb",
        "outputId": "71860654-23d8-4bad-c6a2-fb25181ac34a"
      },
      "outputs": [
        {
          "output_type": "execute_result",
          "data": {
            "text/plain": [
              "array(['Unemployed', 'Student', nan, 'Working Professional',\n",
              "       'Businessman', 'Other', 'Housewife'], dtype=object)"
            ]
          },
          "metadata": {},
          "execution_count": 88
        }
      ],
      "source": [
        "leads['What is your current occupation'].unique()"
      ]
    },
    {
      "cell_type": "code",
      "execution_count": null,
      "metadata": {
        "colab": {
          "base_uri": "https://localhost:8080/",
          "height": 281
        },
        "id": "fs1wi1Eo838-",
        "outputId": "798d5fa5-613a-4efe-ae2b-314a76c4ba73"
      },
      "outputs": [
        {
          "output_type": "display_data",
          "data": {
            "text/plain": [
              "<Figure size 432x288 with 1 Axes>"
            ],
            "image/png": "[encoded data removed]"
          },
          "metadata": {
            "needs_background": "light"
          }
        }
      ],
      "source": [
        "leads.hist(column='Total Time Spent on Website',bins=20,color='red')\n",
        "plt.show()"
      ]
    },
    {
      "cell_type": "markdown",
      "metadata": {
        "id": "q3YxuuKahc0X"
      },
      "source": [
        "# Inference\n",
        " The Distn. of Total Time Spent On Website Falls high in \"0 to 500\" then falls down as the value increases. "
      ]
    },
    {
      "cell_type": "code",
      "execution_count": null,
      "metadata": {
        "colab": {
          "base_uri": "https://localhost:8080/"
        },
        "id": "ZIP2z5K8FGYX",
        "outputId": "0f2812a8-c206-4889-b689-71f43a3d7029"
      },
      "outputs": [
        {
          "output_type": "execute_result",
          "data": {
            "text/plain": [
              "str"
            ]
          },
          "metadata": {},
          "execution_count": 90
        }
      ],
      "source": [
        "type('Lead Quality')"
      ]
    },
    {
      "cell_type": "code",
      "execution_count": null,
      "metadata": {
        "colab": {
          "base_uri": "https://localhost:8080/"
        },
        "id": "J-X0H17iSJDw",
        "outputId": "f45bd92c-9950-4bcc-cef3-22811bdae549"
      },
      "outputs": [
        {
          "output_type": "execute_result",
          "data": {
            "text/plain": [
              "['Might be', 'Not Sure', 'High in Relevance ', 'Worst ', 'Low in Relevance']"
            ]
          },
          "metadata": {},
          "execution_count": 91
        }
      ],
      "source": [
        "df = ['Might be','Not Sure','High in Relevance ','Worst ','Low in Relevance']\n",
        "df"
      ]
    },
    {
      "cell_type": "code",
      "execution_count": null,
      "metadata": {
        "colab": {
          "base_uri": "https://localhost:8080/"
        },
        "id": "nYCJ_JMgE8cJ",
        "outputId": "b29ad458-9d5a-493f-f50d-636c36f50032"
      },
      "outputs": [
        {
          "output_type": "execute_result",
          "data": {
            "text/plain": [
              "Might be             1560\n",
              "Not Sure             1092\n",
              "High in Relevance     637\n",
              "Worst                 601\n",
              "Low in Relevance      583\n",
              "Name: Lead Quality, dtype: int64"
            ]
          },
          "metadata": {},
          "execution_count": 92
        }
      ],
      "source": [
        "lead_q_count = leads['Lead Quality'].value_counts()\n",
        "lead_q_count"
      ]
    },
    {
      "cell_type": "code",
      "execution_count": null,
      "metadata": {
        "colab": {
          "base_uri": "https://localhost:8080/",
          "height": 466
        },
        "id": "QF4ivEy7NIIp",
        "outputId": "f9a9d6e2-8cb0-4686-a798-86cae9f80619"
      },
      "outputs": [
        {
          "output_type": "display_data",
          "data": {
            "text/plain": [
              "<Figure size 1080x576 with 1 Axes>"
            ],
            "image/png": "[encoded data removed]"
          },
          "metadata": {}
        }
      ],
      "source": [
        "plt.figure(figsize=(15,8))\n",
        "data = lead_q_count\n",
        "colors = sns.color_palette('pastel')\n",
        "plt.pie(data,colors = colors,autopct = '%0.2f%%',labels=df)\n",
        "plt.show()"
      ]
    },
    {
      "cell_type": "markdown",
      "metadata": {
        "id": "EqJpt_RDhc0b"
      },
      "source": [
        "# Inference \n",
        "The Slice \"Might be\" with 34.88% has highest Count in 'Lead Quality'"
      ]
    },
    {
      "cell_type": "code",
      "execution_count": null,
      "metadata": {
        "colab": {
          "base_uri": "https://localhost:8080/",
          "height": 471
        },
        "id": "6U5wJqTQTkVY",
        "outputId": "38785b6c-b5e0-48f6-8a9d-dac6e313ac30"
      },
      "outputs": [
        {
          "output_type": "display_data",
          "data": {
            "text/plain": [
              "<Figure size 1008x720 with 0 Axes>"
            ]
          },
          "metadata": {}
        },
        {
          "output_type": "display_data",
          "data": {
            "text/plain": [
              "<Figure size 419.75x360 with 1 Axes>"
            ],
            "image/png": "[encoded data removed]"
          },
          "metadata": {
            "needs_background": "light"
          }
        }
      ],
      "source": [
        "plt.figure(figsize=(14,10))\n",
        "sns.catplot(x='Lead Source',kind='count',hue='Converted',data=leads)\n",
        "plt.xticks(rotation=270)\n",
        "plt.show()"
      ]
    },
    {
      "cell_type": "markdown",
      "metadata": {
        "id": "rM7sp73qhc0c"
      },
      "source": [
        "# Inference\n",
        "  The LEAD SOURCE Which is Google has highest Converted rate as well as not Converted."
      ]
    },
    {
      "cell_type": "code",
      "execution_count": null,
      "metadata": {
        "colab": {
          "base_uri": "https://localhost:8080/",
          "height": 281
        },
        "id": "AMOatApMR8Me",
        "outputId": "1b8d2d24-9f42-4bfe-bd0f-d7a10dd549c9"
      },
      "outputs": [
        {
          "output_type": "display_data",
          "data": {
            "text/plain": [
              "<Figure size 432x288 with 1 Axes>"
            ],
            "image/png": "[encoded data removed]"
          },
          "metadata": {
            "needs_background": "light"
          }
        }
      ],
      "source": [
        "leads.hist(column='Asymmetrique Profile Score',bins=20,color='orange')\n",
        "plt.show()"
      ]
    },
    {
      "cell_type": "markdown",
      "metadata": {
        "id": "I4MWyg5yhc0d"
      },
      "source": [
        "# inference\n",
        "  Asymetric Profile Score averages in b/w 14 to 16"
      ]
    },
    {
      "cell_type": "code",
      "execution_count": null,
      "metadata": {
        "colab": {
          "base_uri": "https://localhost:8080/",
          "height": 582
        },
        "id": "rNzk88a0Rgax",
        "outputId": "4ae44af5-214b-42ff-be20-e7a5ca850eeb"
      },
      "outputs": [
        {
          "output_type": "display_data",
          "data": {
            "text/plain": [
              "<Figure size 720x576 with 1 Axes>"
            ],
            "image/png": "[encoded data removed]"
          },
          "metadata": {
            "needs_background": "light"
          }
        }
      ],
      "source": [
        "plt.figure(figsize=(10,8))\n",
        "sns.barplot(x='Lead Source',y='Converted',data=leads)\n",
        "plt.xticks(rotation=270)\n",
        "plt.show()"
      ]
    },
    {
      "cell_type": "markdown",
      "metadata": {
        "id": "bkesBEVZhc0j"
      },
      "source": [
        "# Inference\n",
        "The LEAD SOURCE Which is Google has highest Mean in Converted rate."
      ]
    },
    {
      "cell_type": "code",
      "execution_count": null,
      "metadata": {
        "colab": {
          "base_uri": "https://localhost:8080/",
          "height": 487
        },
        "id": "n0z7ZXMffYHg",
        "outputId": "3548bb71-594c-41ed-8b56-a53f770e861a"
      },
      "outputs": [
        {
          "output_type": "display_data",
          "data": {
            "text/plain": [
              "<Figure size 360x360 with 1 Axes>"
            ],
            "image/png": "[encoded data removed]"
          },
          "metadata": {
            "needs_background": "light"
          }
        }
      ],
      "source": [
        "sns.relplot(data=leads,kind='line',\n",
        "           x='Lead Origin',y='Converted')\n",
        "plt.xticks(rotation=270)\n",
        "plt.show()"
      ]
    },
    {
      "cell_type": "code",
      "execution_count": null,
      "metadata": {
        "id": "9ZZ55qZEhc0l"
      },
      "outputs": [],
      "source": [
        ""
      ]
    },
    {
      "cell_type": "code",
      "execution_count": null,
      "metadata": {
        "colab": {
          "base_uri": "https://localhost:8080/",
          "height": 288
        },
        "id": "uszFp8K1kgOx",
        "outputId": "b8bf4bae-2d52-4c48-a45f-ce29f8a63ae8"
      },
      "outputs": [
        {
          "output_type": "display_data",
          "data": {
            "text/plain": [
              "<Figure size 432x288 with 1 Axes>"
            ],
            "image/png": "[encoded data removed]"
          },
          "metadata": {
            "needs_background": "light"
          }
        }
      ],
      "source": [
        "sns.barplot(x='Converted',y='What matters most to you in choosing a course',data=leads)\n",
        "plt.show()"
      ]
    },
    {
      "cell_type": "markdown",
      "metadata": {
        "id": "QkOh6IcChc0m"
      },
      "source": [
        "# Inference\n",
        "  Mean distn. Of Converted w.r.to Purpose Of Choosing a Course is High For 'Better Career Prospects'"
      ]
    },
    {
      "cell_type": "code",
      "execution_count": null,
      "metadata": {
        "colab": {
          "base_uri": "https://localhost:8080/",
          "height": 503
        },
        "id": "pvZSSBsumiss",
        "outputId": "a08c47aa-f805-4764-8f54-2f52adffb380"
      },
      "outputs": [
        {
          "output_type": "display_data",
          "data": {
            "text/plain": [
              "<Figure size 1008x720 with 0 Axes>"
            ]
          },
          "metadata": {}
        },
        {
          "output_type": "display_data",
          "data": {
            "text/plain": [
              "<Figure size 360x360 with 1 Axes>"
            ],
            "image/png": "[encoded data removed]"
          },
          "metadata": {
            "needs_background": "light"
          }
        }
      ],
      "source": [
        "plt.figure(figsize=(14,10))\n",
        "sns.catplot(x='What matters most to you in choosing a course',kind='count',data=leads)\n",
        "plt.xticks(rotation=270)\n",
        "plt.show()"
      ]
    },
    {
      "cell_type": "markdown",
      "metadata": {
        "id": "SyJ1VeRShc0m"
      },
      "source": [
        "# Inference\n",
        "The distn. Of Purpose Of Choosing a Course is High For 'Better Career Prospects'"
      ]
    },
    {
      "cell_type": "code",
      "execution_count": null,
      "metadata": {
        "id": "Kd9cw1k2nQ8E",
        "colab": {
          "base_uri": "https://localhost:8080/",
          "height": 497
        },
        "outputId": "d6f42daf-2881-482c-a2b0-a6648d15a391"
      },
      "outputs": [
        {
          "output_type": "display_data",
          "data": {
            "text/plain": [
              "<Figure size 720x576 with 1 Axes>"
            ],
            "image/png": "[encoded data removed]"
          },
          "metadata": {
            "needs_background": "light"
          }
        }
      ],
      "source": [
        "plt.figure(figsize=(10,8))\n",
        "sns.countplot(x='State',hue='Converted',data=leads)\n",
        "plt.show()"
      ]
    },
    {
      "cell_type": "markdown",
      "metadata": {
        "id": "E7Lcvobshc0o"
      },
      "source": [
        "# Inference\n",
        "  The Distn. Of Converted w.r.to Diff. Cities is higher in 'Maharastra State',then the 'Unknown' ."
      ]
    },
    {
      "cell_type": "code",
      "execution_count": null,
      "metadata": {
        "colab": {
          "base_uri": "https://localhost:8080/",
          "height": 372
        },
        "id": "QYWKwQ60hc0o",
        "outputId": "9058059e-3d60-40f2-dd87-550053759873"
      },
      "outputs": [
        {
          "output_type": "display_data",
          "data": {
            "text/plain": [
              "<Figure size 432x288 with 1 Axes>"
            ],
            "image/png": "[encoded data removed]"
          },
          "metadata": {
            "needs_background": "light"
          }
        }
      ],
      "source": [
        "plt.Figure(figsize=(14,10))\n",
        "sns.countplot(x='What is your current occupation',hue='Converted',data=leads)\n",
        "plt.xticks(rotation=270)\n",
        "plt.show()"
      ]
    },
    {
      "cell_type": "markdown",
      "metadata": {
        "id": "vC9Ly7H9hc0p"
      },
      "source": [
        "# Inference \n",
        "  The Distn. Of Converted w.r.to Current Occupation Falls high in 'Unemployed', then the 'Working Professionals'"
      ]
    },
    {
      "cell_type": "code",
      "execution_count": null,
      "metadata": {
        "id": "JkAhBv-rhc0p"
      },
      "outputs": [],
      "source": [
        "# Drop all the columns in which greater than 3000 missing values are present\n",
        "\n",
        "for col in leads.columns:\n",
        "    if leads[col].isnull().sum() > 3000:\n",
        "        leads.drop(col, 1, inplace=True)"
      ]
    },
    {
      "cell_type": "code",
      "source": [
        "def drop_missing_columns(df,threshold):\n",
        "  \n",
        "    for col in df.columns:\n",
        "      if df[col].isnull().sum() > threshold:\n",
        "          df.drop(col, 1, inplace=True)\n",
        "    return df"
      ],
      "metadata": {
        "id": "qzcCOAq8nnA1"
      },
      "execution_count": null,
      "outputs": []
    },
    {
      "cell_type": "code",
      "source": [
        "new_df = pd.read_csv('/content/Leads.csv')\n",
        "print(f\"data shape before dropping columns {new_df.shape}\")\n",
        "drop_missing_columns(new_df,3000)\n",
        "print(f\"data shape after dropping columns {new_df.shape}\")"
      ],
      "metadata": {
        "colab": {
          "base_uri": "https://localhost:8080/"
        },
        "id": "yNfprw5lndt9",
        "outputId": "672d244d-ffee-4dec-d724-bbe66fed055d"
      },
      "execution_count": null,
      "outputs": [
        {
          "output_type": "stream",
          "name": "stdout",
          "text": [
            "data shape before dropping columns (9240, 37)\n",
            "data shape after dropping columns (9240, 31)\n"
          ]
        }
      ]
    },
    {
      "cell_type": "code",
      "source": [
        "leads.shape"
      ],
      "metadata": {
        "colab": {
          "base_uri": "https://localhost:8080/"
        },
        "id": "NjU8IoZ4oH4H",
        "outputId": "50ac8dac-b7f7-45e9-9fbe-50bafcd9b055"
      },
      "execution_count": null,
      "outputs": [
        {
          "output_type": "execute_result",
          "data": {
            "text/plain": [
              "(8230, 31)"
            ]
          },
          "metadata": {},
          "execution_count": 14
        }
      ]
    },
    {
      "cell_type": "code",
      "source": [
        "# check the null values again.\n",
        "\n",
        "leads.isnull().sum()"
      ],
      "metadata": {
        "colab": {
          "base_uri": "https://localhost:8080/"
        },
        "id": "yaxLUUKJpET_",
        "outputId": "a8e877b1-5010-4f2e-a61d-126f8b07094c"
      },
      "execution_count": null,
      "outputs": [
        {
          "output_type": "execute_result",
          "data": {
            "text/plain": [
              "Prospect ID                                         0\n",
              "Lead Number                                         0\n",
              "Lead Origin                                         0\n",
              "Lead Source                                        33\n",
              "Do Not Email                                        0\n",
              "Do Not Call                                         0\n",
              "Converted                                           0\n",
              "TotalVisits                                       134\n",
              "Total Time Spent on Website                         0\n",
              "Page Views Per Visit                              134\n",
              "Last Activity                                     100\n",
              "Country                                          2221\n",
              "Specialization                                   1277\n",
              "How did you hear about X Education               1958\n",
              "What is your current occupation                  2411\n",
              "What matters most to you in choosing a course    2429\n",
              "Search                                              1\n",
              "Magazine                                            1\n",
              "Newspaper Article                                   1\n",
              "X Education Forums                                  1\n",
              "Newspaper                                           1\n",
              "Digital Advertisement                               1\n",
              "Through Recommendations                             1\n",
              "Receive More Updates About Our Courses              1\n",
              "Update me on Supply Chain Content                   1\n",
              "Get updates on DM Content                           1\n",
              "Lead Profile                                     2430\n",
              "City                                             1258\n",
              "I agree to pay the amount through cheque            1\n",
              "A free copy of Mastering The Interview              1\n",
              "Last Notable Activity                               1\n",
              "dtype: int64"
            ]
          },
          "metadata": {},
          "execution_count": 15
        }
      ]
    },
    {
      "cell_type": "code",
      "source": [
        "leads['City'].unique()"
      ],
      "metadata": {
        "colab": {
          "base_uri": "https://localhost:8080/"
        },
        "id": "Xu_keXBorD-s",
        "outputId": "cdb55e89-62cb-4fcc-aa35-14744ea9ee5c"
      },
      "execution_count": null,
      "outputs": [
        {
          "output_type": "execute_result",
          "data": {
            "text/plain": [
              "array(['Select', 'Mumbai', nan, 'Thane & Outskirts', 'Other Metro Cities',\n",
              "       'Other Cities', 'Other Cities of Maharashtra', 'Tier II Cities'],\n",
              "      dtype=object)"
            ]
          },
          "metadata": {},
          "execution_count": 16
        }
      ]
    },
    {
      "cell_type": "code",
      "source": [
        "city_mapper = {\"Mumbai\" : \"Maharastra\",\n",
        "               \"Thane & Outskirts\" :\"Maharastra\",\n",
        "               \"Other Cities of Maharashtra\" : \"Maharastra\",\n",
        "               \"Select\" : \"unknown\",\n",
        "               np.nan : \"unknown\",\n",
        "               \"Other Metro Cities\" : \"Others\",\n",
        "               \"Other Cities\" : \"Others\",\n",
        "               \"Tier II Cities\" : \"Others\"\n",
        "}"
      ],
      "metadata": {
        "id": "kM7maegTrb0L"
      },
      "execution_count": null,
      "outputs": []
    },
    {
      "cell_type": "code",
      "source": [
        "leads['State'] = leads['City'].replace(city_mapper,regex=True)"
      ],
      "metadata": {
        "id": "hDmWrsharhOb"
      },
      "execution_count": null,
      "outputs": []
    },
    {
      "cell_type": "code",
      "source": [
        "leads['State'].unique()"
      ],
      "metadata": {
        "colab": {
          "base_uri": "https://localhost:8080/"
        },
        "id": "xB_pSidvrovx",
        "outputId": "406dc5e0-fe67-45ca-90ac-69f13dc01bf4"
      },
      "execution_count": null,
      "outputs": [
        {
          "output_type": "execute_result",
          "data": {
            "text/plain": [
              "array(['unknown', 'Maharastra', 'Others'], dtype=object)"
            ]
          },
          "metadata": {},
          "execution_count": 19
        }
      ]
    },
    {
      "cell_type": "code",
      "source": [
        "leads.drop(['City'], axis = 1, inplace = True)"
      ],
      "metadata": {
        "id": "xHr97Am0rtDP"
      },
      "execution_count": null,
      "outputs": []
    },
    {
      "cell_type": "code",
      "source": [
        "leads['Country'].value_counts(normalize=True)*100"
      ],
      "metadata": {
        "colab": {
          "base_uri": "https://localhost:8080/"
        },
        "id": "9WiwVi4FrxUd",
        "outputId": "d7b82237-b8d2-4761-dab7-7428950ae27b"
      },
      "execution_count": null,
      "outputs": [
        {
          "output_type": "execute_result",
          "data": {
            "text/plain": [
              "India                   96.005991\n",
              "United Arab Emirates     0.848727\n",
              "United States            0.815444\n",
              "Singapore                0.349476\n",
              "Saudi Arabia             0.282909\n",
              "United Kingdom           0.249626\n",
              "Qatar                    0.166417\n",
              "Australia                0.133134\n",
              "Oman                     0.099850\n",
              "Bahrain                  0.099850\n",
              "France                   0.099850\n",
              "unknown                  0.083209\n",
              "Hong Kong                0.083209\n",
              "Kuwait                   0.066567\n",
              "Nigeria                  0.049925\n",
              "South Africa             0.049925\n",
              "Germany                  0.049925\n",
              "Sweden                   0.049925\n",
              "Italy                    0.033283\n",
              "Uganda                   0.033283\n",
              "Netherlands              0.033283\n",
              "Canada                   0.033283\n",
              "Belgium                  0.033283\n",
              "Ghana                    0.033283\n",
              "Russia                   0.016642\n",
              "Asia/Pacific Region      0.016642\n",
              "China                    0.016642\n",
              "Kenya                    0.016642\n",
              "Sri Lanka                0.016642\n",
              "Tanzania                 0.016642\n",
              "Malaysia                 0.016642\n",
              "Liberia                  0.016642\n",
              "Switzerland              0.016642\n",
              "Denmark                  0.016642\n",
              "Philippines              0.016642\n",
              "Bangladesh               0.016642\n",
              "Vietnam                  0.016642\n",
              "Name: Country, dtype: float64"
            ]
          },
          "metadata": {},
          "execution_count": 21
        }
      ]
    },
    {
      "cell_type": "code",
      "source": [
        "leads['Country_modified'] = leads['Country'].apply(lambda x: \"Others\"  if x != \"India\" else \"India\")"
      ],
      "metadata": {
        "id": "TY32eVlPsFwC"
      },
      "execution_count": null,
      "outputs": []
    },
    {
      "cell_type": "code",
      "source": [
        "leads['Country_modified'].unique()"
      ],
      "metadata": {
        "colab": {
          "base_uri": "https://localhost:8080/"
        },
        "id": "g59EhLJdsQXK",
        "outputId": "e7a70b1b-0811-4cd2-ce4b-5104a62bcfc4"
      },
      "execution_count": null,
      "outputs": [
        {
          "output_type": "execute_result",
          "data": {
            "text/plain": [
              "array(['Others', 'India'], dtype=object)"
            ]
          },
          "metadata": {},
          "execution_count": 23
        }
      ]
    },
    {
      "cell_type": "code",
      "source": [
        "\n",
        "leads.drop(['Country'], axis = 1, inplace = True)"
      ],
      "metadata": {
        "id": "QOjmtQV7sTGw"
      },
      "execution_count": null,
      "outputs": []
    },
    {
      "cell_type": "code",
      "source": [
        "# Let's now check the percentage of missing values in each column\n",
        "\n",
        "round(100*(leads.isnull().sum()/len(leads.index)), 2)"
      ],
      "metadata": {
        "colab": {
          "base_uri": "https://localhost:8080/"
        },
        "id": "M0lwYXRvsbKj",
        "outputId": "ecd69503-a725-4ade-a156-b823fcf0770c"
      },
      "execution_count": null,
      "outputs": [
        {
          "output_type": "execute_result",
          "data": {
            "text/plain": [
              "Prospect ID                                       0.00\n",
              "Lead Number                                       0.00\n",
              "Lead Origin                                       0.00\n",
              "Lead Source                                       0.40\n",
              "Do Not Email                                      0.00\n",
              "Do Not Call                                       0.00\n",
              "Converted                                         0.00\n",
              "TotalVisits                                       1.63\n",
              "Total Time Spent on Website                       0.00\n",
              "Page Views Per Visit                              1.63\n",
              "Last Activity                                     1.22\n",
              "Specialization                                   15.52\n",
              "How did you hear about X Education               23.79\n",
              "What is your current occupation                  29.30\n",
              "What matters most to you in choosing a course    29.51\n",
              "Search                                            0.01\n",
              "Magazine                                          0.01\n",
              "Newspaper Article                                 0.01\n",
              "X Education Forums                                0.01\n",
              "Newspaper                                         0.01\n",
              "Digital Advertisement                             0.01\n",
              "Through Recommendations                           0.01\n",
              "Receive More Updates About Our Courses            0.01\n",
              "Update me on Supply Chain Content                 0.01\n",
              "Get updates on DM Content                         0.01\n",
              "Lead Profile                                     29.53\n",
              "I agree to pay the amount through cheque          0.01\n",
              "A free copy of Mastering The Interview            0.01\n",
              "Last Notable Activity                             0.01\n",
              "State                                             0.00\n",
              "Country_modified                                  0.00\n",
              "dtype: float64"
            ]
          },
          "metadata": {},
          "execution_count": 25
        }
      ]
    },
    {
      "cell_type": "code",
      "source": [
        "\n",
        "leads.isnull().sum()"
      ],
      "metadata": {
        "colab": {
          "base_uri": "https://localhost:8080/"
        },
        "id": "0Vec5CAws09V",
        "outputId": "16a0af82-ec6e-4fb9-b980-be54b3f58baf"
      },
      "execution_count": null,
      "outputs": [
        {
          "output_type": "execute_result",
          "data": {
            "text/plain": [
              "Prospect ID                                         0\n",
              "Lead Number                                         0\n",
              "Lead Origin                                         0\n",
              "Lead Source                                        33\n",
              "Do Not Email                                        0\n",
              "Do Not Call                                         0\n",
              "Converted                                           0\n",
              "TotalVisits                                       134\n",
              "Total Time Spent on Website                         0\n",
              "Page Views Per Visit                              134\n",
              "Last Activity                                     100\n",
              "Specialization                                   1277\n",
              "How did you hear about X Education               1958\n",
              "What is your current occupation                  2411\n",
              "What matters most to you in choosing a course    2429\n",
              "Search                                              1\n",
              "Magazine                                            1\n",
              "Newspaper Article                                   1\n",
              "X Education Forums                                  1\n",
              "Newspaper                                           1\n",
              "Digital Advertisement                               1\n",
              "Through Recommendations                             1\n",
              "Receive More Updates About Our Courses              1\n",
              "Update me on Supply Chain Content                   1\n",
              "Get updates on DM Content                           1\n",
              "Lead Profile                                     2430\n",
              "I agree to pay the amount through cheque            1\n",
              "A free copy of Mastering The Interview              1\n",
              "Last Notable Activity                               1\n",
              "State                                               0\n",
              "Country_modified                                    0\n",
              "dtype: int64"
            ]
          },
          "metadata": {},
          "execution_count": 26
        }
      ]
    },
    {
      "cell_type": "code",
      "source": [
        "leads['Lead Profile'].astype('category').value_counts()"
      ],
      "metadata": {
        "colab": {
          "base_uri": "https://localhost:8080/"
        },
        "id": "7lW3BwTutJV6",
        "outputId": "337ca2e0-d4d4-4633-974d-93058a63b39c"
      },
      "execution_count": null,
      "outputs": [
        {
          "output_type": "execute_result",
          "data": {
            "text/plain": [
              "Select                         3887\n",
              "Potential Lead                 1199\n",
              "Other Leads                     453\n",
              "Student of SomeSchool           219\n",
              "Lateral Student                  24\n",
              "Dual Specialization Student      18\n",
              "Name: Lead Profile, dtype: int64"
            ]
          },
          "metadata": {},
          "execution_count": 27
        }
      ]
    },
    {
      "cell_type": "code",
      "source": [
        "leads['How did you hear about X Education'].value_counts()"
      ],
      "metadata": {
        "colab": {
          "base_uri": "https://localhost:8080/"
        },
        "id": "VP4rjqnWtJgm",
        "outputId": "5dd6e6df-dbfb-4178-c22c-5313e6db11ce"
      },
      "execution_count": null,
      "outputs": [
        {
          "output_type": "execute_result",
          "data": {
            "text/plain": [
              "Select                   4452\n",
              "Online Search             736\n",
              "Word Of Mouth             316\n",
              "Student of SomeSchool     284\n",
              "Other                     171\n",
              "Multiple Sources          139\n",
              "Social Media               65\n",
              "Advertisements             61\n",
              "Email                      26\n",
              "SMS                        22\n",
              "Name: How did you hear about X Education, dtype: int64"
            ]
          },
          "metadata": {},
          "execution_count": 28
        }
      ]
    },
    {
      "cell_type": "code",
      "source": [
        "leads['Specialization'].value_counts()"
      ],
      "metadata": {
        "colab": {
          "base_uri": "https://localhost:8080/"
        },
        "id": "VzJ98mgNtJp2",
        "outputId": "a3b334b2-d794-48bc-f471-f79d4f1055bc"
      },
      "execution_count": null,
      "outputs": [
        {
          "output_type": "execute_result",
          "data": {
            "text/plain": [
              "Select                               1942\n",
              "Finance Management                    976\n",
              "Human Resource Management             848\n",
              "Marketing Management                  838\n",
              "Operations Management                 503\n",
              "Business Administration               403\n",
              "IT Projects Management                366\n",
              "Supply Chain Management               349\n",
              "Banking, Investment And Insurance     338\n",
              "Travel and Tourism                    203\n",
              "Media and Advertising                 203\n",
              "International Business                178\n",
              "Healthcare Management                 159\n",
              "Hospitality Management                114\n",
              "E-COMMERCE                            112\n",
              "Retail Management                     100\n",
              "Rural and Agribusiness                 73\n",
              "E-Business                             57\n",
              "Services Excellence                    40\n",
              "Name: Specialization, dtype: int64"
            ]
          },
          "metadata": {},
          "execution_count": 121
        }
      ]
    },
    {
      "cell_type": "code",
      "source": [
        "leads.drop(['Lead Profile', 'How did you hear about X Education'], axis = 1, inplace = True)"
      ],
      "metadata": {
        "id": "Qp2oFDp3tJyP"
      },
      "execution_count": null,
      "outputs": []
    },
    {
      "cell_type": "code",
      "source": [
        "## Since practically all of the values for these variables are No, it's best that we drop these columns as they won't help with our analysis.\n",
        "\n",
        "leads.drop(['Do Not Call', 'Search', 'Magazine', 'Newspaper Article', 'X Education Forums', 'Newspaper', \n",
        "            'Digital Advertisement', 'Through Recommendations', 'Receive More Updates About Our Courses', \n",
        "            'Update me on Supply Chain Content', 'Get updates on DM Content', \n",
        "            'I agree to pay the amount through cheque'], axis = 1, inplace = True)"
      ],
      "metadata": {
        "id": "IQezETDvtJ6d"
      },
      "execution_count": null,
      "outputs": []
    },
    {
      "cell_type": "code",
      "source": [
        "leads['What matters most to you in choosing a course'].value_counts()"
      ],
      "metadata": {
        "colab": {
          "base_uri": "https://localhost:8080/"
        },
        "id": "SJzIE4AEtitr",
        "outputId": "7167fc6a-6e0c-4828-96a6-15171e3a21f0"
      },
      "execution_count": null,
      "outputs": [
        {
          "output_type": "execute_result",
          "data": {
            "text/plain": [
              "Better Career Prospects      5799\n",
              "Flexibility & Convenience       2\n",
              "Name: What matters most to you in choosing a course, dtype: int64"
            ]
          },
          "metadata": {},
          "execution_count": 31
        }
      ]
    },
    {
      "cell_type": "code",
      "source": [
        "leads.drop(['What matters most to you in choosing a course'], axis = 1, inplace=True)"
      ],
      "metadata": {
        "id": "oI70ZnpItixn"
      },
      "execution_count": null,
      "outputs": []
    },
    {
      "cell_type": "code",
      "source": [
        "## So let's just drop the null rows for the column What is you current occupation.\n",
        "\n",
        "leads = leads[~pd.isnull(leads['What is your current occupation'])]"
      ],
      "metadata": {
        "id": "nK6akT-4ti6J"
      },
      "execution_count": null,
      "outputs": []
    },
    {
      "cell_type": "code",
      "source": [
        "# Check the number of null values again\n",
        "\n",
        "leads.isnull().sum()"
      ],
      "metadata": {
        "colab": {
          "base_uri": "https://localhost:8080/"
        },
        "id": "y8BiyaeSti2P",
        "outputId": "999ed3d0-c314-44fd-9932-81ae492e3821"
      },
      "execution_count": null,
      "outputs": [
        {
          "output_type": "execute_result",
          "data": {
            "text/plain": [
              "Prospect ID                                 0\n",
              "Lead Number                                 0\n",
              "Lead Origin                                 0\n",
              "Lead Source                                33\n",
              "Do Not Email                                0\n",
              "Converted                                   0\n",
              "TotalVisits                               127\n",
              "Total Time Spent on Website                 0\n",
              "Page Views Per Visit                      127\n",
              "Last Activity                             100\n",
              "Specialization                             17\n",
              "What is your current occupation             0\n",
              "A free copy of Mastering The Interview      1\n",
              "Last Notable Activity                       1\n",
              "State                                       0\n",
              "Country_modified                            0\n",
              "dtype: int64"
            ]
          },
          "metadata": {},
          "execution_count": 34
        }
      ]
    },
    {
      "cell_type": "code",
      "source": [
        "leads = leads[~pd.isnull(leads['Lead Source'])]"
      ],
      "metadata": {
        "id": "GY9YjG6Dti9l"
      },
      "execution_count": null,
      "outputs": []
    },
    {
      "cell_type": "code",
      "source": [
        "leads = leads[~pd.isnull(leads['Specialization'])]"
      ],
      "metadata": {
        "id": "5wJvf_71tjA5"
      },
      "execution_count": null,
      "outputs": []
    },
    {
      "cell_type": "code",
      "source": [
        "leads = leads[~pd.isnull(leads['TotalVisits'])]"
      ],
      "metadata": {
        "id": "N8dCK1fHxZ8O"
      },
      "execution_count": null,
      "outputs": []
    },
    {
      "cell_type": "code",
      "source": [
        "leads = leads[~pd.isnull(leads['Page Views Per Visit'])]"
      ],
      "metadata": {
        "id": "QVl1FOzWxaCF"
      },
      "execution_count": null,
      "outputs": []
    },
    {
      "cell_type": "code",
      "source": [
        "leads.isnull().sum()"
      ],
      "metadata": {
        "colab": {
          "base_uri": "https://localhost:8080/"
        },
        "id": "GfGLqXUjxaGT",
        "outputId": "11f3b026-e49b-4fd2-ee65-35eeb524666a"
      },
      "execution_count": null,
      "outputs": [
        {
          "output_type": "execute_result",
          "data": {
            "text/plain": [
              "Prospect ID                               0\n",
              "Lead Number                               0\n",
              "Lead Origin                               0\n",
              "Lead Source                               0\n",
              "Do Not Email                              0\n",
              "Converted                                 0\n",
              "TotalVisits                               0\n",
              "Total Time Spent on Website               0\n",
              "Page Views Per Visit                      0\n",
              "Last Activity                             0\n",
              "Specialization                            0\n",
              "What is your current occupation           0\n",
              "A free copy of Mastering The Interview    1\n",
              "Last Notable Activity                     1\n",
              "State                                     0\n",
              "Country_modified                          0\n",
              "dtype: int64"
            ]
          },
          "metadata": {},
          "execution_count": 39
        }
      ]
    },
    {
      "cell_type": "code",
      "source": [
        "leads.head()"
      ],
      "metadata": {
        "colab": {
          "base_uri": "https://localhost:8080/",
          "height": 476
        },
        "id": "viK8x3bHvMFH",
        "outputId": "21deaf3c-079b-4049-a303-27421634e4c3"
      },
      "execution_count": null,
      "outputs": [
        {
          "output_type": "execute_result",
          "data": {
            "text/plain": [
              "                            Prospect ID  Lead Number              Lead Origin  \\\n",
              "0  7927b2df-8bba-4d29-b9a2-b6e0beafe620       660737                      API   \n",
              "1  2a272436-5132-4136-86fa-dcc88c88f482       660728                      API   \n",
              "2  8cc8c611-a219-4f35-ad23-fdfd2656bd8a       660727  Landing Page Submission   \n",
              "3  0cc2df48-7cf4-4e39-9de9-19797f9b38cc       660719  Landing Page Submission   \n",
              "4  3256f628-e534-4826-9d63-4a8b88782852       660681  Landing Page Submission   \n",
              "\n",
              "      Lead Source Do Not Email  Converted  TotalVisits  \\\n",
              "0      Olark Chat           No          0          0.0   \n",
              "1  Organic Search           No          0          5.0   \n",
              "2  Direct Traffic           No          1          2.0   \n",
              "3  Direct Traffic           No          0          1.0   \n",
              "4          Google           No          1          2.0   \n",
              "\n",
              "   Total Time Spent on Website  Page Views Per Visit            Last Activity  \\\n",
              "0                            0                   0.0  Page Visited on Website   \n",
              "1                          674                   2.5             Email Opened   \n",
              "2                         1532                   2.0             Email Opened   \n",
              "3                          305                   1.0              Unreachable   \n",
              "4                         1428                   1.0        Converted to Lead   \n",
              "\n",
              "            Specialization What is your current occupation  \\\n",
              "0                   Select                      Unemployed   \n",
              "1                   Select                      Unemployed   \n",
              "2  Business Administration                         Student   \n",
              "3    Media and Advertising                      Unemployed   \n",
              "4                   Select                      Unemployed   \n",
              "\n",
              "  A free copy of Mastering The Interview Last Notable Activity       State  \\\n",
              "0                                     No              Modified     unknown   \n",
              "1                                     No          Email Opened     unknown   \n",
              "2                                    Yes          Email Opened  Maharastra   \n",
              "3                                     No              Modified  Maharastra   \n",
              "4                                     No              Modified  Maharastra   \n",
              "\n",
              "  Country_modified  \n",
              "0           Others  \n",
              "1            India  \n",
              "2            India  \n",
              "3            India  \n",
              "4            India  "
            ],
            "text/html": [
              "\n",
              "  <div id=\"df-05420d10-c0ae-4fef-89bd-aed2fe420157\">\n",
              "    <div class=\"colab-df-container\">\n",
              "      <div>\n",
              "<style scoped>\n",
              "    .dataframe tbody tr th:only-of-type {\n",
              "        vertical-align: middle;\n",
              "    }\n",
              "\n",
              "    .dataframe tbody tr th {\n",
              "        vertical-align: top;\n",
              "    }\n",
              "\n",
              "    .dataframe thead th {\n",
              "        text-align: right;\n",
              "    }\n",
              "</style>\n",
              "<table border=\"1\" class=\"dataframe\">\n",
              "  <thead>\n",
              "    <tr style=\"text-align: right;\">\n",
              "      <th></th>\n",
              "      <th>Prospect ID</th>\n",
              "      <th>Lead Number</th>\n",
              "      <th>Lead Origin</th>\n",
              "      <th>Lead Source</th>\n",
              "      <th>Do Not Email</th>\n",
              "      <th>Converted</th>\n",
              "      <th>TotalVisits</th>\n",
              "      <th>Total Time Spent on Website</th>\n",
              "      <th>Page Views Per Visit</th>\n",
              "      <th>Last Activity</th>\n",
              "      <th>Specialization</th>\n",
              "      <th>What is your current occupation</th>\n",
              "      <th>A free copy of Mastering The Interview</th>\n",
              "      <th>Last Notable Activity</th>\n",
              "      <th>State</th>\n",
              "      <th>Country_modified</th>\n",
              "    </tr>\n",
              "  </thead>\n",
              "  <tbody>\n",
              "    <tr>\n",
              "      <th>0</th>\n",
              "      <td>7927b2df-8bba-4d29-b9a2-b6e0beafe620</td>\n",
              "      <td>660737</td>\n",
              "      <td>API</td>\n",
              "      <td>Olark Chat</td>\n",
              "      <td>No</td>\n",
              "      <td>0</td>\n",
              "      <td>0.0</td>\n",
              "      <td>0</td>\n",
              "      <td>0.0</td>\n",
              "      <td>Page Visited on Website</td>\n",
              "      <td>Select</td>\n",
              "      <td>Unemployed</td>\n",
              "      <td>No</td>\n",
              "      <td>Modified</td>\n",
              "      <td>unknown</td>\n",
              "      <td>Others</td>\n",
              "    </tr>\n",
              "    <tr>\n",
              "      <th>1</th>\n",
              "      <td>2a272436-5132-4136-86fa-dcc88c88f482</td>\n",
              "      <td>660728</td>\n",
              "      <td>API</td>\n",
              "      <td>Organic Search</td>\n",
              "      <td>No</td>\n",
              "      <td>0</td>\n",
              "      <td>5.0</td>\n",
              "      <td>674</td>\n",
              "      <td>2.5</td>\n",
              "      <td>Email Opened</td>\n",
              "      <td>Select</td>\n",
              "      <td>Unemployed</td>\n",
              "      <td>No</td>\n",
              "      <td>Email Opened</td>\n",
              "      <td>unknown</td>\n",
              "      <td>India</td>\n",
              "    </tr>\n",
              "    <tr>\n",
              "      <th>2</th>\n",
              "      <td>8cc8c611-a219-4f35-ad23-fdfd2656bd8a</td>\n",
              "      <td>660727</td>\n",
              "      <td>Landing Page Submission</td>\n",
              "      <td>Direct Traffic</td>\n",
              "      <td>No</td>\n",
              "      <td>1</td>\n",
              "      <td>2.0</td>\n",
              "      <td>1532</td>\n",
              "      <td>2.0</td>\n",
              "      <td>Email Opened</td>\n",
              "      <td>Business Administration</td>\n",
              "      <td>Student</td>\n",
              "      <td>Yes</td>\n",
              "      <td>Email Opened</td>\n",
              "      <td>Maharastra</td>\n",
              "      <td>India</td>\n",
              "    </tr>\n",
              "    <tr>\n",
              "      <th>3</th>\n",
              "      <td>0cc2df48-7cf4-4e39-9de9-19797f9b38cc</td>\n",
              "      <td>660719</td>\n",
              "      <td>Landing Page Submission</td>\n",
              "      <td>Direct Traffic</td>\n",
              "      <td>No</td>\n",
              "      <td>0</td>\n",
              "      <td>1.0</td>\n",
              "      <td>305</td>\n",
              "      <td>1.0</td>\n",
              "      <td>Unreachable</td>\n",
              "      <td>Media and Advertising</td>\n",
              "      <td>Unemployed</td>\n",
              "      <td>No</td>\n",
              "      <td>Modified</td>\n",
              "      <td>Maharastra</td>\n",
              "      <td>India</td>\n",
              "    </tr>\n",
              "    <tr>\n",
              "      <th>4</th>\n",
              "      <td>3256f628-e534-4826-9d63-4a8b88782852</td>\n",
              "      <td>660681</td>\n",
              "      <td>Landing Page Submission</td>\n",
              "      <td>Google</td>\n",
              "      <td>No</td>\n",
              "      <td>1</td>\n",
              "      <td>2.0</td>\n",
              "      <td>1428</td>\n",
              "      <td>1.0</td>\n",
              "      <td>Converted to Lead</td>\n",
              "      <td>Select</td>\n",
              "      <td>Unemployed</td>\n",
              "      <td>No</td>\n",
              "      <td>Modified</td>\n",
              "      <td>Maharastra</td>\n",
              "      <td>India</td>\n",
              "    </tr>\n",
              "  </tbody>\n",
              "</table>\n",
              "</div>\n",
              "      <button class=\"colab-df-convert\" onclick=\"convertToInteractive('df-05420d10-c0ae-4fef-89bd-aed2fe420157')\"\n",
              "              title=\"Convert this dataframe to an interactive table.\"\n",
              "              style=\"display:none;\">\n",
              "        \n",
              "  <svg xmlns=\"http://www.w3.org/2000/svg\" height=\"24px\"viewBox=\"0 0 24 24\"\n",
              "       width=\"24px\">\n",
              "    <path d=\"M0 0h24v24H0V0z\" fill=\"none\"/>\n",
              "    <path d=\"M18.56 5.44l.94 2.06.94-2.06 2.06-.94-2.06-.94-.94-2.06-.94 2.06-2.06.94zm-11 1L8.5 8.5l.94-2.06 2.06-.94-2.06-.94L8.5 2.5l-.94 2.06-2.06.94zm10 10l.94 2.06.94-2.06 2.06-.94-2.06-.94-.94-2.06-.94 2.06-2.06.94z\"/><path d=\"M17.41 7.96l-1.37-1.37c-.4-.4-.92-.59-1.43-.59-.52 0-1.04.2-1.43.59L10.3 9.45l-7.72 7.72c-.78.78-.78 2.05 0 2.83L4 21.41c.39.39.9.59 1.41.59.51 0 1.02-.2 1.41-.59l7.78-7.78 2.81-2.81c.8-.78.8-2.07 0-2.86zM5.41 20L4 18.59l7.72-7.72 1.47 1.35L5.41 20z\"/>\n",
              "  </svg>\n",
              "      </button>\n",
              "      \n",
              "  <style>\n",
              "    .colab-df-container {\n",
              "      display:flex;\n",
              "      flex-wrap:wrap;\n",
              "      gap: 12px;\n",
              "    }\n",
              "\n",
              "    .colab-df-convert {\n",
              "      background-color: #E8F0FE;\n",
              "      border: none;\n",
              "      border-radius: 50%;\n",
              "      cursor: pointer;\n",
              "      display: none;\n",
              "      fill: #1967D2;\n",
              "      height: 32px;\n",
              "      padding: 0 0 0 0;\n",
              "      width: 32px;\n",
              "    }\n",
              "\n",
              "    .colab-df-convert:hover {\n",
              "      background-color: #E2EBFA;\n",
              "      box-shadow: 0px 1px 2px rgba(60, 64, 67, 0.3), 0px 1px 3px 1px rgba(60, 64, 67, 0.15);\n",
              "      fill: #174EA6;\n",
              "    }\n",
              "\n",
              "    [theme=dark] .colab-df-convert {\n",
              "      background-color: #3B4455;\n",
              "      fill: #D2E3FC;\n",
              "    }\n",
              "\n",
              "    [theme=dark] .colab-df-convert:hover {\n",
              "      background-color: #434B5C;\n",
              "      box-shadow: 0px 1px 3px 1px rgba(0, 0, 0, 0.15);\n",
              "      filter: drop-shadow(0px 1px 2px rgba(0, 0, 0, 0.3));\n",
              "      fill: #FFFFFF;\n",
              "    }\n",
              "  </style>\n",
              "\n",
              "      <script>\n",
              "        const buttonEl =\n",
              "          document.querySelector('#df-05420d10-c0ae-4fef-89bd-aed2fe420157 button.colab-df-convert');\n",
              "        buttonEl.style.display =\n",
              "          google.colab.kernel.accessAllowed ? 'block' : 'none';\n",
              "\n",
              "        async function convertToInteractive(key) {\n",
              "          const element = document.querySelector('#df-05420d10-c0ae-4fef-89bd-aed2fe420157');\n",
              "          const dataTable =\n",
              "            await google.colab.kernel.invokeFunction('convertToInteractive',\n",
              "                                                     [key], {});\n",
              "          if (!dataTable) return;\n",
              "\n",
              "          const docLinkHtml = 'Like what you see? Visit the ' +\n",
              "            '<a target=\"_blank\" href=https://colab.research.google.com/notebooks/data_table.ipynb>data table notebook</a>'\n",
              "            + ' to learn more about interactive tables.';\n",
              "          element.innerHTML = '';\n",
              "          dataTable['output_type'] = 'display_data';\n",
              "          await google.colab.output.renderOutput(dataTable, element);\n",
              "          const docLink = document.createElement('div');\n",
              "          docLink.innerHTML = docLinkHtml;\n",
              "          element.appendChild(docLink);\n",
              "        }\n",
              "      </script>\n",
              "    </div>\n",
              "  </div>\n",
              "  "
            ]
          },
          "metadata": {},
          "execution_count": 40
        }
      ]
    },
    {
      "cell_type": "code",
      "source": [
        "print(len(leads.index))\n",
        "print(len(leads.index)/9240)"
      ],
      "metadata": {
        "colab": {
          "base_uri": "https://localhost:8080/"
        },
        "id": "mjp4ggr4vPjx",
        "outputId": "00ca3645-248f-4119-fb47-e26bd19b95a8"
      },
      "execution_count": null,
      "outputs": [
        {
          "output_type": "stream",
          "name": "stdout",
          "text": [
            "5649\n",
            "0.6113636363636363\n"
          ]
        }
      ]
    },
    {
      "cell_type": "code",
      "source": [
        "leads.drop(['Prospect ID', 'Lead Number'], 1, inplace = True)"
      ],
      "metadata": {
        "id": "vz4G-hZgqzn-"
      },
      "execution_count": null,
      "outputs": []
    },
    {
      "cell_type": "markdown",
      "source": [
        "we still have around 69% of rows which seems good enough"
      ],
      "metadata": {
        "id": "Jk2R3GIDvcLU"
      }
    },
    {
      "cell_type": "markdown",
      "source": [
        "### Dummy variable creation\n",
        "\n"
      ],
      "metadata": {
        "id": "cfUsCIz_yfDx"
      }
    },
    {
      "cell_type": "code",
      "source": [
        "# Check the columns which are of type 'object'\n",
        "\n",
        "temp = leads.loc[:, leads.dtypes == 'object']\n",
        "temp.columns"
      ],
      "metadata": {
        "colab": {
          "base_uri": "https://localhost:8080/"
        },
        "id": "78PO4CaUyKwy",
        "outputId": "3fe4f16a-645a-450b-bbe6-766da30bc2df"
      },
      "execution_count": null,
      "outputs": [
        {
          "output_type": "execute_result",
          "data": {
            "text/plain": [
              "Index(['Lead Origin', 'Lead Source', 'Do Not Email', 'Last Activity',\n",
              "       'Specialization', 'What is your current occupation',\n",
              "       'A free copy of Mastering The Interview', 'Last Notable Activity',\n",
              "       'State', 'Country_modified'],\n",
              "      dtype='object')"
            ]
          },
          "metadata": {},
          "execution_count": 43
        }
      ]
    },
    {
      "cell_type": "code",
      "source": [
        "dummy = pd.get_dummies(leads[['Lead Origin', 'Lead Source', 'Do Not Email', 'Last Activity',\n",
        "                              'What is your current occupation','A free copy of Mastering The Interview', \n",
        "                              'Last Notable Activity']], drop_first=True)\n",
        "\n",
        "\n",
        "leads = pd.concat([leads, dummy], axis=1)"
      ],
      "metadata": {
        "id": "xsX8X3Y5ygGB"
      },
      "execution_count": null,
      "outputs": []
    },
    {
      "cell_type": "code",
      "source": [
        "dummy_spl = pd.get_dummies(leads['Specialization'], prefix = 'Specialization')\n",
        "dummy_spl = dummy_spl.drop(['Specialization_Select'], 1)\n",
        "leads = pd.concat([leads, dummy_spl], axis = 1)"
      ],
      "metadata": {
        "id": "ByYsX_KsmV7Y"
      },
      "execution_count": null,
      "outputs": []
    },
    {
      "cell_type": "code",
      "source": [
        "leads = leads.drop(['Lead Origin', 'Lead Source', 'Do Not Email', 'Last Activity',\n",
        "                   'Specialization', 'What is your current occupation',\n",
        "                   'A free copy of Mastering The Interview', 'Last Notable Activity'], 1)"
      ],
      "metadata": {
        "id": "2XbTp4IYmnel"
      },
      "execution_count": null,
      "outputs": []
    },
    {
      "cell_type": "code",
      "source": [
        "leads.head()"
      ],
      "metadata": {
        "colab": {
          "base_uri": "https://localhost:8080/",
          "height": 368
        },
        "id": "gx7qy9f8nKXL",
        "outputId": "341f7338-f7aa-4c41-e39c-4f1dd3c7fe9a"
      },
      "execution_count": null,
      "outputs": [
        {
          "output_type": "execute_result",
          "data": {
            "text/plain": [
              "   Converted  TotalVisits  Total Time Spent on Website  Page Views Per Visit  \\\n",
              "0          0          0.0                            0                   0.0   \n",
              "1          0          5.0                          674                   2.5   \n",
              "2          1          2.0                         1532                   2.0   \n",
              "3          0          1.0                          305                   1.0   \n",
              "4          1          2.0                         1428                   1.0   \n",
              "\n",
              "        State Country_modified  Lead Origin_Landing Page Submission  \\\n",
              "0     unknown           Others                                    0   \n",
              "1     unknown            India                                    0   \n",
              "2  Maharastra            India                                    1   \n",
              "3  Maharastra            India                                    1   \n",
              "4  Maharastra            India                                    1   \n",
              "\n",
              "   Lead Origin_Lead Add Form  Lead Origin_Lead Import  \\\n",
              "0                          0                        0   \n",
              "1                          0                        0   \n",
              "2                          0                        0   \n",
              "3                          0                        0   \n",
              "4                          0                        0   \n",
              "\n",
              "   Lead Source_Direct Traffic  ...  Specialization_IT Projects Management  \\\n",
              "0                           0  ...                                      0   \n",
              "1                           0  ...                                      0   \n",
              "2                           1  ...                                      0   \n",
              "3                           1  ...                                      0   \n",
              "4                           0  ...                                      0   \n",
              "\n",
              "   Specialization_International Business  Specialization_Marketing Management  \\\n",
              "0                                      0                                    0   \n",
              "1                                      0                                    0   \n",
              "2                                      0                                    0   \n",
              "3                                      0                                    0   \n",
              "4                                      0                                    0   \n",
              "\n",
              "   Specialization_Media and Advertising  Specialization_Operations Management  \\\n",
              "0                                     0                                     0   \n",
              "1                                     0                                     0   \n",
              "2                                     0                                     0   \n",
              "3                                     1                                     0   \n",
              "4                                     0                                     0   \n",
              "\n",
              "   Specialization_Retail Management  Specialization_Rural and Agribusiness  \\\n",
              "0                                 0                                      0   \n",
              "1                                 0                                      0   \n",
              "2                                 0                                      0   \n",
              "3                                 0                                      0   \n",
              "4                                 0                                      0   \n",
              "\n",
              "   Specialization_Services Excellence  Specialization_Supply Chain Management  \\\n",
              "0                                   0                                       0   \n",
              "1                                   0                                       0   \n",
              "2                                   0                                       0   \n",
              "3                                   0                                       0   \n",
              "4                                   0                                       0   \n",
              "\n",
              "   Specialization_Travel and Tourism  \n",
              "0                                  0  \n",
              "1                                  0  \n",
              "2                                  0  \n",
              "3                                  0  \n",
              "4                                  0  \n",
              "\n",
              "[5 rows x 77 columns]"
            ],
            "text/html": [
              "\n",
              "  <div id=\"df-327b3b37-a45f-4322-a7b6-97687fb01370\">\n",
              "    <div class=\"colab-df-container\">\n",
              "      <div>\n",
              "<style scoped>\n",
              "    .dataframe tbody tr th:only-of-type {\n",
              "        vertical-align: middle;\n",
              "    }\n",
              "\n",
              "    .dataframe tbody tr th {\n",
              "        vertical-align: top;\n",
              "    }\n",
              "\n",
              "    .dataframe thead th {\n",
              "        text-align: right;\n",
              "    }\n",
              "</style>\n",
              "<table border=\"1\" class=\"dataframe\">\n",
              "  <thead>\n",
              "    <tr style=\"text-align: right;\">\n",
              "      <th></th>\n",
              "      <th>Converted</th>\n",
              "      <th>TotalVisits</th>\n",
              "      <th>Total Time Spent on Website</th>\n",
              "      <th>Page Views Per Visit</th>\n",
              "      <th>State</th>\n",
              "      <th>Country_modified</th>\n",
              "      <th>Lead Origin_Landing Page Submission</th>\n",
              "      <th>Lead Origin_Lead Add Form</th>\n",
              "      <th>Lead Origin_Lead Import</th>\n",
              "      <th>Lead Source_Direct Traffic</th>\n",
              "      <th>...</th>\n",
              "      <th>Specialization_IT Projects Management</th>\n",
              "      <th>Specialization_International Business</th>\n",
              "      <th>Specialization_Marketing Management</th>\n",
              "      <th>Specialization_Media and Advertising</th>\n",
              "      <th>Specialization_Operations Management</th>\n",
              "      <th>Specialization_Retail Management</th>\n",
              "      <th>Specialization_Rural and Agribusiness</th>\n",
              "      <th>Specialization_Services Excellence</th>\n",
              "      <th>Specialization_Supply Chain Management</th>\n",
              "      <th>Specialization_Travel and Tourism</th>\n",
              "    </tr>\n",
              "  </thead>\n",
              "  <tbody>\n",
              "    <tr>\n",
              "      <th>0</th>\n",
              "      <td>0</td>\n",
              "      <td>0.0</td>\n",
              "      <td>0</td>\n",
              "      <td>0.0</td>\n",
              "      <td>unknown</td>\n",
              "      <td>Others</td>\n",
              "      <td>0</td>\n",
              "      <td>0</td>\n",
              "      <td>0</td>\n",
              "      <td>0</td>\n",
              "      <td>...</td>\n",
              "      <td>0</td>\n",
              "      <td>0</td>\n",
              "      <td>0</td>\n",
              "      <td>0</td>\n",
              "      <td>0</td>\n",
              "      <td>0</td>\n",
              "      <td>0</td>\n",
              "      <td>0</td>\n",
              "      <td>0</td>\n",
              "      <td>0</td>\n",
              "    </tr>\n",
              "    <tr>\n",
              "      <th>1</th>\n",
              "      <td>0</td>\n",
              "      <td>5.0</td>\n",
              "      <td>674</td>\n",
              "      <td>2.5</td>\n",
              "      <td>unknown</td>\n",
              "      <td>India</td>\n",
              "      <td>0</td>\n",
              "      <td>0</td>\n",
              "      <td>0</td>\n",
              "      <td>0</td>\n",
              "      <td>...</td>\n",
              "      <td>0</td>\n",
              "      <td>0</td>\n",
              "      <td>0</td>\n",
              "      <td>0</td>\n",
              "      <td>0</td>\n",
              "      <td>0</td>\n",
              "      <td>0</td>\n",
              "      <td>0</td>\n",
              "      <td>0</td>\n",
              "      <td>0</td>\n",
              "    </tr>\n",
              "    <tr>\n",
              "      <th>2</th>\n",
              "      <td>1</td>\n",
              "      <td>2.0</td>\n",
              "      <td>1532</td>\n",
              "      <td>2.0</td>\n",
              "      <td>Maharastra</td>\n",
              "      <td>India</td>\n",
              "      <td>1</td>\n",
              "      <td>0</td>\n",
              "      <td>0</td>\n",
              "      <td>1</td>\n",
              "      <td>...</td>\n",
              "      <td>0</td>\n",
              "      <td>0</td>\n",
              "      <td>0</td>\n",
              "      <td>0</td>\n",
              "      <td>0</td>\n",
              "      <td>0</td>\n",
              "      <td>0</td>\n",
              "      <td>0</td>\n",
              "      <td>0</td>\n",
              "      <td>0</td>\n",
              "    </tr>\n",
              "    <tr>\n",
              "      <th>3</th>\n",
              "      <td>0</td>\n",
              "      <td>1.0</td>\n",
              "      <td>305</td>\n",
              "      <td>1.0</td>\n",
              "      <td>Maharastra</td>\n",
              "      <td>India</td>\n",
              "      <td>1</td>\n",
              "      <td>0</td>\n",
              "      <td>0</td>\n",
              "      <td>1</td>\n",
              "      <td>...</td>\n",
              "      <td>0</td>\n",
              "      <td>0</td>\n",
              "      <td>0</td>\n",
              "      <td>1</td>\n",
              "      <td>0</td>\n",
              "      <td>0</td>\n",
              "      <td>0</td>\n",
              "      <td>0</td>\n",
              "      <td>0</td>\n",
              "      <td>0</td>\n",
              "    </tr>\n",
              "    <tr>\n",
              "      <th>4</th>\n",
              "      <td>1</td>\n",
              "      <td>2.0</td>\n",
              "      <td>1428</td>\n",
              "      <td>1.0</td>\n",
              "      <td>Maharastra</td>\n",
              "      <td>India</td>\n",
              "      <td>1</td>\n",
              "      <td>0</td>\n",
              "      <td>0</td>\n",
              "      <td>0</td>\n",
              "      <td>...</td>\n",
              "      <td>0</td>\n",
              "      <td>0</td>\n",
              "      <td>0</td>\n",
              "      <td>0</td>\n",
              "      <td>0</td>\n",
              "      <td>0</td>\n",
              "      <td>0</td>\n",
              "      <td>0</td>\n",
              "      <td>0</td>\n",
              "      <td>0</td>\n",
              "    </tr>\n",
              "  </tbody>\n",
              "</table>\n",
              "<p>5 rows × 77 columns</p>\n",
              "</div>\n",
              "      <button class=\"colab-df-convert\" onclick=\"convertToInteractive('df-327b3b37-a45f-4322-a7b6-97687fb01370')\"\n",
              "              title=\"Convert this dataframe to an interactive table.\"\n",
              "              style=\"display:none;\">\n",
              "        \n",
              "  <svg xmlns=\"http://www.w3.org/2000/svg\" height=\"24px\"viewBox=\"0 0 24 24\"\n",
              "       width=\"24px\">\n",
              "    <path d=\"M0 0h24v24H0V0z\" fill=\"none\"/>\n",
              "    <path d=\"M18.56 5.44l.94 2.06.94-2.06 2.06-.94-2.06-.94-.94-2.06-.94 2.06-2.06.94zm-11 1L8.5 8.5l.94-2.06 2.06-.94-2.06-.94L8.5 2.5l-.94 2.06-2.06.94zm10 10l.94 2.06.94-2.06 2.06-.94-2.06-.94-.94-2.06-.94 2.06-2.06.94z\"/><path d=\"M17.41 7.96l-1.37-1.37c-.4-.4-.92-.59-1.43-.59-.52 0-1.04.2-1.43.59L10.3 9.45l-7.72 7.72c-.78.78-.78 2.05 0 2.83L4 21.41c.39.39.9.59 1.41.59.51 0 1.02-.2 1.41-.59l7.78-7.78 2.81-2.81c.8-.78.8-2.07 0-2.86zM5.41 20L4 18.59l7.72-7.72 1.47 1.35L5.41 20z\"/>\n",
              "  </svg>\n",
              "      </button>\n",
              "      \n",
              "  <style>\n",
              "    .colab-df-container {\n",
              "      display:flex;\n",
              "      flex-wrap:wrap;\n",
              "      gap: 12px;\n",
              "    }\n",
              "\n",
              "    .colab-df-convert {\n",
              "      background-color: #E8F0FE;\n",
              "      border: none;\n",
              "      border-radius: 50%;\n",
              "      cursor: pointer;\n",
              "      display: none;\n",
              "      fill: #1967D2;\n",
              "      height: 32px;\n",
              "      padding: 0 0 0 0;\n",
              "      width: 32px;\n",
              "    }\n",
              "\n",
              "    .colab-df-convert:hover {\n",
              "      background-color: #E2EBFA;\n",
              "      box-shadow: 0px 1px 2px rgba(60, 64, 67, 0.3), 0px 1px 3px 1px rgba(60, 64, 67, 0.15);\n",
              "      fill: #174EA6;\n",
              "    }\n",
              "\n",
              "    [theme=dark] .colab-df-convert {\n",
              "      background-color: #3B4455;\n",
              "      fill: #D2E3FC;\n",
              "    }\n",
              "\n",
              "    [theme=dark] .colab-df-convert:hover {\n",
              "      background-color: #434B5C;\n",
              "      box-shadow: 0px 1px 3px 1px rgba(0, 0, 0, 0.15);\n",
              "      filter: drop-shadow(0px 1px 2px rgba(0, 0, 0, 0.3));\n",
              "      fill: #FFFFFF;\n",
              "    }\n",
              "  </style>\n",
              "\n",
              "      <script>\n",
              "        const buttonEl =\n",
              "          document.querySelector('#df-327b3b37-a45f-4322-a7b6-97687fb01370 button.colab-df-convert');\n",
              "        buttonEl.style.display =\n",
              "          google.colab.kernel.accessAllowed ? 'block' : 'none';\n",
              "\n",
              "        async function convertToInteractive(key) {\n",
              "          const element = document.querySelector('#df-327b3b37-a45f-4322-a7b6-97687fb01370');\n",
              "          const dataTable =\n",
              "            await google.colab.kernel.invokeFunction('convertToInteractive',\n",
              "                                                     [key], {});\n",
              "          if (!dataTable) return;\n",
              "\n",
              "          const docLinkHtml = 'Like what you see? Visit the ' +\n",
              "            '<a target=\"_blank\" href=https://colab.research.google.com/notebooks/data_table.ipynb>data table notebook</a>'\n",
              "            + ' to learn more about interactive tables.';\n",
              "          element.innerHTML = '';\n",
              "          dataTable['output_type'] = 'display_data';\n",
              "          await google.colab.output.renderOutput(dataTable, element);\n",
              "          const docLink = document.createElement('div');\n",
              "          docLink.innerHTML = docLinkHtml;\n",
              "          element.appendChild(docLink);\n",
              "        }\n",
              "      </script>\n",
              "    </div>\n",
              "  </div>\n",
              "  "
            ]
          },
          "metadata": {},
          "execution_count": 47
        }
      ]
    },
    {
      "cell_type": "code",
      "source": [
        "leads.drop(['State',\"Country_modified\"],axis=1,inplace=True)"
      ],
      "metadata": {
        "id": "wczKHv5LnKcp"
      },
      "execution_count": null,
      "outputs": []
    },
    {
      "cell_type": "code",
      "source": [
        "leads.head()"
      ],
      "metadata": {
        "colab": {
          "base_uri": "https://localhost:8080/",
          "height": 368
        },
        "id": "dFA4CQ3qnKhz",
        "outputId": "a29fe06a-45ea-4def-a176-b4762909553d"
      },
      "execution_count": null,
      "outputs": [
        {
          "output_type": "execute_result",
          "data": {
            "text/plain": [
              "   Converted  TotalVisits  Total Time Spent on Website  Page Views Per Visit  \\\n",
              "0          0          0.0                            0                   0.0   \n",
              "1          0          5.0                          674                   2.5   \n",
              "2          1          2.0                         1532                   2.0   \n",
              "3          0          1.0                          305                   1.0   \n",
              "4          1          2.0                         1428                   1.0   \n",
              "\n",
              "   Lead Origin_Landing Page Submission  Lead Origin_Lead Add Form  \\\n",
              "0                                    0                          0   \n",
              "1                                    0                          0   \n",
              "2                                    1                          0   \n",
              "3                                    1                          0   \n",
              "4                                    1                          0   \n",
              "\n",
              "   Lead Origin_Lead Import  Lead Source_Direct Traffic  Lead Source_Facebook  \\\n",
              "0                        0                           0                     0   \n",
              "1                        0                           0                     0   \n",
              "2                        0                           1                     0   \n",
              "3                        0                           1                     0   \n",
              "4                        0                           0                     0   \n",
              "\n",
              "   Lead Source_Google  ...  Specialization_IT Projects Management  \\\n",
              "0                   0  ...                                      0   \n",
              "1                   0  ...                                      0   \n",
              "2                   0  ...                                      0   \n",
              "3                   0  ...                                      0   \n",
              "4                   1  ...                                      0   \n",
              "\n",
              "   Specialization_International Business  Specialization_Marketing Management  \\\n",
              "0                                      0                                    0   \n",
              "1                                      0                                    0   \n",
              "2                                      0                                    0   \n",
              "3                                      0                                    0   \n",
              "4                                      0                                    0   \n",
              "\n",
              "   Specialization_Media and Advertising  Specialization_Operations Management  \\\n",
              "0                                     0                                     0   \n",
              "1                                     0                                     0   \n",
              "2                                     0                                     0   \n",
              "3                                     1                                     0   \n",
              "4                                     0                                     0   \n",
              "\n",
              "   Specialization_Retail Management  Specialization_Rural and Agribusiness  \\\n",
              "0                                 0                                      0   \n",
              "1                                 0                                      0   \n",
              "2                                 0                                      0   \n",
              "3                                 0                                      0   \n",
              "4                                 0                                      0   \n",
              "\n",
              "   Specialization_Services Excellence  Specialization_Supply Chain Management  \\\n",
              "0                                   0                                       0   \n",
              "1                                   0                                       0   \n",
              "2                                   0                                       0   \n",
              "3                                   0                                       0   \n",
              "4                                   0                                       0   \n",
              "\n",
              "   Specialization_Travel and Tourism  \n",
              "0                                  0  \n",
              "1                                  0  \n",
              "2                                  0  \n",
              "3                                  0  \n",
              "4                                  0  \n",
              "\n",
              "[5 rows x 75 columns]"
            ],
            "text/html": [
              "\n",
              "  <div id=\"df-bb710f5d-e15e-4091-96b1-dccd6506507e\">\n",
              "    <div class=\"colab-df-container\">\n",
              "      <div>\n",
              "<style scoped>\n",
              "    .dataframe tbody tr th:only-of-type {\n",
              "        vertical-align: middle;\n",
              "    }\n",
              "\n",
              "    .dataframe tbody tr th {\n",
              "        vertical-align: top;\n",
              "    }\n",
              "\n",
              "    .dataframe thead th {\n",
              "        text-align: right;\n",
              "    }\n",
              "</style>\n",
              "<table border=\"1\" class=\"dataframe\">\n",
              "  <thead>\n",
              "    <tr style=\"text-align: right;\">\n",
              "      <th></th>\n",
              "      <th>Converted</th>\n",
              "      <th>TotalVisits</th>\n",
              "      <th>Total Time Spent on Website</th>\n",
              "      <th>Page Views Per Visit</th>\n",
              "      <th>Lead Origin_Landing Page Submission</th>\n",
              "      <th>Lead Origin_Lead Add Form</th>\n",
              "      <th>Lead Origin_Lead Import</th>\n",
              "      <th>Lead Source_Direct Traffic</th>\n",
              "      <th>Lead Source_Facebook</th>\n",
              "      <th>Lead Source_Google</th>\n",
              "      <th>...</th>\n",
              "      <th>Specialization_IT Projects Management</th>\n",
              "      <th>Specialization_International Business</th>\n",
              "      <th>Specialization_Marketing Management</th>\n",
              "      <th>Specialization_Media and Advertising</th>\n",
              "      <th>Specialization_Operations Management</th>\n",
              "      <th>Specialization_Retail Management</th>\n",
              "      <th>Specialization_Rural and Agribusiness</th>\n",
              "      <th>Specialization_Services Excellence</th>\n",
              "      <th>Specialization_Supply Chain Management</th>\n",
              "      <th>Specialization_Travel and Tourism</th>\n",
              "    </tr>\n",
              "  </thead>\n",
              "  <tbody>\n",
              "    <tr>\n",
              "      <th>0</th>\n",
              "      <td>0</td>\n",
              "      <td>0.0</td>\n",
              "      <td>0</td>\n",
              "      <td>0.0</td>\n",
              "      <td>0</td>\n",
              "      <td>0</td>\n",
              "      <td>0</td>\n",
              "      <td>0</td>\n",
              "      <td>0</td>\n",
              "      <td>0</td>\n",
              "      <td>...</td>\n",
              "      <td>0</td>\n",
              "      <td>0</td>\n",
              "      <td>0</td>\n",
              "      <td>0</td>\n",
              "      <td>0</td>\n",
              "      <td>0</td>\n",
              "      <td>0</td>\n",
              "      <td>0</td>\n",
              "      <td>0</td>\n",
              "      <td>0</td>\n",
              "    </tr>\n",
              "    <tr>\n",
              "      <th>1</th>\n",
              "      <td>0</td>\n",
              "      <td>5.0</td>\n",
              "      <td>674</td>\n",
              "      <td>2.5</td>\n",
              "      <td>0</td>\n",
              "      <td>0</td>\n",
              "      <td>0</td>\n",
              "      <td>0</td>\n",
              "      <td>0</td>\n",
              "      <td>0</td>\n",
              "      <td>...</td>\n",
              "      <td>0</td>\n",
              "      <td>0</td>\n",
              "      <td>0</td>\n",
              "      <td>0</td>\n",
              "      <td>0</td>\n",
              "      <td>0</td>\n",
              "      <td>0</td>\n",
              "      <td>0</td>\n",
              "      <td>0</td>\n",
              "      <td>0</td>\n",
              "    </tr>\n",
              "    <tr>\n",
              "      <th>2</th>\n",
              "      <td>1</td>\n",
              "      <td>2.0</td>\n",
              "      <td>1532</td>\n",
              "      <td>2.0</td>\n",
              "      <td>1</td>\n",
              "      <td>0</td>\n",
              "      <td>0</td>\n",
              "      <td>1</td>\n",
              "      <td>0</td>\n",
              "      <td>0</td>\n",
              "      <td>...</td>\n",
              "      <td>0</td>\n",
              "      <td>0</td>\n",
              "      <td>0</td>\n",
              "      <td>0</td>\n",
              "      <td>0</td>\n",
              "      <td>0</td>\n",
              "      <td>0</td>\n",
              "      <td>0</td>\n",
              "      <td>0</td>\n",
              "      <td>0</td>\n",
              "    </tr>\n",
              "    <tr>\n",
              "      <th>3</th>\n",
              "      <td>0</td>\n",
              "      <td>1.0</td>\n",
              "      <td>305</td>\n",
              "      <td>1.0</td>\n",
              "      <td>1</td>\n",
              "      <td>0</td>\n",
              "      <td>0</td>\n",
              "      <td>1</td>\n",
              "      <td>0</td>\n",
              "      <td>0</td>\n",
              "      <td>...</td>\n",
              "      <td>0</td>\n",
              "      <td>0</td>\n",
              "      <td>0</td>\n",
              "      <td>1</td>\n",
              "      <td>0</td>\n",
              "      <td>0</td>\n",
              "      <td>0</td>\n",
              "      <td>0</td>\n",
              "      <td>0</td>\n",
              "      <td>0</td>\n",
              "    </tr>\n",
              "    <tr>\n",
              "      <th>4</th>\n",
              "      <td>1</td>\n",
              "      <td>2.0</td>\n",
              "      <td>1428</td>\n",
              "      <td>1.0</td>\n",
              "      <td>1</td>\n",
              "      <td>0</td>\n",
              "      <td>0</td>\n",
              "      <td>0</td>\n",
              "      <td>0</td>\n",
              "      <td>1</td>\n",
              "      <td>...</td>\n",
              "      <td>0</td>\n",
              "      <td>0</td>\n",
              "      <td>0</td>\n",
              "      <td>0</td>\n",
              "      <td>0</td>\n",
              "      <td>0</td>\n",
              "      <td>0</td>\n",
              "      <td>0</td>\n",
              "      <td>0</td>\n",
              "      <td>0</td>\n",
              "    </tr>\n",
              "  </tbody>\n",
              "</table>\n",
              "<p>5 rows × 75 columns</p>\n",
              "</div>\n",
              "      <button class=\"colab-df-convert\" onclick=\"convertToInteractive('df-bb710f5d-e15e-4091-96b1-dccd6506507e')\"\n",
              "              title=\"Convert this dataframe to an interactive table.\"\n",
              "              style=\"display:none;\">\n",
              "        \n",
              "  <svg xmlns=\"http://www.w3.org/2000/svg\" height=\"24px\"viewBox=\"0 0 24 24\"\n",
              "       width=\"24px\">\n",
              "    <path d=\"M0 0h24v24H0V0z\" fill=\"none\"/>\n",
              "    <path d=\"M18.56 5.44l.94 2.06.94-2.06 2.06-.94-2.06-.94-.94-2.06-.94 2.06-2.06.94zm-11 1L8.5 8.5l.94-2.06 2.06-.94-2.06-.94L8.5 2.5l-.94 2.06-2.06.94zm10 10l.94 2.06.94-2.06 2.06-.94-2.06-.94-.94-2.06-.94 2.06-2.06.94z\"/><path d=\"M17.41 7.96l-1.37-1.37c-.4-.4-.92-.59-1.43-.59-.52 0-1.04.2-1.43.59L10.3 9.45l-7.72 7.72c-.78.78-.78 2.05 0 2.83L4 21.41c.39.39.9.59 1.41.59.51 0 1.02-.2 1.41-.59l7.78-7.78 2.81-2.81c.8-.78.8-2.07 0-2.86zM5.41 20L4 18.59l7.72-7.72 1.47 1.35L5.41 20z\"/>\n",
              "  </svg>\n",
              "      </button>\n",
              "      \n",
              "  <style>\n",
              "    .colab-df-container {\n",
              "      display:flex;\n",
              "      flex-wrap:wrap;\n",
              "      gap: 12px;\n",
              "    }\n",
              "\n",
              "    .colab-df-convert {\n",
              "      background-color: #E8F0FE;\n",
              "      border: none;\n",
              "      border-radius: 50%;\n",
              "      cursor: pointer;\n",
              "      display: none;\n",
              "      fill: #1967D2;\n",
              "      height: 32px;\n",
              "      padding: 0 0 0 0;\n",
              "      width: 32px;\n",
              "    }\n",
              "\n",
              "    .colab-df-convert:hover {\n",
              "      background-color: #E2EBFA;\n",
              "      box-shadow: 0px 1px 2px rgba(60, 64, 67, 0.3), 0px 1px 3px 1px rgba(60, 64, 67, 0.15);\n",
              "      fill: #174EA6;\n",
              "    }\n",
              "\n",
              "    [theme=dark] .colab-df-convert {\n",
              "      background-color: #3B4455;\n",
              "      fill: #D2E3FC;\n",
              "    }\n",
              "\n",
              "    [theme=dark] .colab-df-convert:hover {\n",
              "      background-color: #434B5C;\n",
              "      box-shadow: 0px 1px 3px 1px rgba(0, 0, 0, 0.15);\n",
              "      filter: drop-shadow(0px 1px 2px rgba(0, 0, 0, 0.3));\n",
              "      fill: #FFFFFF;\n",
              "    }\n",
              "  </style>\n",
              "\n",
              "      <script>\n",
              "        const buttonEl =\n",
              "          document.querySelector('#df-bb710f5d-e15e-4091-96b1-dccd6506507e button.colab-df-convert');\n",
              "        buttonEl.style.display =\n",
              "          google.colab.kernel.accessAllowed ? 'block' : 'none';\n",
              "\n",
              "        async function convertToInteractive(key) {\n",
              "          const element = document.querySelector('#df-bb710f5d-e15e-4091-96b1-dccd6506507e');\n",
              "          const dataTable =\n",
              "            await google.colab.kernel.invokeFunction('convertToInteractive',\n",
              "                                                     [key], {});\n",
              "          if (!dataTable) return;\n",
              "\n",
              "          const docLinkHtml = 'Like what you see? Visit the ' +\n",
              "            '<a target=\"_blank\" href=https://colab.research.google.com/notebooks/data_table.ipynb>data table notebook</a>'\n",
              "            + ' to learn more about interactive tables.';\n",
              "          element.innerHTML = '';\n",
              "          dataTable['output_type'] = 'display_data';\n",
              "          await google.colab.output.renderOutput(dataTable, element);\n",
              "          const docLink = document.createElement('div');\n",
              "          docLink.innerHTML = docLinkHtml;\n",
              "          element.appendChild(docLink);\n",
              "        }\n",
              "      </script>\n",
              "    </div>\n",
              "  </div>\n",
              "  "
            ]
          },
          "metadata": {},
          "execution_count": 49
        }
      ]
    },
    {
      "cell_type": "markdown",
      "source": [
        "### Test-Train Split"
      ],
      "metadata": {
        "id": "l_bWGCOvn6-f"
      }
    },
    {
      "cell_type": "code",
      "source": [
        "from sklearn.model_selection import train_test_split"
      ],
      "metadata": {
        "id": "aXhPuenjnKls"
      },
      "execution_count": null,
      "outputs": []
    },
    {
      "cell_type": "code",
      "source": [
        "X = leads.drop(['Converted'], 1)\n",
        "X.head()"
      ],
      "metadata": {
        "colab": {
          "base_uri": "https://localhost:8080/",
          "height": 368
        },
        "id": "eJn8X-84ny7x",
        "outputId": "fe65c9a9-7610-48d1-9040-b1fe476c6e63"
      },
      "execution_count": null,
      "outputs": [
        {
          "output_type": "execute_result",
          "data": {
            "text/plain": [
              "   TotalVisits  Total Time Spent on Website  Page Views Per Visit  \\\n",
              "0          0.0                            0                   0.0   \n",
              "1          5.0                          674                   2.5   \n",
              "2          2.0                         1532                   2.0   \n",
              "3          1.0                          305                   1.0   \n",
              "4          2.0                         1428                   1.0   \n",
              "\n",
              "   Lead Origin_Landing Page Submission  Lead Origin_Lead Add Form  \\\n",
              "0                                    0                          0   \n",
              "1                                    0                          0   \n",
              "2                                    1                          0   \n",
              "3                                    1                          0   \n",
              "4                                    1                          0   \n",
              "\n",
              "   Lead Origin_Lead Import  Lead Source_Direct Traffic  Lead Source_Facebook  \\\n",
              "0                        0                           0                     0   \n",
              "1                        0                           0                     0   \n",
              "2                        0                           1                     0   \n",
              "3                        0                           1                     0   \n",
              "4                        0                           0                     0   \n",
              "\n",
              "   Lead Source_Google  Lead Source_Live Chat  ...  \\\n",
              "0                   0                      0  ...   \n",
              "1                   0                      0  ...   \n",
              "2                   0                      0  ...   \n",
              "3                   0                      0  ...   \n",
              "4                   1                      0  ...   \n",
              "\n",
              "   Specialization_IT Projects Management  \\\n",
              "0                                      0   \n",
              "1                                      0   \n",
              "2                                      0   \n",
              "3                                      0   \n",
              "4                                      0   \n",
              "\n",
              "   Specialization_International Business  Specialization_Marketing Management  \\\n",
              "0                                      0                                    0   \n",
              "1                                      0                                    0   \n",
              "2                                      0                                    0   \n",
              "3                                      0                                    0   \n",
              "4                                      0                                    0   \n",
              "\n",
              "   Specialization_Media and Advertising  Specialization_Operations Management  \\\n",
              "0                                     0                                     0   \n",
              "1                                     0                                     0   \n",
              "2                                     0                                     0   \n",
              "3                                     1                                     0   \n",
              "4                                     0                                     0   \n",
              "\n",
              "   Specialization_Retail Management  Specialization_Rural and Agribusiness  \\\n",
              "0                                 0                                      0   \n",
              "1                                 0                                      0   \n",
              "2                                 0                                      0   \n",
              "3                                 0                                      0   \n",
              "4                                 0                                      0   \n",
              "\n",
              "   Specialization_Services Excellence  Specialization_Supply Chain Management  \\\n",
              "0                                   0                                       0   \n",
              "1                                   0                                       0   \n",
              "2                                   0                                       0   \n",
              "3                                   0                                       0   \n",
              "4                                   0                                       0   \n",
              "\n",
              "   Specialization_Travel and Tourism  \n",
              "0                                  0  \n",
              "1                                  0  \n",
              "2                                  0  \n",
              "3                                  0  \n",
              "4                                  0  \n",
              "\n",
              "[5 rows x 74 columns]"
            ],
            "text/html": [
              "\n",
              "  <div id=\"df-2d855ede-eb11-4de1-8fca-a9d1d76ee0c3\">\n",
              "    <div class=\"colab-df-container\">\n",
              "      <div>\n",
              "<style scoped>\n",
              "    .dataframe tbody tr th:only-of-type {\n",
              "        vertical-align: middle;\n",
              "    }\n",
              "\n",
              "    .dataframe tbody tr th {\n",
              "        vertical-align: top;\n",
              "    }\n",
              "\n",
              "    .dataframe thead th {\n",
              "        text-align: right;\n",
              "    }\n",
              "</style>\n",
              "<table border=\"1\" class=\"dataframe\">\n",
              "  <thead>\n",
              "    <tr style=\"text-align: right;\">\n",
              "      <th></th>\n",
              "      <th>TotalVisits</th>\n",
              "      <th>Total Time Spent on Website</th>\n",
              "      <th>Page Views Per Visit</th>\n",
              "      <th>Lead Origin_Landing Page Submission</th>\n",
              "      <th>Lead Origin_Lead Add Form</th>\n",
              "      <th>Lead Origin_Lead Import</th>\n",
              "      <th>Lead Source_Direct Traffic</th>\n",
              "      <th>Lead Source_Facebook</th>\n",
              "      <th>Lead Source_Google</th>\n",
              "      <th>Lead Source_Live Chat</th>\n",
              "      <th>...</th>\n",
              "      <th>Specialization_IT Projects Management</th>\n",
              "      <th>Specialization_International Business</th>\n",
              "      <th>Specialization_Marketing Management</th>\n",
              "      <th>Specialization_Media and Advertising</th>\n",
              "      <th>Specialization_Operations Management</th>\n",
              "      <th>Specialization_Retail Management</th>\n",
              "      <th>Specialization_Rural and Agribusiness</th>\n",
              "      <th>Specialization_Services Excellence</th>\n",
              "      <th>Specialization_Supply Chain Management</th>\n",
              "      <th>Specialization_Travel and Tourism</th>\n",
              "    </tr>\n",
              "  </thead>\n",
              "  <tbody>\n",
              "    <tr>\n",
              "      <th>0</th>\n",
              "      <td>0.0</td>\n",
              "      <td>0</td>\n",
              "      <td>0.0</td>\n",
              "      <td>0</td>\n",
              "      <td>0</td>\n",
              "      <td>0</td>\n",
              "      <td>0</td>\n",
              "      <td>0</td>\n",
              "      <td>0</td>\n",
              "      <td>0</td>\n",
              "      <td>...</td>\n",
              "      <td>0</td>\n",
              "      <td>0</td>\n",
              "      <td>0</td>\n",
              "      <td>0</td>\n",
              "      <td>0</td>\n",
              "      <td>0</td>\n",
              "      <td>0</td>\n",
              "      <td>0</td>\n",
              "      <td>0</td>\n",
              "      <td>0</td>\n",
              "    </tr>\n",
              "    <tr>\n",
              "      <th>1</th>\n",
              "      <td>5.0</td>\n",
              "      <td>674</td>\n",
              "      <td>2.5</td>\n",
              "      <td>0</td>\n",
              "      <td>0</td>\n",
              "      <td>0</td>\n",
              "      <td>0</td>\n",
              "      <td>0</td>\n",
              "      <td>0</td>\n",
              "      <td>0</td>\n",
              "      <td>...</td>\n",
              "      <td>0</td>\n",
              "      <td>0</td>\n",
              "      <td>0</td>\n",
              "      <td>0</td>\n",
              "      <td>0</td>\n",
              "      <td>0</td>\n",
              "      <td>0</td>\n",
              "      <td>0</td>\n",
              "      <td>0</td>\n",
              "      <td>0</td>\n",
              "    </tr>\n",
              "    <tr>\n",
              "      <th>2</th>\n",
              "      <td>2.0</td>\n",
              "      <td>1532</td>\n",
              "      <td>2.0</td>\n",
              "      <td>1</td>\n",
              "      <td>0</td>\n",
              "      <td>0</td>\n",
              "      <td>1</td>\n",
              "      <td>0</td>\n",
              "      <td>0</td>\n",
              "      <td>0</td>\n",
              "      <td>...</td>\n",
              "      <td>0</td>\n",
              "      <td>0</td>\n",
              "      <td>0</td>\n",
              "      <td>0</td>\n",
              "      <td>0</td>\n",
              "      <td>0</td>\n",
              "      <td>0</td>\n",
              "      <td>0</td>\n",
              "      <td>0</td>\n",
              "      <td>0</td>\n",
              "    </tr>\n",
              "    <tr>\n",
              "      <th>3</th>\n",
              "      <td>1.0</td>\n",
              "      <td>305</td>\n",
              "      <td>1.0</td>\n",
              "      <td>1</td>\n",
              "      <td>0</td>\n",
              "      <td>0</td>\n",
              "      <td>1</td>\n",
              "      <td>0</td>\n",
              "      <td>0</td>\n",
              "      <td>0</td>\n",
              "      <td>...</td>\n",
              "      <td>0</td>\n",
              "      <td>0</td>\n",
              "      <td>0</td>\n",
              "      <td>1</td>\n",
              "      <td>0</td>\n",
              "      <td>0</td>\n",
              "      <td>0</td>\n",
              "      <td>0</td>\n",
              "      <td>0</td>\n",
              "      <td>0</td>\n",
              "    </tr>\n",
              "    <tr>\n",
              "      <th>4</th>\n",
              "      <td>2.0</td>\n",
              "      <td>1428</td>\n",
              "      <td>1.0</td>\n",
              "      <td>1</td>\n",
              "      <td>0</td>\n",
              "      <td>0</td>\n",
              "      <td>0</td>\n",
              "      <td>0</td>\n",
              "      <td>1</td>\n",
              "      <td>0</td>\n",
              "      <td>...</td>\n",
              "      <td>0</td>\n",
              "      <td>0</td>\n",
              "      <td>0</td>\n",
              "      <td>0</td>\n",
              "      <td>0</td>\n",
              "      <td>0</td>\n",
              "      <td>0</td>\n",
              "      <td>0</td>\n",
              "      <td>0</td>\n",
              "      <td>0</td>\n",
              "    </tr>\n",
              "  </tbody>\n",
              "</table>\n",
              "<p>5 rows × 74 columns</p>\n",
              "</div>\n",
              "      <button class=\"colab-df-convert\" onclick=\"convertToInteractive('df-2d855ede-eb11-4de1-8fca-a9d1d76ee0c3')\"\n",
              "              title=\"Convert this dataframe to an interactive table.\"\n",
              "              style=\"display:none;\">\n",
              "        \n",
              "  <svg xmlns=\"http://www.w3.org/2000/svg\" height=\"24px\"viewBox=\"0 0 24 24\"\n",
              "       width=\"24px\">\n",
              "    <path d=\"M0 0h24v24H0V0z\" fill=\"none\"/>\n",
              "    <path d=\"M18.56 5.44l.94 2.06.94-2.06 2.06-.94-2.06-.94-.94-2.06-.94 2.06-2.06.94zm-11 1L8.5 8.5l.94-2.06 2.06-.94-2.06-.94L8.5 2.5l-.94 2.06-2.06.94zm10 10l.94 2.06.94-2.06 2.06-.94-2.06-.94-.94-2.06-.94 2.06-2.06.94z\"/><path d=\"M17.41 7.96l-1.37-1.37c-.4-.4-.92-.59-1.43-.59-.52 0-1.04.2-1.43.59L10.3 9.45l-7.72 7.72c-.78.78-.78 2.05 0 2.83L4 21.41c.39.39.9.59 1.41.59.51 0 1.02-.2 1.41-.59l7.78-7.78 2.81-2.81c.8-.78.8-2.07 0-2.86zM5.41 20L4 18.59l7.72-7.72 1.47 1.35L5.41 20z\"/>\n",
              "  </svg>\n",
              "      </button>\n",
              "      \n",
              "  <style>\n",
              "    .colab-df-container {\n",
              "      display:flex;\n",
              "      flex-wrap:wrap;\n",
              "      gap: 12px;\n",
              "    }\n",
              "\n",
              "    .colab-df-convert {\n",
              "      background-color: #E8F0FE;\n",
              "      border: none;\n",
              "      border-radius: 50%;\n",
              "      cursor: pointer;\n",
              "      display: none;\n",
              "      fill: #1967D2;\n",
              "      height: 32px;\n",
              "      padding: 0 0 0 0;\n",
              "      width: 32px;\n",
              "    }\n",
              "\n",
              "    .colab-df-convert:hover {\n",
              "      background-color: #E2EBFA;\n",
              "      box-shadow: 0px 1px 2px rgba(60, 64, 67, 0.3), 0px 1px 3px 1px rgba(60, 64, 67, 0.15);\n",
              "      fill: #174EA6;\n",
              "    }\n",
              "\n",
              "    [theme=dark] .colab-df-convert {\n",
              "      background-color: #3B4455;\n",
              "      fill: #D2E3FC;\n",
              "    }\n",
              "\n",
              "    [theme=dark] .colab-df-convert:hover {\n",
              "      background-color: #434B5C;\n",
              "      box-shadow: 0px 1px 3px 1px rgba(0, 0, 0, 0.15);\n",
              "      filter: drop-shadow(0px 1px 2px rgba(0, 0, 0, 0.3));\n",
              "      fill: #FFFFFF;\n",
              "    }\n",
              "  </style>\n",
              "\n",
              "      <script>\n",
              "        const buttonEl =\n",
              "          document.querySelector('#df-2d855ede-eb11-4de1-8fca-a9d1d76ee0c3 button.colab-df-convert');\n",
              "        buttonEl.style.display =\n",
              "          google.colab.kernel.accessAllowed ? 'block' : 'none';\n",
              "\n",
              "        async function convertToInteractive(key) {\n",
              "          const element = document.querySelector('#df-2d855ede-eb11-4de1-8fca-a9d1d76ee0c3');\n",
              "          const dataTable =\n",
              "            await google.colab.kernel.invokeFunction('convertToInteractive',\n",
              "                                                     [key], {});\n",
              "          if (!dataTable) return;\n",
              "\n",
              "          const docLinkHtml = 'Like what you see? Visit the ' +\n",
              "            '<a target=\"_blank\" href=https://colab.research.google.com/notebooks/data_table.ipynb>data table notebook</a>'\n",
              "            + ' to learn more about interactive tables.';\n",
              "          element.innerHTML = '';\n",
              "          dataTable['output_type'] = 'display_data';\n",
              "          await google.colab.output.renderOutput(dataTable, element);\n",
              "          const docLink = document.createElement('div');\n",
              "          docLink.innerHTML = docLinkHtml;\n",
              "          element.appendChild(docLink);\n",
              "        }\n",
              "      </script>\n",
              "    </div>\n",
              "  </div>\n",
              "  "
            ]
          },
          "metadata": {},
          "execution_count": 51
        }
      ]
    },
    {
      "cell_type": "code",
      "source": [
        "y = leads['Converted']\n",
        "\n",
        "y.head()"
      ],
      "metadata": {
        "colab": {
          "base_uri": "https://localhost:8080/"
        },
        "id": "_WdDuSJQnzAA",
        "outputId": "b3c96d43-cd8c-47e1-a6ff-067fc773f9ce"
      },
      "execution_count": null,
      "outputs": [
        {
          "output_type": "execute_result",
          "data": {
            "text/plain": [
              "0    0\n",
              "1    0\n",
              "2    1\n",
              "3    0\n",
              "4    1\n",
              "Name: Converted, dtype: int64"
            ]
          },
          "metadata": {},
          "execution_count": 52
        }
      ]
    },
    {
      "cell_type": "code",
      "source": [
        "X_train, X_test, y_train, y_test = train_test_split(X, y, train_size=0.7, test_size=0.3, random_state=100)"
      ],
      "metadata": {
        "id": "XbW-QB6UnzFJ"
      },
      "execution_count": null,
      "outputs": []
    },
    {
      "cell_type": "code",
      "source": [
        "X_train.shape, y_train.shape "
      ],
      "metadata": {
        "colab": {
          "base_uri": "https://localhost:8080/"
        },
        "id": "X-lRBx3QnzJP",
        "outputId": "654c9b8d-72d7-47b2-c090-309252796045"
      },
      "execution_count": null,
      "outputs": [
        {
          "output_type": "execute_result",
          "data": {
            "text/plain": [
              "((3954, 74), (3954,))"
            ]
          },
          "metadata": {},
          "execution_count": 116
        }
      ]
    },
    {
      "cell_type": "code",
      "source": [
        "X_test.shape, y_test.shape"
      ],
      "metadata": {
        "colab": {
          "base_uri": "https://localhost:8080/"
        },
        "id": "TJJOf-CjnKpf",
        "outputId": "8fbb672b-2ee2-4af8-f1c5-c536644471be"
      },
      "execution_count": null,
      "outputs": [
        {
          "output_type": "execute_result",
          "data": {
            "text/plain": [
              "((1695, 74), (1695,))"
            ]
          },
          "metadata": {},
          "execution_count": 117
        }
      ]
    },
    {
      "cell_type": "markdown",
      "source": [
        "### Scaling"
      ],
      "metadata": {
        "id": "LmlBMNz8ol3H"
      }
    },
    {
      "cell_type": "code",
      "source": [
        "from sklearn.preprocessing import MinMaxScaler"
      ],
      "metadata": {
        "id": "IAZQbeJPooHB"
      },
      "execution_count": null,
      "outputs": []
    },
    {
      "cell_type": "code",
      "source": [
        "scaler = MinMaxScaler()\n",
        "\n",
        "X_train[['TotalVisits', 'Page Views Per Visit', 'Total Time Spent on Website']] = scaler.fit_transform(X_train[['TotalVisits', 'Page Views Per Visit', 'Total Time Spent on Website']])\n",
        "\n",
        "X_train.head()"
      ],
      "metadata": {
        "colab": {
          "base_uri": "https://localhost:8080/",
          "height": 368
        },
        "id": "gxdO6YfwopB6",
        "outputId": "1dd691a1-bc8a-40e9-afc8-e77ea8e4ad6d"
      },
      "execution_count": null,
      "outputs": [
        {
          "output_type": "execute_result",
          "data": {
            "text/plain": [
              "      TotalVisits  Total Time Spent on Website  Page Views Per Visit  \\\n",
              "6384     0.000000                     0.000000                0.0000   \n",
              "2108     0.034783                     0.463028                0.2500   \n",
              "1502     0.043478                     0.655370                0.3125   \n",
              "3801     0.026087                     0.115317                0.1875   \n",
              "1985     0.000000                     0.000000                0.0000   \n",
              "\n",
              "      Lead Origin_Landing Page Submission  Lead Origin_Lead Add Form  \\\n",
              "6384                                    0                          0   \n",
              "2108                                    1                          0   \n",
              "1502                                    1                          0   \n",
              "3801                                    1                          0   \n",
              "1985                                    0                          0   \n",
              "\n",
              "      Lead Origin_Lead Import  Lead Source_Direct Traffic  \\\n",
              "6384                        0                           0   \n",
              "2108                        0                           1   \n",
              "1502                        0                           0   \n",
              "3801                        0                           0   \n",
              "1985                        0                           0   \n",
              "\n",
              "      Lead Source_Facebook  Lead Source_Google  Lead Source_Live Chat  ...  \\\n",
              "6384                     0                   0                      0  ...   \n",
              "2108                     0                   0                      0  ...   \n",
              "1502                     0                   1                      0  ...   \n",
              "3801                     0                   1                      0  ...   \n",
              "1985                     0                   0                      0  ...   \n",
              "\n",
              "      Specialization_IT Projects Management  \\\n",
              "6384                                      0   \n",
              "2108                                      0   \n",
              "1502                                      0   \n",
              "3801                                      0   \n",
              "1985                                      0   \n",
              "\n",
              "      Specialization_International Business  \\\n",
              "6384                                      0   \n",
              "2108                                      0   \n",
              "1502                                      0   \n",
              "3801                                      0   \n",
              "1985                                      0   \n",
              "\n",
              "      Specialization_Marketing Management  \\\n",
              "6384                                    1   \n",
              "2108                                    0   \n",
              "1502                                    0   \n",
              "3801                                    1   \n",
              "1985                                    1   \n",
              "\n",
              "      Specialization_Media and Advertising  \\\n",
              "6384                                     0   \n",
              "2108                                     0   \n",
              "1502                                     0   \n",
              "3801                                     0   \n",
              "1985                                     0   \n",
              "\n",
              "      Specialization_Operations Management  Specialization_Retail Management  \\\n",
              "6384                                     0                                 0   \n",
              "2108                                     1                                 0   \n",
              "1502                                     0                                 0   \n",
              "3801                                     0                                 0   \n",
              "1985                                     0                                 0   \n",
              "\n",
              "      Specialization_Rural and Agribusiness  \\\n",
              "6384                                      0   \n",
              "2108                                      0   \n",
              "1502                                      0   \n",
              "3801                                      0   \n",
              "1985                                      0   \n",
              "\n",
              "      Specialization_Services Excellence  \\\n",
              "6384                                   0   \n",
              "2108                                   0   \n",
              "1502                                   0   \n",
              "3801                                   0   \n",
              "1985                                   0   \n",
              "\n",
              "      Specialization_Supply Chain Management  \\\n",
              "6384                                       0   \n",
              "2108                                       0   \n",
              "1502                                       0   \n",
              "3801                                       0   \n",
              "1985                                       0   \n",
              "\n",
              "      Specialization_Travel and Tourism  \n",
              "6384                                  0  \n",
              "2108                                  0  \n",
              "1502                                  0  \n",
              "3801                                  0  \n",
              "1985                                  0  \n",
              "\n",
              "[5 rows x 74 columns]"
            ],
            "text/html": [
              "\n",
              "  <div id=\"df-fe8930a8-3b0a-4c9c-95df-252689f61e4f\">\n",
              "    <div class=\"colab-df-container\">\n",
              "      <div>\n",
              "<style scoped>\n",
              "    .dataframe tbody tr th:only-of-type {\n",
              "        vertical-align: middle;\n",
              "    }\n",
              "\n",
              "    .dataframe tbody tr th {\n",
              "        vertical-align: top;\n",
              "    }\n",
              "\n",
              "    .dataframe thead th {\n",
              "        text-align: right;\n",
              "    }\n",
              "</style>\n",
              "<table border=\"1\" class=\"dataframe\">\n",
              "  <thead>\n",
              "    <tr style=\"text-align: right;\">\n",
              "      <th></th>\n",
              "      <th>TotalVisits</th>\n",
              "      <th>Total Time Spent on Website</th>\n",
              "      <th>Page Views Per Visit</th>\n",
              "      <th>Lead Origin_Landing Page Submission</th>\n",
              "      <th>Lead Origin_Lead Add Form</th>\n",
              "      <th>Lead Origin_Lead Import</th>\n",
              "      <th>Lead Source_Direct Traffic</th>\n",
              "      <th>Lead Source_Facebook</th>\n",
              "      <th>Lead Source_Google</th>\n",
              "      <th>Lead Source_Live Chat</th>\n",
              "      <th>...</th>\n",
              "      <th>Specialization_IT Projects Management</th>\n",
              "      <th>Specialization_International Business</th>\n",
              "      <th>Specialization_Marketing Management</th>\n",
              "      <th>Specialization_Media and Advertising</th>\n",
              "      <th>Specialization_Operations Management</th>\n",
              "      <th>Specialization_Retail Management</th>\n",
              "      <th>Specialization_Rural and Agribusiness</th>\n",
              "      <th>Specialization_Services Excellence</th>\n",
              "      <th>Specialization_Supply Chain Management</th>\n",
              "      <th>Specialization_Travel and Tourism</th>\n",
              "    </tr>\n",
              "  </thead>\n",
              "  <tbody>\n",
              "    <tr>\n",
              "      <th>6384</th>\n",
              "      <td>0.000000</td>\n",
              "      <td>0.000000</td>\n",
              "      <td>0.0000</td>\n",
              "      <td>0</td>\n",
              "      <td>0</td>\n",
              "      <td>0</td>\n",
              "      <td>0</td>\n",
              "      <td>0</td>\n",
              "      <td>0</td>\n",
              "      <td>0</td>\n",
              "      <td>...</td>\n",
              "      <td>0</td>\n",
              "      <td>0</td>\n",
              "      <td>1</td>\n",
              "      <td>0</td>\n",
              "      <td>0</td>\n",
              "      <td>0</td>\n",
              "      <td>0</td>\n",
              "      <td>0</td>\n",
              "      <td>0</td>\n",
              "      <td>0</td>\n",
              "    </tr>\n",
              "    <tr>\n",
              "      <th>2108</th>\n",
              "      <td>0.034783</td>\n",
              "      <td>0.463028</td>\n",
              "      <td>0.2500</td>\n",
              "      <td>1</td>\n",
              "      <td>0</td>\n",
              "      <td>0</td>\n",
              "      <td>1</td>\n",
              "      <td>0</td>\n",
              "      <td>0</td>\n",
              "      <td>0</td>\n",
              "      <td>...</td>\n",
              "      <td>0</td>\n",
              "      <td>0</td>\n",
              "      <td>0</td>\n",
              "      <td>0</td>\n",
              "      <td>1</td>\n",
              "      <td>0</td>\n",
              "      <td>0</td>\n",
              "      <td>0</td>\n",
              "      <td>0</td>\n",
              "      <td>0</td>\n",
              "    </tr>\n",
              "    <tr>\n",
              "      <th>1502</th>\n",
              "      <td>0.043478</td>\n",
              "      <td>0.655370</td>\n",
              "      <td>0.3125</td>\n",
              "      <td>1</td>\n",
              "      <td>0</td>\n",
              "      <td>0</td>\n",
              "      <td>0</td>\n",
              "      <td>0</td>\n",
              "      <td>1</td>\n",
              "      <td>0</td>\n",
              "      <td>...</td>\n",
              "      <td>0</td>\n",
              "      <td>0</td>\n",
              "      <td>0</td>\n",
              "      <td>0</td>\n",
              "      <td>0</td>\n",
              "      <td>0</td>\n",
              "      <td>0</td>\n",
              "      <td>0</td>\n",
              "      <td>0</td>\n",
              "      <td>0</td>\n",
              "    </tr>\n",
              "    <tr>\n",
              "      <th>3801</th>\n",
              "      <td>0.026087</td>\n",
              "      <td>0.115317</td>\n",
              "      <td>0.1875</td>\n",
              "      <td>1</td>\n",
              "      <td>0</td>\n",
              "      <td>0</td>\n",
              "      <td>0</td>\n",
              "      <td>0</td>\n",
              "      <td>1</td>\n",
              "      <td>0</td>\n",
              "      <td>...</td>\n",
              "      <td>0</td>\n",
              "      <td>0</td>\n",
              "      <td>1</td>\n",
              "      <td>0</td>\n",
              "      <td>0</td>\n",
              "      <td>0</td>\n",
              "      <td>0</td>\n",
              "      <td>0</td>\n",
              "      <td>0</td>\n",
              "      <td>0</td>\n",
              "    </tr>\n",
              "    <tr>\n",
              "      <th>1985</th>\n",
              "      <td>0.000000</td>\n",
              "      <td>0.000000</td>\n",
              "      <td>0.0000</td>\n",
              "      <td>0</td>\n",
              "      <td>0</td>\n",
              "      <td>0</td>\n",
              "      <td>0</td>\n",
              "      <td>0</td>\n",
              "      <td>0</td>\n",
              "      <td>0</td>\n",
              "      <td>...</td>\n",
              "      <td>0</td>\n",
              "      <td>0</td>\n",
              "      <td>1</td>\n",
              "      <td>0</td>\n",
              "      <td>0</td>\n",
              "      <td>0</td>\n",
              "      <td>0</td>\n",
              "      <td>0</td>\n",
              "      <td>0</td>\n",
              "      <td>0</td>\n",
              "    </tr>\n",
              "  </tbody>\n",
              "</table>\n",
              "<p>5 rows × 74 columns</p>\n",
              "</div>\n",
              "      <button class=\"colab-df-convert\" onclick=\"convertToInteractive('df-fe8930a8-3b0a-4c9c-95df-252689f61e4f')\"\n",
              "              title=\"Convert this dataframe to an interactive table.\"\n",
              "              style=\"display:none;\">\n",
              "        \n",
              "  <svg xmlns=\"http://www.w3.org/2000/svg\" height=\"24px\"viewBox=\"0 0 24 24\"\n",
              "       width=\"24px\">\n",
              "    <path d=\"M0 0h24v24H0V0z\" fill=\"none\"/>\n",
              "    <path d=\"M18.56 5.44l.94 2.06.94-2.06 2.06-.94-2.06-.94-.94-2.06-.94 2.06-2.06.94zm-11 1L8.5 8.5l.94-2.06 2.06-.94-2.06-.94L8.5 2.5l-.94 2.06-2.06.94zm10 10l.94 2.06.94-2.06 2.06-.94-2.06-.94-.94-2.06-.94 2.06-2.06.94z\"/><path d=\"M17.41 7.96l-1.37-1.37c-.4-.4-.92-.59-1.43-.59-.52 0-1.04.2-1.43.59L10.3 9.45l-7.72 7.72c-.78.78-.78 2.05 0 2.83L4 21.41c.39.39.9.59 1.41.59.51 0 1.02-.2 1.41-.59l7.78-7.78 2.81-2.81c.8-.78.8-2.07 0-2.86zM5.41 20L4 18.59l7.72-7.72 1.47 1.35L5.41 20z\"/>\n",
              "  </svg>\n",
              "      </button>\n",
              "      \n",
              "  <style>\n",
              "    .colab-df-container {\n",
              "      display:flex;\n",
              "      flex-wrap:wrap;\n",
              "      gap: 12px;\n",
              "    }\n",
              "\n",
              "    .colab-df-convert {\n",
              "      background-color: #E8F0FE;\n",
              "      border: none;\n",
              "      border-radius: 50%;\n",
              "      cursor: pointer;\n",
              "      display: none;\n",
              "      fill: #1967D2;\n",
              "      height: 32px;\n",
              "      padding: 0 0 0 0;\n",
              "      width: 32px;\n",
              "    }\n",
              "\n",
              "    .colab-df-convert:hover {\n",
              "      background-color: #E2EBFA;\n",
              "      box-shadow: 0px 1px 2px rgba(60, 64, 67, 0.3), 0px 1px 3px 1px rgba(60, 64, 67, 0.15);\n",
              "      fill: #174EA6;\n",
              "    }\n",
              "\n",
              "    [theme=dark] .colab-df-convert {\n",
              "      background-color: #3B4455;\n",
              "      fill: #D2E3FC;\n",
              "    }\n",
              "\n",
              "    [theme=dark] .colab-df-convert:hover {\n",
              "      background-color: #434B5C;\n",
              "      box-shadow: 0px 1px 3px 1px rgba(0, 0, 0, 0.15);\n",
              "      filter: drop-shadow(0px 1px 2px rgba(0, 0, 0, 0.3));\n",
              "      fill: #FFFFFF;\n",
              "    }\n",
              "  </style>\n",
              "\n",
              "      <script>\n",
              "        const buttonEl =\n",
              "          document.querySelector('#df-fe8930a8-3b0a-4c9c-95df-252689f61e4f button.colab-df-convert');\n",
              "        buttonEl.style.display =\n",
              "          google.colab.kernel.accessAllowed ? 'block' : 'none';\n",
              "\n",
              "        async function convertToInteractive(key) {\n",
              "          const element = document.querySelector('#df-fe8930a8-3b0a-4c9c-95df-252689f61e4f');\n",
              "          const dataTable =\n",
              "            await google.colab.kernel.invokeFunction('convertToInteractive',\n",
              "                                                     [key], {});\n",
              "          if (!dataTable) return;\n",
              "\n",
              "          const docLinkHtml = 'Like what you see? Visit the ' +\n",
              "            '<a target=\"_blank\" href=https://colab.research.google.com/notebooks/data_table.ipynb>data table notebook</a>'\n",
              "            + ' to learn more about interactive tables.';\n",
              "          element.innerHTML = '';\n",
              "          dataTable['output_type'] = 'display_data';\n",
              "          await google.colab.output.renderOutput(dataTable, element);\n",
              "          const docLink = document.createElement('div');\n",
              "          docLink.innerHTML = docLinkHtml;\n",
              "          element.appendChild(docLink);\n",
              "        }\n",
              "      </script>\n",
              "    </div>\n",
              "  </div>\n",
              "  "
            ]
          },
          "metadata": {},
          "execution_count": 57
        }
      ]
    },
    {
      "cell_type": "code",
      "source": [
        "leads.corr()"
      ],
      "metadata": {
        "colab": {
          "base_uri": "https://localhost:8080/",
          "height": 678
        },
        "id": "MLQAA2qTopHP",
        "outputId": "e619db51-558c-401a-e332-8beb075125e3"
      },
      "execution_count": null,
      "outputs": [
        {
          "output_type": "execute_result",
          "data": {
            "text/plain": [
              "                                        Converted  TotalVisits  \\\n",
              "Converted                                1.000000     0.005055   \n",
              "TotalVisits                              0.005055     1.000000   \n",
              "Total Time Spent on Website              0.306052     0.200833   \n",
              "Page Views Per Visit                    -0.065214     0.480952   \n",
              "Lead Origin_Landing Page Submission     -0.120341     0.264948   \n",
              "...                                           ...          ...   \n",
              "Specialization_Retail Management        -0.019611     0.006146   \n",
              "Specialization_Rural and Agribusiness    0.010507     0.071015   \n",
              "Specialization_Services Excellence      -0.001990     0.010068   \n",
              "Specialization_Supply Chain Management   0.005802     0.063573   \n",
              "Specialization_Travel and Tourism       -0.010507     0.063883   \n",
              "\n",
              "                                        Total Time Spent on Website  \\\n",
              "Converted                                                  0.306052   \n",
              "TotalVisits                                                0.200833   \n",
              "Total Time Spent on Website                                1.000000   \n",
              "Page Views Per Visit                                       0.308754   \n",
              "Lead Origin_Landing Page Submission                        0.282533   \n",
              "...                                                             ...   \n",
              "Specialization_Retail Management                           0.020445   \n",
              "Specialization_Rural and Agribusiness                      0.020089   \n",
              "Specialization_Services Excellence                         0.009850   \n",
              "Specialization_Supply Chain Management                     0.050899   \n",
              "Specialization_Travel and Tourism                          0.037856   \n",
              "\n",
              "                                        Page Views Per Visit  \\\n",
              "Converted                                          -0.065214   \n",
              "TotalVisits                                         0.480952   \n",
              "Total Time Spent on Website                         0.308754   \n",
              "Page Views Per Visit                                1.000000   \n",
              "Lead Origin_Landing Page Submission                 0.463380   \n",
              "...                                                      ...   \n",
              "Specialization_Retail Management                    0.015578   \n",
              "Specialization_Rural and Agribusiness               0.031524   \n",
              "Specialization_Services Excellence                  0.013812   \n",
              "Specialization_Supply Chain Management              0.051148   \n",
              "Specialization_Travel and Tourism                   0.112227   \n",
              "\n",
              "                                        Lead Origin_Landing Page Submission  \\\n",
              "Converted                                                         -0.120341   \n",
              "TotalVisits                                                        0.264948   \n",
              "Total Time Spent on Website                                        0.282533   \n",
              "Page Views Per Visit                                               0.463380   \n",
              "Lead Origin_Landing Page Submission                                1.000000   \n",
              "...                                                                     ...   \n",
              "Specialization_Retail Management                                   0.074428   \n",
              "Specialization_Rural and Agribusiness                              0.051920   \n",
              "Specialization_Services Excellence                                 0.036777   \n",
              "Specialization_Supply Chain Management                             0.107318   \n",
              "Specialization_Travel and Tourism                                  0.098191   \n",
              "\n",
              "                                        Lead Origin_Lead Add Form  \\\n",
              "Converted                                                0.294019   \n",
              "TotalVisits                                             -0.211593   \n",
              "Total Time Spent on Website                             -0.259994   \n",
              "Page Views Per Visit                                    -0.352020   \n",
              "Lead Origin_Landing Page Submission                     -0.373943   \n",
              "...                                                           ...   \n",
              "Specialization_Retail Management                        -0.025533   \n",
              "Specialization_Rural and Agribusiness                   -0.020953   \n",
              "Specialization_Services Excellence                      -0.010613   \n",
              "Specialization_Supply Chain Management                  -0.034700   \n",
              "Specialization_Travel and Tourism                       -0.047765   \n",
              "\n",
              "                                        Lead Origin_Lead Import  \\\n",
              "Converted                                             -0.022060   \n",
              "TotalVisits                                           -0.044243   \n",
              "Total Time Spent on Website                           -0.065131   \n",
              "Page Views Per Visit                                  -0.068824   \n",
              "Lead Origin_Landing Page Submission                   -0.077889   \n",
              "...                                                         ...   \n",
              "Specialization_Retail Management                      -0.007592   \n",
              "Specialization_Rural and Agribusiness                 -0.006872   \n",
              "Specialization_Services Excellence                    -0.004233   \n",
              "Specialization_Supply Chain Management                -0.001815   \n",
              "Specialization_Travel and Tourism                     -0.010761   \n",
              "\n",
              "                                        Lead Source_Direct Traffic  \\\n",
              "Converted                                                -0.131342   \n",
              "TotalVisits                                               0.081190   \n",
              "Total Time Spent on Website                               0.119493   \n",
              "Page Views Per Visit                                      0.115972   \n",
              "Lead Origin_Landing Page Submission                       0.501980   \n",
              "...                                                            ...   \n",
              "Specialization_Retail Management                          0.026305   \n",
              "Specialization_Rural and Agribusiness                     0.022430   \n",
              "Specialization_Services Excellence                        0.046084   \n",
              "Specialization_Supply Chain Management                    0.084252   \n",
              "Specialization_Travel and Tourism                        -0.000702   \n",
              "\n",
              "                                        Lead Source_Facebook  \\\n",
              "Converted                                          -0.024147   \n",
              "TotalVisits                                        -0.043265   \n",
              "Total Time Spent on Website                        -0.064615   \n",
              "Page Views Per Visit                               -0.065832   \n",
              "Lead Origin_Landing Page Submission                -0.074250   \n",
              "...                                                      ...   \n",
              "Specialization_Retail Management                   -0.007732   \n",
              "Specialization_Rural and Agribusiness              -0.006998   \n",
              "Specialization_Services Excellence                 -0.004311   \n",
              "Specialization_Supply Chain Management             -0.002312   \n",
              "Specialization_Travel and Tourism                  -0.010959   \n",
              "\n",
              "                                        Lead Source_Google  ...  \\\n",
              "Converted                                         0.009764  ...   \n",
              "TotalVisits                                       0.083406  ...   \n",
              "Total Time Spent on Website                       0.237241  ...   \n",
              "Page Views Per Visit                              0.190852  ...   \n",
              "Lead Origin_Landing Page Submission               0.082889  ...   \n",
              "...                                                    ...  ...   \n",
              "Specialization_Retail Management                  0.017449  ...   \n",
              "Specialization_Rural and Agribusiness            -0.038590  ...   \n",
              "Specialization_Services Excellence               -0.024111  ...   \n",
              "Specialization_Supply Chain Management           -0.027044  ...   \n",
              "Specialization_Travel and Tourism                -0.053832  ...   \n",
              "\n",
              "                                        Specialization_IT Projects Management  \\\n",
              "Converted                                                           -0.012404   \n",
              "TotalVisits                                                          0.027310   \n",
              "Total Time Spent on Website                                          0.025136   \n",
              "Page Views Per Visit                                                 0.066998   \n",
              "Lead Origin_Landing Page Submission                                  0.135704   \n",
              "...                                                                       ...   \n",
              "Specialization_Retail Management                                    -0.023377   \n",
              "Specialization_Rural and Agribusiness                               -0.021158   \n",
              "Specialization_Services Excellence                                  -0.013034   \n",
              "Specialization_Supply Chain Management                              -0.044849   \n",
              "Specialization_Travel and Tourism                                   -0.033133   \n",
              "\n",
              "                                        Specialization_International Business  \\\n",
              "Converted                                                           -0.019884   \n",
              "TotalVisits                                                          0.028730   \n",
              "Total Time Spent on Website                                          0.017204   \n",
              "Page Views Per Visit                                                 0.055676   \n",
              "Lead Origin_Landing Page Submission                                  0.086579   \n",
              "...                                                                       ...   \n",
              "Specialization_Retail Management                                    -0.016140   \n",
              "Specialization_Rural and Agribusiness                               -0.014608   \n",
              "Specialization_Services Excellence                                  -0.008999   \n",
              "Specialization_Supply Chain Management                              -0.030965   \n",
              "Specialization_Travel and Tourism                                   -0.022876   \n",
              "\n",
              "                                        Specialization_Marketing Management  \\\n",
              "Converted                                                          0.051331   \n",
              "TotalVisits                                                       -0.000044   \n",
              "Total Time Spent on Website                                        0.050523   \n",
              "Page Views Per Visit                                               0.015575   \n",
              "Lead Origin_Landing Page Submission                                0.083039   \n",
              "...                                                                     ...   \n",
              "Specialization_Retail Management                                  -0.037556   \n",
              "Specialization_Rural and Agribusiness                             -0.033990   \n",
              "Specialization_Services Excellence                                -0.020939   \n",
              "Specialization_Supply Chain Management                            -0.072050   \n",
              "Specialization_Travel and Tourism                                 -0.053229   \n",
              "\n",
              "                                        Specialization_Media and Advertising  \\\n",
              "Converted                                                           0.001323   \n",
              "TotalVisits                                                         0.039432   \n",
              "Total Time Spent on Website                                         0.052855   \n",
              "Page Views Per Visit                                                0.067618   \n",
              "Lead Origin_Landing Page Submission                                 0.094823   \n",
              "...                                                                      ...   \n",
              "Specialization_Retail Management                                   -0.017782   \n",
              "Specialization_Rural and Agribusiness                              -0.016094   \n",
              "Specialization_Services Excellence                                 -0.009915   \n",
              "Specialization_Supply Chain Management                             -0.034115   \n",
              "Specialization_Travel and Tourism                                  -0.025203   \n",
              "\n",
              "                                        Specialization_Operations Management  \\\n",
              "Converted                                                           0.028182   \n",
              "TotalVisits                                                         0.008270   \n",
              "Total Time Spent on Website                                         0.050372   \n",
              "Page Views Per Visit                                                0.028116   \n",
              "Lead Origin_Landing Page Submission                                 0.099944   \n",
              "...                                                                      ...   \n",
              "Specialization_Retail Management                                   -0.028028   \n",
              "Specialization_Rural and Agribusiness                              -0.025367   \n",
              "Specialization_Services Excellence                                 -0.015627   \n",
              "Specialization_Supply Chain Management                             -0.053771   \n",
              "Specialization_Travel and Tourism                                  -0.039725   \n",
              "\n",
              "                                        Specialization_Retail Management  \\\n",
              "Converted                                                      -0.019611   \n",
              "TotalVisits                                                     0.006146   \n",
              "Total Time Spent on Website                                     0.020445   \n",
              "Page Views Per Visit                                            0.015578   \n",
              "Lead Origin_Landing Page Submission                             0.074428   \n",
              "...                                                                  ...   \n",
              "Specialization_Retail Management                                1.000000   \n",
              "Specialization_Rural and Agribusiness                          -0.010863   \n",
              "Specialization_Services Excellence                             -0.006692   \n",
              "Specialization_Supply Chain Management                         -0.023027   \n",
              "Specialization_Travel and Tourism                              -0.017012   \n",
              "\n",
              "                                        Specialization_Rural and Agribusiness  \\\n",
              "Converted                                                            0.010507   \n",
              "TotalVisits                                                          0.071015   \n",
              "Total Time Spent on Website                                          0.020089   \n",
              "Page Views Per Visit                                                 0.031524   \n",
              "Lead Origin_Landing Page Submission                                  0.051920   \n",
              "...                                                                       ...   \n",
              "Specialization_Retail Management                                    -0.010863   \n",
              "Specialization_Rural and Agribusiness                                1.000000   \n",
              "Specialization_Services Excellence                                  -0.006057   \n",
              "Specialization_Supply Chain Management                              -0.020841   \n",
              "Specialization_Travel and Tourism                                   -0.015397   \n",
              "\n",
              "                                        Specialization_Services Excellence  \\\n",
              "Converted                                                        -0.001990   \n",
              "TotalVisits                                                       0.010068   \n",
              "Total Time Spent on Website                                       0.009850   \n",
              "Page Views Per Visit                                              0.013812   \n",
              "Lead Origin_Landing Page Submission                               0.036777   \n",
              "...                                                                    ...   \n",
              "Specialization_Retail Management                                 -0.006692   \n",
              "Specialization_Rural and Agribusiness                            -0.006057   \n",
              "Specialization_Services Excellence                                1.000000   \n",
              "Specialization_Supply Chain Management                           -0.012839   \n",
              "Specialization_Travel and Tourism                                -0.009485   \n",
              "\n",
              "                                        Specialization_Supply Chain Management  \\\n",
              "Converted                                                             0.005802   \n",
              "TotalVisits                                                           0.063573   \n",
              "Total Time Spent on Website                                           0.050899   \n",
              "Page Views Per Visit                                                  0.051148   \n",
              "Lead Origin_Landing Page Submission                                   0.107318   \n",
              "...                                                                        ...   \n",
              "Specialization_Retail Management                                     -0.023027   \n",
              "Specialization_Rural and Agribusiness                                -0.020841   \n",
              "Specialization_Services Excellence                                   -0.012839   \n",
              "Specialization_Supply Chain Management                                1.000000   \n",
              "Specialization_Travel and Tourism                                    -0.032637   \n",
              "\n",
              "                                        Specialization_Travel and Tourism  \n",
              "Converted                                                       -0.010507  \n",
              "TotalVisits                                                      0.063883  \n",
              "Total Time Spent on Website                                      0.037856  \n",
              "Page Views Per Visit                                             0.112227  \n",
              "Lead Origin_Landing Page Submission                              0.098191  \n",
              "...                                                                   ...  \n",
              "Specialization_Retail Management                                -0.017012  \n",
              "Specialization_Rural and Agribusiness                           -0.015397  \n",
              "Specialization_Services Excellence                              -0.009485  \n",
              "Specialization_Supply Chain Management                          -0.032637  \n",
              "Specialization_Travel and Tourism                                1.000000  \n",
              "\n",
              "[75 rows x 75 columns]"
            ],
            "text/html": [
              "\n",
              "  <div id=\"df-5e74d392-714c-4742-b646-7591443b428c\">\n",
              "    <div class=\"colab-df-container\">\n",
              "      <div>\n",
              "<style scoped>\n",
              "    .dataframe tbody tr th:only-of-type {\n",
              "        vertical-align: middle;\n",
              "    }\n",
              "\n",
              "    .dataframe tbody tr th {\n",
              "        vertical-align: top;\n",
              "    }\n",
              "\n",
              "    .dataframe thead th {\n",
              "        text-align: right;\n",
              "    }\n",
              "</style>\n",
              "<table border=\"1\" class=\"dataframe\">\n",
              "  <thead>\n",
              "    <tr style=\"text-align: right;\">\n",
              "      <th></th>\n",
              "      <th>Converted</th>\n",
              "      <th>TotalVisits</th>\n",
              "      <th>Total Time Spent on Website</th>\n",
              "      <th>Page Views Per Visit</th>\n",
              "      <th>Lead Origin_Landing Page Submission</th>\n",
              "      <th>Lead Origin_Lead Add Form</th>\n",
              "      <th>Lead Origin_Lead Import</th>\n",
              "      <th>Lead Source_Direct Traffic</th>\n",
              "      <th>Lead Source_Facebook</th>\n",
              "      <th>Lead Source_Google</th>\n",
              "      <th>...</th>\n",
              "      <th>Specialization_IT Projects Management</th>\n",
              "      <th>Specialization_International Business</th>\n",
              "      <th>Specialization_Marketing Management</th>\n",
              "      <th>Specialization_Media and Advertising</th>\n",
              "      <th>Specialization_Operations Management</th>\n",
              "      <th>Specialization_Retail Management</th>\n",
              "      <th>Specialization_Rural and Agribusiness</th>\n",
              "      <th>Specialization_Services Excellence</th>\n",
              "      <th>Specialization_Supply Chain Management</th>\n",
              "      <th>Specialization_Travel and Tourism</th>\n",
              "    </tr>\n",
              "  </thead>\n",
              "  <tbody>\n",
              "    <tr>\n",
              "      <th>Converted</th>\n",
              "      <td>1.000000</td>\n",
              "      <td>0.005055</td>\n",
              "      <td>0.306052</td>\n",
              "      <td>-0.065214</td>\n",
              "      <td>-0.120341</td>\n",
              "      <td>0.294019</td>\n",
              "      <td>-0.022060</td>\n",
              "      <td>-0.131342</td>\n",
              "      <td>-0.024147</td>\n",
              "      <td>0.009764</td>\n",
              "      <td>...</td>\n",
              "      <td>-0.012404</td>\n",
              "      <td>-0.019884</td>\n",
              "      <td>0.051331</td>\n",
              "      <td>0.001323</td>\n",
              "      <td>0.028182</td>\n",
              "      <td>-0.019611</td>\n",
              "      <td>0.010507</td>\n",
              "      <td>-0.001990</td>\n",
              "      <td>0.005802</td>\n",
              "      <td>-0.010507</td>\n",
              "    </tr>\n",
              "    <tr>\n",
              "      <th>TotalVisits</th>\n",
              "      <td>0.005055</td>\n",
              "      <td>1.000000</td>\n",
              "      <td>0.200833</td>\n",
              "      <td>0.480952</td>\n",
              "      <td>0.264948</td>\n",
              "      <td>-0.211593</td>\n",
              "      <td>-0.044243</td>\n",
              "      <td>0.081190</td>\n",
              "      <td>-0.043265</td>\n",
              "      <td>0.083406</td>\n",
              "      <td>...</td>\n",
              "      <td>0.027310</td>\n",
              "      <td>0.028730</td>\n",
              "      <td>-0.000044</td>\n",
              "      <td>0.039432</td>\n",
              "      <td>0.008270</td>\n",
              "      <td>0.006146</td>\n",
              "      <td>0.071015</td>\n",
              "      <td>0.010068</td>\n",
              "      <td>0.063573</td>\n",
              "      <td>0.063883</td>\n",
              "    </tr>\n",
              "    <tr>\n",
              "      <th>Total Time Spent on Website</th>\n",
              "      <td>0.306052</td>\n",
              "      <td>0.200833</td>\n",
              "      <td>1.000000</td>\n",
              "      <td>0.308754</td>\n",
              "      <td>0.282533</td>\n",
              "      <td>-0.259994</td>\n",
              "      <td>-0.065131</td>\n",
              "      <td>0.119493</td>\n",
              "      <td>-0.064615</td>\n",
              "      <td>0.237241</td>\n",
              "      <td>...</td>\n",
              "      <td>0.025136</td>\n",
              "      <td>0.017204</td>\n",
              "      <td>0.050523</td>\n",
              "      <td>0.052855</td>\n",
              "      <td>0.050372</td>\n",
              "      <td>0.020445</td>\n",
              "      <td>0.020089</td>\n",
              "      <td>0.009850</td>\n",
              "      <td>0.050899</td>\n",
              "      <td>0.037856</td>\n",
              "    </tr>\n",
              "    <tr>\n",
              "      <th>Page Views Per Visit</th>\n",
              "      <td>-0.065214</td>\n",
              "      <td>0.480952</td>\n",
              "      <td>0.308754</td>\n",
              "      <td>1.000000</td>\n",
              "      <td>0.463380</td>\n",
              "      <td>-0.352020</td>\n",
              "      <td>-0.068824</td>\n",
              "      <td>0.115972</td>\n",
              "      <td>-0.065832</td>\n",
              "      <td>0.190852</td>\n",
              "      <td>...</td>\n",
              "      <td>0.066998</td>\n",
              "      <td>0.055676</td>\n",
              "      <td>0.015575</td>\n",
              "      <td>0.067618</td>\n",
              "      <td>0.028116</td>\n",
              "      <td>0.015578</td>\n",
              "      <td>0.031524</td>\n",
              "      <td>0.013812</td>\n",
              "      <td>0.051148</td>\n",
              "      <td>0.112227</td>\n",
              "    </tr>\n",
              "    <tr>\n",
              "      <th>Lead Origin_Landing Page Submission</th>\n",
              "      <td>-0.120341</td>\n",
              "      <td>0.264948</td>\n",
              "      <td>0.282533</td>\n",
              "      <td>0.463380</td>\n",
              "      <td>1.000000</td>\n",
              "      <td>-0.373943</td>\n",
              "      <td>-0.077889</td>\n",
              "      <td>0.501980</td>\n",
              "      <td>-0.074250</td>\n",
              "      <td>0.082889</td>\n",
              "      <td>...</td>\n",
              "      <td>0.135704</td>\n",
              "      <td>0.086579</td>\n",
              "      <td>0.083039</td>\n",
              "      <td>0.094823</td>\n",
              "      <td>0.099944</td>\n",
              "      <td>0.074428</td>\n",
              "      <td>0.051920</td>\n",
              "      <td>0.036777</td>\n",
              "      <td>0.107318</td>\n",
              "      <td>0.098191</td>\n",
              "    </tr>\n",
              "    <tr>\n",
              "      <th>...</th>\n",
              "      <td>...</td>\n",
              "      <td>...</td>\n",
              "      <td>...</td>\n",
              "      <td>...</td>\n",
              "      <td>...</td>\n",
              "      <td>...</td>\n",
              "      <td>...</td>\n",
              "      <td>...</td>\n",
              "      <td>...</td>\n",
              "      <td>...</td>\n",
              "      <td>...</td>\n",
              "      <td>...</td>\n",
              "      <td>...</td>\n",
              "      <td>...</td>\n",
              "      <td>...</td>\n",
              "      <td>...</td>\n",
              "      <td>...</td>\n",
              "      <td>...</td>\n",
              "      <td>...</td>\n",
              "      <td>...</td>\n",
              "      <td>...</td>\n",
              "    </tr>\n",
              "    <tr>\n",
              "      <th>Specialization_Retail Management</th>\n",
              "      <td>-0.019611</td>\n",
              "      <td>0.006146</td>\n",
              "      <td>0.020445</td>\n",
              "      <td>0.015578</td>\n",
              "      <td>0.074428</td>\n",
              "      <td>-0.025533</td>\n",
              "      <td>-0.007592</td>\n",
              "      <td>0.026305</td>\n",
              "      <td>-0.007732</td>\n",
              "      <td>0.017449</td>\n",
              "      <td>...</td>\n",
              "      <td>-0.023377</td>\n",
              "      <td>-0.016140</td>\n",
              "      <td>-0.037556</td>\n",
              "      <td>-0.017782</td>\n",
              "      <td>-0.028028</td>\n",
              "      <td>1.000000</td>\n",
              "      <td>-0.010863</td>\n",
              "      <td>-0.006692</td>\n",
              "      <td>-0.023027</td>\n",
              "      <td>-0.017012</td>\n",
              "    </tr>\n",
              "    <tr>\n",
              "      <th>Specialization_Rural and Agribusiness</th>\n",
              "      <td>0.010507</td>\n",
              "      <td>0.071015</td>\n",
              "      <td>0.020089</td>\n",
              "      <td>0.031524</td>\n",
              "      <td>0.051920</td>\n",
              "      <td>-0.020953</td>\n",
              "      <td>-0.006872</td>\n",
              "      <td>0.022430</td>\n",
              "      <td>-0.006998</td>\n",
              "      <td>-0.038590</td>\n",
              "      <td>...</td>\n",
              "      <td>-0.021158</td>\n",
              "      <td>-0.014608</td>\n",
              "      <td>-0.033990</td>\n",
              "      <td>-0.016094</td>\n",
              "      <td>-0.025367</td>\n",
              "      <td>-0.010863</td>\n",
              "      <td>1.000000</td>\n",
              "      <td>-0.006057</td>\n",
              "      <td>-0.020841</td>\n",
              "      <td>-0.015397</td>\n",
              "    </tr>\n",
              "    <tr>\n",
              "      <th>Specialization_Services Excellence</th>\n",
              "      <td>-0.001990</td>\n",
              "      <td>0.010068</td>\n",
              "      <td>0.009850</td>\n",
              "      <td>0.013812</td>\n",
              "      <td>0.036777</td>\n",
              "      <td>-0.010613</td>\n",
              "      <td>-0.004233</td>\n",
              "      <td>0.046084</td>\n",
              "      <td>-0.004311</td>\n",
              "      <td>-0.024111</td>\n",
              "      <td>...</td>\n",
              "      <td>-0.013034</td>\n",
              "      <td>-0.008999</td>\n",
              "      <td>-0.020939</td>\n",
              "      <td>-0.009915</td>\n",
              "      <td>-0.015627</td>\n",
              "      <td>-0.006692</td>\n",
              "      <td>-0.006057</td>\n",
              "      <td>1.000000</td>\n",
              "      <td>-0.012839</td>\n",
              "      <td>-0.009485</td>\n",
              "    </tr>\n",
              "    <tr>\n",
              "      <th>Specialization_Supply Chain Management</th>\n",
              "      <td>0.005802</td>\n",
              "      <td>0.063573</td>\n",
              "      <td>0.050899</td>\n",
              "      <td>0.051148</td>\n",
              "      <td>0.107318</td>\n",
              "      <td>-0.034700</td>\n",
              "      <td>-0.001815</td>\n",
              "      <td>0.084252</td>\n",
              "      <td>-0.002312</td>\n",
              "      <td>-0.027044</td>\n",
              "      <td>...</td>\n",
              "      <td>-0.044849</td>\n",
              "      <td>-0.030965</td>\n",
              "      <td>-0.072050</td>\n",
              "      <td>-0.034115</td>\n",
              "      <td>-0.053771</td>\n",
              "      <td>-0.023027</td>\n",
              "      <td>-0.020841</td>\n",
              "      <td>-0.012839</td>\n",
              "      <td>1.000000</td>\n",
              "      <td>-0.032637</td>\n",
              "    </tr>\n",
              "    <tr>\n",
              "      <th>Specialization_Travel and Tourism</th>\n",
              "      <td>-0.010507</td>\n",
              "      <td>0.063883</td>\n",
              "      <td>0.037856</td>\n",
              "      <td>0.112227</td>\n",
              "      <td>0.098191</td>\n",
              "      <td>-0.047765</td>\n",
              "      <td>-0.010761</td>\n",
              "      <td>-0.000702</td>\n",
              "      <td>-0.010959</td>\n",
              "      <td>-0.053832</td>\n",
              "      <td>...</td>\n",
              "      <td>-0.033133</td>\n",
              "      <td>-0.022876</td>\n",
              "      <td>-0.053229</td>\n",
              "      <td>-0.025203</td>\n",
              "      <td>-0.039725</td>\n",
              "      <td>-0.017012</td>\n",
              "      <td>-0.015397</td>\n",
              "      <td>-0.009485</td>\n",
              "      <td>-0.032637</td>\n",
              "      <td>1.000000</td>\n",
              "    </tr>\n",
              "  </tbody>\n",
              "</table>\n",
              "<p>75 rows × 75 columns</p>\n",
              "</div>\n",
              "      <button class=\"colab-df-convert\" onclick=\"convertToInteractive('df-5e74d392-714c-4742-b646-7591443b428c')\"\n",
              "              title=\"Convert this dataframe to an interactive table.\"\n",
              "              style=\"display:none;\">\n",
              "        \n",
              "  <svg xmlns=\"http://www.w3.org/2000/svg\" height=\"24px\"viewBox=\"0 0 24 24\"\n",
              "       width=\"24px\">\n",
              "    <path d=\"M0 0h24v24H0V0z\" fill=\"none\"/>\n",
              "    <path d=\"M18.56 5.44l.94 2.06.94-2.06 2.06-.94-2.06-.94-.94-2.06-.94 2.06-2.06.94zm-11 1L8.5 8.5l.94-2.06 2.06-.94-2.06-.94L8.5 2.5l-.94 2.06-2.06.94zm10 10l.94 2.06.94-2.06 2.06-.94-2.06-.94-.94-2.06-.94 2.06-2.06.94z\"/><path d=\"M17.41 7.96l-1.37-1.37c-.4-.4-.92-.59-1.43-.59-.52 0-1.04.2-1.43.59L10.3 9.45l-7.72 7.72c-.78.78-.78 2.05 0 2.83L4 21.41c.39.39.9.59 1.41.59.51 0 1.02-.2 1.41-.59l7.78-7.78 2.81-2.81c.8-.78.8-2.07 0-2.86zM5.41 20L4 18.59l7.72-7.72 1.47 1.35L5.41 20z\"/>\n",
              "  </svg>\n",
              "      </button>\n",
              "      \n",
              "  <style>\n",
              "    .colab-df-container {\n",
              "      display:flex;\n",
              "      flex-wrap:wrap;\n",
              "      gap: 12px;\n",
              "    }\n",
              "\n",
              "    .colab-df-convert {\n",
              "      background-color: #E8F0FE;\n",
              "      border: none;\n",
              "      border-radius: 50%;\n",
              "      cursor: pointer;\n",
              "      display: none;\n",
              "      fill: #1967D2;\n",
              "      height: 32px;\n",
              "      padding: 0 0 0 0;\n",
              "      width: 32px;\n",
              "    }\n",
              "\n",
              "    .colab-df-convert:hover {\n",
              "      background-color: #E2EBFA;\n",
              "      box-shadow: 0px 1px 2px rgba(60, 64, 67, 0.3), 0px 1px 3px 1px rgba(60, 64, 67, 0.15);\n",
              "      fill: #174EA6;\n",
              "    }\n",
              "\n",
              "    [theme=dark] .colab-df-convert {\n",
              "      background-color: #3B4455;\n",
              "      fill: #D2E3FC;\n",
              "    }\n",
              "\n",
              "    [theme=dark] .colab-df-convert:hover {\n",
              "      background-color: #434B5C;\n",
              "      box-shadow: 0px 1px 3px 1px rgba(0, 0, 0, 0.15);\n",
              "      filter: drop-shadow(0px 1px 2px rgba(0, 0, 0, 0.3));\n",
              "      fill: #FFFFFF;\n",
              "    }\n",
              "  </style>\n",
              "\n",
              "      <script>\n",
              "        const buttonEl =\n",
              "          document.querySelector('#df-5e74d392-714c-4742-b646-7591443b428c button.colab-df-convert');\n",
              "        buttonEl.style.display =\n",
              "          google.colab.kernel.accessAllowed ? 'block' : 'none';\n",
              "\n",
              "        async function convertToInteractive(key) {\n",
              "          const element = document.querySelector('#df-5e74d392-714c-4742-b646-7591443b428c');\n",
              "          const dataTable =\n",
              "            await google.colab.kernel.invokeFunction('convertToInteractive',\n",
              "                                                     [key], {});\n",
              "          if (!dataTable) return;\n",
              "\n",
              "          const docLinkHtml = 'Like what you see? Visit the ' +\n",
              "            '<a target=\"_blank\" href=https://colab.research.google.com/notebooks/data_table.ipynb>data table notebook</a>'\n",
              "            + ' to learn more about interactive tables.';\n",
              "          element.innerHTML = '';\n",
              "          dataTable['output_type'] = 'display_data';\n",
              "          await google.colab.output.renderOutput(dataTable, element);\n",
              "          const docLink = document.createElement('div');\n",
              "          docLink.innerHTML = docLinkHtml;\n",
              "          element.appendChild(docLink);\n",
              "        }\n",
              "      </script>\n",
              "    </div>\n",
              "  </div>\n",
              "  "
            ]
          },
          "metadata": {},
          "execution_count": 58
        }
      ]
    },
    {
      "cell_type": "markdown",
      "source": [
        "##  Model Building"
      ],
      "metadata": {
        "id": "jfzI8cvypVLg"
      }
    },
    {
      "cell_type": "code",
      "source": [
        "from sklearn.linear_model import LogisticRegression"
      ],
      "metadata": {
        "id": "qB42mixqopLV"
      },
      "execution_count": null,
      "outputs": []
    },
    {
      "cell_type": "code",
      "source": [
        "model = LogisticRegression()"
      ],
      "metadata": {
        "id": "RRD7oyIipYbl"
      },
      "execution_count": null,
      "outputs": []
    },
    {
      "cell_type": "code",
      "source": [
        "model.fit(X_train,y_train)"
      ],
      "metadata": {
        "colab": {
          "base_uri": "https://localhost:8080/"
        },
        "id": "4vhE1A_CpYfc",
        "outputId": "051b8a1c-9968-4bb9-f5f9-41963fd867dc"
      },
      "execution_count": null,
      "outputs": [
        {
          "output_type": "execute_result",
          "data": {
            "text/plain": [
              "LogisticRegression()"
            ]
          },
          "metadata": {},
          "execution_count": 61
        }
      ]
    },
    {
      "cell_type": "code",
      "source": [
        "model.predict_proba(X_train)"
      ],
      "metadata": {
        "colab": {
          "base_uri": "https://localhost:8080/"
        },
        "id": "NbXSw_uBpYju",
        "outputId": "b269b46f-79e9-49d5-d5a8-6184662b02af"
      },
      "execution_count": null,
      "outputs": [
        {
          "output_type": "execute_result",
          "data": {
            "text/plain": [
              "array([[0.0263504 , 0.9736496 ],\n",
              "       [0.52944813, 0.47055187],\n",
              "       [0.09908389, 0.90091611],\n",
              "       ...,\n",
              "       [0.39350367, 0.60649633],\n",
              "       [0.0875622 , 0.9124378 ],\n",
              "       [0.52348913, 0.47651087]])"
            ]
          },
          "metadata": {},
          "execution_count": 62
        }
      ]
    },
    {
      "cell_type": "code",
      "source": [
        "model.predict(X_train)"
      ],
      "metadata": {
        "colab": {
          "base_uri": "https://localhost:8080/"
        },
        "id": "-Wl_6C1KpYoC",
        "outputId": "7f821544-06ee-44a6-a189-2eda9540caf0"
      },
      "execution_count": null,
      "outputs": [
        {
          "output_type": "execute_result",
          "data": {
            "text/plain": [
              "array([1, 0, 1, ..., 1, 1, 0])"
            ]
          },
          "metadata": {},
          "execution_count": 63
        }
      ]
    },
    {
      "cell_type": "code",
      "source": [
        "y_train"
      ],
      "metadata": {
        "colab": {
          "base_uri": "https://localhost:8080/"
        },
        "id": "L4TIM3orpY2N",
        "outputId": "74eeb4bf-b263-40f4-960d-24092049fb0c"
      },
      "execution_count": null,
      "outputs": [
        {
          "output_type": "execute_result",
          "data": {
            "text/plain": [
              "6384    1\n",
              "2108    1\n",
              "1502    1\n",
              "3801    1\n",
              "1985    0\n",
              "       ..\n",
              "2791    1\n",
              "554     1\n",
              "100     0\n",
              "5877    0\n",
              "8217    0\n",
              "Name: Converted, Length: 3954, dtype: int64"
            ]
          },
          "metadata": {},
          "execution_count": 64
        }
      ]
    },
    {
      "cell_type": "code",
      "source": [
        "y_train_pred = model.predict(X_train)"
      ],
      "metadata": {
        "id": "XNB05x07pY7U"
      },
      "execution_count": null,
      "outputs": []
    },
    {
      "cell_type": "markdown",
      "source": [
        "### Train"
      ],
      "metadata": {
        "id": "qPUxFgkEto2W"
      }
    },
    {
      "cell_type": "code",
      "source": [
        "y_train"
      ],
      "metadata": {
        "colab": {
          "base_uri": "https://localhost:8080/"
        },
        "id": "TQcD1i7ZpZCY",
        "outputId": "2abc9d0a-eca5-4103-af87-7f16c2b16c34"
      },
      "execution_count": null,
      "outputs": [
        {
          "output_type": "execute_result",
          "data": {
            "text/plain": [
              "6384    1\n",
              "2108    1\n",
              "1502    1\n",
              "3801    1\n",
              "1985    0\n",
              "       ..\n",
              "2791    1\n",
              "554     1\n",
              "100     0\n",
              "5877    0\n",
              "8217    0\n",
              "Name: Converted, Length: 3954, dtype: int64"
            ]
          },
          "metadata": {},
          "execution_count": 66
        }
      ]
    },
    {
      "cell_type": "code",
      "source": [
        "y_train_pred = model.predict(X_train)"
      ],
      "metadata": {
        "id": "fV0YLV81pZI3"
      },
      "execution_count": null,
      "outputs": []
    },
    {
      "cell_type": "code",
      "source": [
        "from sklearn.metrics import confusion_matrix\n",
        "from sklearn.metrics import ConfusionMatrixDisplay"
      ],
      "metadata": {
        "id": "LJm8ZuxdopPP"
      },
      "execution_count": null,
      "outputs": []
    },
    {
      "cell_type": "code",
      "source": [
        "confusion_matrix(y_train,y_train_pred)"
      ],
      "metadata": {
        "colab": {
          "base_uri": "https://localhost:8080/"
        },
        "id": "rwSqAyKct8wd",
        "outputId": "c58e4e66-3f8c-4959-a4f7-dc59a95de47d"
      },
      "execution_count": null,
      "outputs": [
        {
          "output_type": "execute_result",
          "data": {
            "text/plain": [
              "array([[1641,  362],\n",
              "       [ 455, 1496]])"
            ]
          },
          "metadata": {},
          "execution_count": 69
        }
      ]
    },
    {
      "cell_type": "code",
      "source": [
        "ConfusionMatrixDisplay.from_estimator(model, X_train, y_train)"
      ],
      "metadata": {
        "colab": {
          "base_uri": "https://localhost:8080/",
          "height": 296
        },
        "id": "LXMpc_6dt81E",
        "outputId": "15fc8305-fd4f-490d-b261-f2132c5bb5a1"
      },
      "execution_count": null,
      "outputs": [
        {
          "output_type": "execute_result",
          "data": {
            "text/plain": [
              "<sklearn.metrics._plot.confusion_matrix.ConfusionMatrixDisplay at 0x7f49982abc90>"
            ]
          },
          "metadata": {},
          "execution_count": 70
        },
        {
          "output_type": "display_data",
          "data": {
            "text/plain": [
              "<Figure size 432x288 with 2 Axes>"
            ],
            "image/png": "[encoded data removed]"
          },
          "metadata": {
            "needs_background": "light"
          }
        }
      ]
    },
    {
      "cell_type": "code",
      "source": [
        "from sklearn.metrics import accuracy_score, precision_score, recall_score , f1_score"
      ],
      "metadata": {
        "id": "NtyuHyU3t85X"
      },
      "execution_count": null,
      "outputs": []
    },
    {
      "cell_type": "code",
      "source": [
        "accuracy_score(y_train,y_train_pred)"
      ],
      "metadata": {
        "colab": {
          "base_uri": "https://localhost:8080/"
        },
        "id": "Ctfi6kOCt89M",
        "outputId": "1220063d-98a5-4e01-a478-6c9ff5a63a28"
      },
      "execution_count": null,
      "outputs": [
        {
          "output_type": "execute_result",
          "data": {
            "text/plain": [
              "0.7933737986848761"
            ]
          },
          "metadata": {},
          "execution_count": 72
        }
      ]
    },
    {
      "cell_type": "code",
      "source": [
        "precision_score(y_train,y_train_pred)"
      ],
      "metadata": {
        "colab": {
          "base_uri": "https://localhost:8080/"
        },
        "id": "JZnnDOf9t9BY",
        "outputId": "32b8ed72-d6ca-4e94-93ad-378fc9606da5"
      },
      "execution_count": null,
      "outputs": [
        {
          "output_type": "execute_result",
          "data": {
            "text/plain": [
              "0.8051668460710442"
            ]
          },
          "metadata": {},
          "execution_count": 73
        }
      ]
    },
    {
      "cell_type": "code",
      "source": [
        "recall_score(y_train,y_train_pred)"
      ],
      "metadata": {
        "colab": {
          "base_uri": "https://localhost:8080/"
        },
        "id": "PII0xtvTt9X4",
        "outputId": "df54ab40-da69-4ffb-cb6f-eba58bbb82db"
      },
      "execution_count": null,
      "outputs": [
        {
          "output_type": "execute_result",
          "data": {
            "text/plain": [
              "0.7667862634546386"
            ]
          },
          "metadata": {},
          "execution_count": 74
        }
      ]
    },
    {
      "cell_type": "code",
      "source": [
        "f1_score(y_train,y_train_pred)"
      ],
      "metadata": {
        "colab": {
          "base_uri": "https://localhost:8080/"
        },
        "id": "zMceqynHt9cG",
        "outputId": "c36e0c39-5195-44f6-d0b9-c13e952433d5"
      },
      "execution_count": null,
      "outputs": [
        {
          "output_type": "execute_result",
          "data": {
            "text/plain": [
              "0.7855080073510107"
            ]
          },
          "metadata": {},
          "execution_count": 75
        }
      ]
    },
    {
      "cell_type": "markdown",
      "source": [
        "### TEST"
      ],
      "metadata": {
        "id": "K3huUZ93vK5_"
      }
    },
    {
      "cell_type": "code",
      "source": [
        "y_test"
      ],
      "metadata": {
        "colab": {
          "base_uri": "https://localhost:8080/"
        },
        "id": "joY9q_WZt9qG",
        "outputId": "2cd0b0a4-8a11-47a9-db09-f5716b94bb8e"
      },
      "execution_count": null,
      "outputs": [
        {
          "output_type": "execute_result",
          "data": {
            "text/plain": [
              "1079    1\n",
              "7891    1\n",
              "3299    1\n",
              "1290    1\n",
              "6832    0\n",
              "       ..\n",
              "231     0\n",
              "3534    0\n",
              "7538    0\n",
              "5236    1\n",
              "4630    0\n",
              "Name: Converted, Length: 1695, dtype: int64"
            ]
          },
          "metadata": {},
          "execution_count": 76
        }
      ]
    },
    {
      "cell_type": "code",
      "source": [
        "y_test_pred = model.predict(X_test)"
      ],
      "metadata": {
        "id": "idJKV-g0vNxq"
      },
      "execution_count": null,
      "outputs": []
    },
    {
      "cell_type": "code",
      "source": [
        "from sklearn.metrics import confusion_matrix"
      ],
      "metadata": {
        "id": "9AjJx9v2vN2b"
      },
      "execution_count": null,
      "outputs": []
    },
    {
      "cell_type": "code",
      "source": [
        "confusion_matrix(y_test,y_test_pred)"
      ],
      "metadata": {
        "colab": {
          "base_uri": "https://localhost:8080/"
        },
        "id": "RWa1LReHvN6j",
        "outputId": "2caba35e-30d6-4ce9-b212-d7b5e73d1040"
      },
      "execution_count": null,
      "outputs": [
        {
          "output_type": "execute_result",
          "data": {
            "text/plain": [
              "array([[111, 753],\n",
              "       [ 36, 795]])"
            ]
          },
          "metadata": {},
          "execution_count": 79
        }
      ]
    },
    {
      "cell_type": "code",
      "source": [
        "ConfusionMatrixDisplay.from_estimator(model, X_test, y_test)"
      ],
      "metadata": {
        "colab": {
          "base_uri": "https://localhost:8080/",
          "height": 296
        },
        "id": "3xBL-ySjvN-_",
        "outputId": "11152942-3b3a-41e0-d0ef-51675789e8cd"
      },
      "execution_count": null,
      "outputs": [
        {
          "output_type": "execute_result",
          "data": {
            "text/plain": [
              "<sklearn.metrics._plot.confusion_matrix.ConfusionMatrixDisplay at 0x7f49959cf3d0>"
            ]
          },
          "metadata": {},
          "execution_count": 80
        },
        {
          "output_type": "display_data",
          "data": {
            "text/plain": [
              "<Figure size 432x288 with 2 Axes>"
            ],
            "image/png": "[encoded data removed]"
          },
          "metadata": {
            "needs_background": "light"
          }
        }
      ]
    },
    {
      "cell_type": "code",
      "source": [
        "accuracy_score(y_test,y_test_pred)"
      ],
      "metadata": {
        "colab": {
          "base_uri": "https://localhost:8080/"
        },
        "id": "66JNVfW4t9ub",
        "outputId": "4ce29698-40e9-494d-b3d7-c45b2cec9e07"
      },
      "execution_count": null,
      "outputs": [
        {
          "output_type": "execute_result",
          "data": {
            "text/plain": [
              "0.5345132743362832"
            ]
          },
          "metadata": {},
          "execution_count": 81
        }
      ]
    },
    {
      "cell_type": "code",
      "source": [
        "precision_score(y_test,y_test_pred)"
      ],
      "metadata": {
        "colab": {
          "base_uri": "https://localhost:8080/"
        },
        "id": "u6CyPFoPviEp",
        "outputId": "2a981271-5bad-4160-f324-f8c0ad9347c3"
      },
      "execution_count": null,
      "outputs": [
        {
          "output_type": "execute_result",
          "data": {
            "text/plain": [
              "0.5135658914728682"
            ]
          },
          "metadata": {},
          "execution_count": 82
        }
      ]
    },
    {
      "cell_type": "code",
      "source": [
        "recall_score(y_test,y_test_pred)"
      ],
      "metadata": {
        "colab": {
          "base_uri": "https://localhost:8080/"
        },
        "id": "6rNwl6OMviXQ",
        "outputId": "f5bfffdd-43d7-49bf-e22b-42c2cc83573f"
      },
      "execution_count": null,
      "outputs": [
        {
          "output_type": "execute_result",
          "data": {
            "text/plain": [
              "0.9566787003610109"
            ]
          },
          "metadata": {},
          "execution_count": 83
        }
      ]
    },
    {
      "cell_type": "code",
      "source": [
        "f1_score(y_test,y_test_pred)"
      ],
      "metadata": {
        "colab": {
          "base_uri": "https://localhost:8080/"
        },
        "id": "tGFbRoQCvibZ",
        "outputId": "c4f456fb-855e-4f3e-8884-ce41d9a342a5"
      },
      "execution_count": null,
      "outputs": [
        {
          "output_type": "execute_result",
          "data": {
            "text/plain": [
              "0.6683480453972257"
            ]
          },
          "metadata": {},
          "execution_count": 84
        }
      ]
    },
    {
      "cell_type": "code",
      "source": [
        "import statsmodels.api as sm"
      ],
      "metadata": {
        "id": "wFl7p21zt9yU"
      },
      "execution_count": null,
      "outputs": []
    },
    {
      "cell_type": "code",
      "source": [
        "\n",
        "\n",
        "X_train_sm = sm.add_constant(X_train)\n",
        "logm2 = sm.GLM(y_train, X_train_sm, family = sm.families.Binomial())\n",
        "res = logm2.fit()\n",
        "res.summary()"
      ],
      "metadata": {
        "colab": {
          "base_uri": "https://localhost:8080/",
          "height": 1000
        },
        "id": "c0akWS41t92a",
        "outputId": "0750ddb2-cec1-4846-9c84-3ea5bb3f81d6"
      },
      "execution_count": null,
      "outputs": [
        {
          "output_type": "execute_result",
          "data": {
            "text/plain": [
              "<class 'statsmodels.iolib.summary.Summary'>\n",
              "\"\"\"\n",
              "                 Generalized Linear Model Regression Results                  \n",
              "==============================================================================\n",
              "Dep. Variable:              Converted   No. Observations:                 3954\n",
              "Model:                            GLM   Df Residuals:                     3882\n",
              "Model Family:                Binomial   Df Model:                           71\n",
              "Link Function:                  logit   Scale:                          1.0000\n",
              "Method:                          IRLS   Log-Likelihood:                    nan\n",
              "Date:                Tue, 03 May 2022   Deviance:                          nan\n",
              "Time:                        17:30:37   Pearson chi2:                 5.63e+18\n",
              "No. Iterations:                   100                                         \n",
              "Covariance Type:            nonrobust                                         \n",
              "========================================================================================================================\n",
              "                                                           coef    std err          z      P>|z|      [0.025      0.975]\n",
              "------------------------------------------------------------------------------------------------------------------------\n",
              "const                                                 2.789e+15   8.68e+07   3.21e+07      0.000    2.79e+15    2.79e+15\n",
              "TotalVisits                                           1.297e+15   4.26e+07   3.04e+07      0.000     1.3e+15     1.3e+15\n",
              "Total Time Spent on Website                           3.016e+15   5.04e+06   5.99e+08      0.000    3.02e+15    3.02e+15\n",
              "Page Views Per Visit                                 -4.049e+14   1.28e+07  -3.16e+07      0.000   -4.05e+14   -4.05e+14\n",
              "Lead Origin_Landing Page Submission                   1.584e+14   3.99e+06   3.97e+07      0.000    1.58e+14    1.58e+14\n",
              "Lead Origin_Lead Add Form                            -8.653e+14   3.89e+07  -2.22e+07      0.000   -8.65e+14   -8.65e+14\n",
              "Lead Origin_Lead Import                              -1.515e+15   6.93e+07  -2.19e+07      0.000   -1.52e+15   -1.52e+15\n",
              "Lead Source_Direct Traffic                            4.651e+14   6.16e+07   7.55e+06      0.000    4.65e+14    4.65e+14\n",
              "Lead Source_Facebook                                  1.172e+15   9.14e+07   1.28e+07      0.000    1.17e+15    1.17e+15\n",
              "Lead Source_Google                                    6.966e+14   6.15e+07   1.13e+07      0.000    6.97e+14    6.97e+14\n",
              "Lead Source_Live Chat                                  7.21e+15   8.24e+07   8.75e+07      0.000    7.21e+15    7.21e+15\n",
              "Lead Source_Olark Chat                                1.417e+15   6.14e+07   2.31e+07      0.000    1.42e+15    1.42e+15\n",
              "Lead Source_Organic Search                            5.827e+14   6.16e+07   9.45e+06      0.000    5.83e+14    5.83e+14\n",
              "Lead Source_Pay per Click Ads                          5.68e+14   9.12e+07   6.23e+06      0.000    5.68e+14    5.68e+14\n",
              "Lead Source_Press_Release                               -9.9070   4.44e-07  -2.23e+07      0.000      -9.907      -9.907\n",
              "Lead Source_Reference                                 3.078e+15   4.77e+07   6.45e+07      0.000    3.08e+15    3.08e+15\n",
              "Lead Source_Referral Sites                           -2.954e+13   6.23e+07  -4.74e+05      0.000   -2.95e+13   -2.95e+13\n",
              "Lead Source_Social Media                             -3.186e+15   9.16e+07  -3.48e+07      0.000   -3.19e+15   -3.19e+15\n",
              "Lead Source_WeLearn                                  -8.896e+14   9.12e+07  -9.75e+06      0.000    -8.9e+14    -8.9e+14\n",
              "Lead Source_Welingak Website                          3.685e+15   4.82e+07   7.64e+07      0.000    3.68e+15    3.68e+15\n",
              "Lead Source_bing                                      1.133e+15   7.78e+07   1.46e+07      0.000    1.13e+15    1.13e+15\n",
              "Lead Source_testone                                   1.043e+15   9.12e+07   1.14e+07      0.000    1.04e+15    1.04e+15\n",
              "Do Not Email_Yes                                      1.833e+14   5.91e+06    3.1e+07      0.000    1.83e+14    1.83e+14\n",
              "Last Activity_Converted to Lead                      -3.405e+15   3.64e+07  -9.36e+07      0.000   -3.41e+15   -3.41e+15\n",
              "Last Activity_Email Bounced                          -4.502e+15   3.72e+07  -1.21e+08      0.000    -4.5e+15    -4.5e+15\n",
              "Last Activity_Email Link Clicked                     -3.242e+15   3.77e+07  -8.61e+07      0.000   -3.24e+15   -3.24e+15\n",
              "Last Activity_Email Marked Spam                         13.7330   4.33e-07   3.17e+07      0.000      13.733      13.733\n",
              "Last Activity_Email Opened                           -3.085e+15   3.62e+07  -8.52e+07      0.000   -3.08e+15   -3.08e+15\n",
              "Last Activity_Email Received                         -5.308e+15   7.63e+07  -6.96e+07      0.000   -5.31e+15   -5.31e+15\n",
              "Last Activity_Form Submitted on Website              -3.524e+15   3.73e+07  -9.46e+07      0.000   -3.52e+15   -3.52e+15\n",
              "Last Activity_Had a Phone Conversation               -3.833e+15   4.94e+07  -7.77e+07      0.000   -3.83e+15   -3.83e+15\n",
              "Last Activity_Olark Chat Conversation                -3.809e+15   3.63e+07  -1.05e+08      0.000   -3.81e+15   -3.81e+15\n",
              "Last Activity_Page Visited on Website                -3.628e+15   3.65e+07  -9.94e+07      0.000   -3.63e+15   -3.63e+15\n",
              "Last Activity_SMS Sent                               -3.729e+15   3.63e+07  -1.03e+08      0.000   -3.73e+15   -3.73e+15\n",
              "Last Activity_Unreachable                            -3.451e+15   3.79e+07   -9.1e+07      0.000   -3.45e+15   -3.45e+15\n",
              "Last Activity_Unsubscribed                           -3.091e+15   4.94e+07  -6.26e+07      0.000   -3.09e+15   -3.09e+15\n",
              "Last Activity_View in browser link Clicked           -5.102e+15    5.3e+07  -9.63e+07      0.000    -5.1e+15    -5.1e+15\n",
              "Last Activity_Visited Booth in Tradeshow             -7.372e+15   7.63e+07  -9.66e+07      0.000   -7.37e+15   -7.37e+15\n",
              "What is your current occupation_Housewife             4.357e+15   4.24e+07   1.03e+08      0.000    4.36e+15    4.36e+15\n",
              "What is your current occupation_Other                -1.483e+15   4.23e+07  -3.51e+07      0.000   -1.48e+15   -1.48e+15\n",
              "What is your current occupation_Student               6.828e+14   3.44e+07   1.99e+07      0.000    6.83e+14    6.83e+14\n",
              "What is your current occupation_Unemployed            6.309e+14   3.38e+07   1.87e+07      0.000    6.31e+14    6.31e+14\n",
              "What is your current occupation_Working Professional  1.394e+15   3.39e+07   4.11e+07      0.000    1.39e+15    1.39e+15\n",
              "A free copy of Mastering The Interview_Yes            -1.71e+14   3.27e+06  -5.22e+07      0.000   -1.71e+14   -1.71e+14\n",
              "Last Notable Activity_Email Bounced                  -3.504e+14   5.27e+07  -6.65e+06      0.000    -3.5e+14    -3.5e+14\n",
              "Last Notable Activity_Email Link Clicked             -1.119e+15   5.27e+07  -2.12e+07      0.000   -1.12e+15   -1.12e+15\n",
              "Last Notable Activity_Email Marked Spam                 -1.9433   1.49e-07  -1.31e+07      0.000      -1.943      -1.943\n",
              "Last Notable Activity_Email Opened                   -1.057e+15    5.1e+07  -2.07e+07      0.000   -1.06e+15   -1.06e+15\n",
              "Last Notable Activity_Email Received                  3.899e+15   1.08e+08   3.62e+07      0.000     3.9e+15     3.9e+15\n",
              "Last Notable Activity_Had a Phone Conversation        1.231e+15   6.63e+07   1.86e+07      0.000    1.23e+15    1.23e+15\n",
              "Last Notable Activity_Modified                       -1.299e+15    5.1e+07  -2.55e+07      0.000    -1.3e+15    -1.3e+15\n",
              "Last Notable Activity_Olark Chat Conversation        -1.457e+15    5.2e+07   -2.8e+07      0.000   -1.46e+15   -1.46e+15\n",
              "Last Notable Activity_Page Visited on Website        -1.263e+15   5.16e+07  -2.45e+07      0.000   -1.26e+15   -1.26e+15\n",
              "Last Notable Activity_SMS Sent                       -1.532e+15   5.12e+07  -2.99e+07      0.000   -1.53e+15   -1.53e+15\n",
              "Last Notable Activity_Unreachable                    -5.621e+14   5.65e+07  -9.95e+06      0.000   -5.62e+14   -5.62e+14\n",
              "Last Notable Activity_Unsubscribed                   -1.606e+15   6.32e+07  -2.54e+07      0.000   -1.61e+15   -1.61e+15\n",
              "Last Notable Activity_View in browser link Clicked   -3.254e+15   9.29e+07   -3.5e+07      0.000   -3.25e+15   -3.25e+15\n",
              "Specialization_Banking, Investment And Insurance     -2.009e+13   6.29e+06  -3.19e+06      0.000   -2.01e+13   -2.01e+13\n",
              "Specialization_Business Administration               -4.636e+13      6e+06  -7.73e+06      0.000   -4.64e+13   -4.64e+13\n",
              "Specialization_E-Business                            -2.787e+13   1.35e+07  -2.06e+06      0.000   -2.79e+13   -2.79e+13\n",
              "Specialization_E-COMMERCE                            -1.067e+13   1.02e+07  -1.05e+06      0.000   -1.07e+13   -1.07e+13\n",
              "Specialization_Finance Management                    -2.334e+14   4.78e+06  -4.89e+07      0.000   -2.33e+14   -2.33e+14\n",
              "Specialization_Healthcare Management                  5.326e+13   8.53e+06   6.25e+06      0.000    5.33e+13    5.33e+13\n",
              "Specialization_Hospitality Management                -6.651e+14   1.02e+07  -6.52e+07      0.000   -6.65e+14   -6.65e+14\n",
              "Specialization_Human Resource Management             -1.273e+14   4.77e+06  -2.67e+07      0.000   -1.27e+14   -1.27e+14\n",
              "Specialization_IT Projects Management                -3.697e+13   6.35e+06  -5.82e+06      0.000    -3.7e+13    -3.7e+13\n",
              "Specialization_International Business                 5.559e+13   8.12e+06   6.85e+06      0.000    5.56e+13    5.56e+13\n",
              "Specialization_Marketing Management                  -9.089e+13   4.63e+06  -1.96e+07      0.000   -9.09e+13   -9.09e+13\n",
              "Specialization_Media and Advertising                 -4.642e+14   7.94e+06  -5.85e+07      0.000   -4.64e+14   -4.64e+14\n",
              "Specialization_Operations Management                 -1.283e+14   5.43e+06  -2.36e+07      0.000   -1.28e+14   -1.28e+14\n",
              "Specialization_Retail Management                     -1.492e+14   1.01e+07  -1.48e+07      0.000   -1.49e+14   -1.49e+14\n",
              "Specialization_Rural and Agribusiness                 1.067e+14   1.16e+07   9.21e+06      0.000    1.07e+14    1.07e+14\n",
              "Specialization_Services Excellence                   -1.804e+14   1.84e+07  -9.79e+06      0.000    -1.8e+14    -1.8e+14\n",
              "Specialization_Supply Chain Management                3.421e+13    6.4e+06   5.34e+06      0.000    3.42e+13    3.42e+13\n",
              "Specialization_Travel and Tourism                     2.576e+13   7.98e+06   3.23e+06      0.000    2.58e+13    2.58e+13\n",
              "========================================================================================================================\n",
              "\"\"\""
            ],
            "text/html": [
              "<table class=\"simpletable\">\n",
              "<caption>Generalized Linear Model Regression Results</caption>\n",
              "<tr>\n",
              "  <th>Dep. Variable:</th>       <td>Converted</td>    <th>  No. Observations:  </th>  <td>  3954</td> \n",
              "</tr>\n",
              "<tr>\n",
              "  <th>Model:</th>                  <td>GLM</td>       <th>  Df Residuals:      </th>  <td>  3882</td> \n",
              "</tr>\n",
              "<tr>\n",
              "  <th>Model Family:</th>        <td>Binomial</td>     <th>  Df Model:          </th>  <td>    71</td> \n",
              "</tr>\n",
              "<tr>\n",
              "  <th>Link Function:</th>         <td>logit</td>      <th>  Scale:             </th> <td>  1.0000</td>\n",
              "</tr>\n",
              "<tr>\n",
              "  <th>Method:</th>                <td>IRLS</td>       <th>  Log-Likelihood:    </th> <td>     nan</td>\n",
              "</tr>\n",
              "<tr>\n",
              "  <th>Date:</th>            <td>Tue, 03 May 2022</td> <th>  Deviance:          </th> <td>     nan</td>\n",
              "</tr>\n",
              "<tr>\n",
              "  <th>Time:</th>                <td>17:30:37</td>     <th>  Pearson chi2:      </th> <td>5.63e+18</td>\n",
              "</tr>\n",
              "<tr>\n",
              "  <th>No. Iterations:</th>         <td>100</td>       <th>                     </th>     <td> </td>   \n",
              "</tr>\n",
              "<tr>\n",
              "  <th>Covariance Type:</th>     <td>nonrobust</td>    <th>                     </th>     <td> </td>   \n",
              "</tr>\n",
              "</table>\n",
              "<table class=\"simpletable\">\n",
              "<tr>\n",
              "                            <td></td>                              <th>coef</th>     <th>std err</th>      <th>z</th>      <th>P>|z|</th>  <th>[0.025</th>    <th>0.975]</th>  \n",
              "</tr>\n",
              "<tr>\n",
              "  <th>const</th>                                                <td> 2.789e+15</td> <td> 8.68e+07</td> <td> 3.21e+07</td> <td> 0.000</td> <td> 2.79e+15</td> <td> 2.79e+15</td>\n",
              "</tr>\n",
              "<tr>\n",
              "  <th>TotalVisits</th>                                          <td> 1.297e+15</td> <td> 4.26e+07</td> <td> 3.04e+07</td> <td> 0.000</td> <td>  1.3e+15</td> <td>  1.3e+15</td>\n",
              "</tr>\n",
              "<tr>\n",
              "  <th>Total Time Spent on Website</th>                          <td> 3.016e+15</td> <td> 5.04e+06</td> <td> 5.99e+08</td> <td> 0.000</td> <td> 3.02e+15</td> <td> 3.02e+15</td>\n",
              "</tr>\n",
              "<tr>\n",
              "  <th>Page Views Per Visit</th>                                 <td>-4.049e+14</td> <td> 1.28e+07</td> <td>-3.16e+07</td> <td> 0.000</td> <td>-4.05e+14</td> <td>-4.05e+14</td>\n",
              "</tr>\n",
              "<tr>\n",
              "  <th>Lead Origin_Landing Page Submission</th>                  <td> 1.584e+14</td> <td> 3.99e+06</td> <td> 3.97e+07</td> <td> 0.000</td> <td> 1.58e+14</td> <td> 1.58e+14</td>\n",
              "</tr>\n",
              "<tr>\n",
              "  <th>Lead Origin_Lead Add Form</th>                            <td>-8.653e+14</td> <td> 3.89e+07</td> <td>-2.22e+07</td> <td> 0.000</td> <td>-8.65e+14</td> <td>-8.65e+14</td>\n",
              "</tr>\n",
              "<tr>\n",
              "  <th>Lead Origin_Lead Import</th>                              <td>-1.515e+15</td> <td> 6.93e+07</td> <td>-2.19e+07</td> <td> 0.000</td> <td>-1.52e+15</td> <td>-1.52e+15</td>\n",
              "</tr>\n",
              "<tr>\n",
              "  <th>Lead Source_Direct Traffic</th>                           <td> 4.651e+14</td> <td> 6.16e+07</td> <td> 7.55e+06</td> <td> 0.000</td> <td> 4.65e+14</td> <td> 4.65e+14</td>\n",
              "</tr>\n",
              "<tr>\n",
              "  <th>Lead Source_Facebook</th>                                 <td> 1.172e+15</td> <td> 9.14e+07</td> <td> 1.28e+07</td> <td> 0.000</td> <td> 1.17e+15</td> <td> 1.17e+15</td>\n",
              "</tr>\n",
              "<tr>\n",
              "  <th>Lead Source_Google</th>                                   <td> 6.966e+14</td> <td> 6.15e+07</td> <td> 1.13e+07</td> <td> 0.000</td> <td> 6.97e+14</td> <td> 6.97e+14</td>\n",
              "</tr>\n",
              "<tr>\n",
              "  <th>Lead Source_Live Chat</th>                                <td>  7.21e+15</td> <td> 8.24e+07</td> <td> 8.75e+07</td> <td> 0.000</td> <td> 7.21e+15</td> <td> 7.21e+15</td>\n",
              "</tr>\n",
              "<tr>\n",
              "  <th>Lead Source_Olark Chat</th>                               <td> 1.417e+15</td> <td> 6.14e+07</td> <td> 2.31e+07</td> <td> 0.000</td> <td> 1.42e+15</td> <td> 1.42e+15</td>\n",
              "</tr>\n",
              "<tr>\n",
              "  <th>Lead Source_Organic Search</th>                           <td> 5.827e+14</td> <td> 6.16e+07</td> <td> 9.45e+06</td> <td> 0.000</td> <td> 5.83e+14</td> <td> 5.83e+14</td>\n",
              "</tr>\n",
              "<tr>\n",
              "  <th>Lead Source_Pay per Click Ads</th>                        <td>  5.68e+14</td> <td> 9.12e+07</td> <td> 6.23e+06</td> <td> 0.000</td> <td> 5.68e+14</td> <td> 5.68e+14</td>\n",
              "</tr>\n",
              "<tr>\n",
              "  <th>Lead Source_Press_Release</th>                            <td>   -9.9070</td> <td> 4.44e-07</td> <td>-2.23e+07</td> <td> 0.000</td> <td>   -9.907</td> <td>   -9.907</td>\n",
              "</tr>\n",
              "<tr>\n",
              "  <th>Lead Source_Reference</th>                                <td> 3.078e+15</td> <td> 4.77e+07</td> <td> 6.45e+07</td> <td> 0.000</td> <td> 3.08e+15</td> <td> 3.08e+15</td>\n",
              "</tr>\n",
              "<tr>\n",
              "  <th>Lead Source_Referral Sites</th>                           <td>-2.954e+13</td> <td> 6.23e+07</td> <td>-4.74e+05</td> <td> 0.000</td> <td>-2.95e+13</td> <td>-2.95e+13</td>\n",
              "</tr>\n",
              "<tr>\n",
              "  <th>Lead Source_Social Media</th>                             <td>-3.186e+15</td> <td> 9.16e+07</td> <td>-3.48e+07</td> <td> 0.000</td> <td>-3.19e+15</td> <td>-3.19e+15</td>\n",
              "</tr>\n",
              "<tr>\n",
              "  <th>Lead Source_WeLearn</th>                                  <td>-8.896e+14</td> <td> 9.12e+07</td> <td>-9.75e+06</td> <td> 0.000</td> <td> -8.9e+14</td> <td> -8.9e+14</td>\n",
              "</tr>\n",
              "<tr>\n",
              "  <th>Lead Source_Welingak Website</th>                         <td> 3.685e+15</td> <td> 4.82e+07</td> <td> 7.64e+07</td> <td> 0.000</td> <td> 3.68e+15</td> <td> 3.68e+15</td>\n",
              "</tr>\n",
              "<tr>\n",
              "  <th>Lead Source_bing</th>                                     <td> 1.133e+15</td> <td> 7.78e+07</td> <td> 1.46e+07</td> <td> 0.000</td> <td> 1.13e+15</td> <td> 1.13e+15</td>\n",
              "</tr>\n",
              "<tr>\n",
              "  <th>Lead Source_testone</th>                                  <td> 1.043e+15</td> <td> 9.12e+07</td> <td> 1.14e+07</td> <td> 0.000</td> <td> 1.04e+15</td> <td> 1.04e+15</td>\n",
              "</tr>\n",
              "<tr>\n",
              "  <th>Do Not Email_Yes</th>                                     <td> 1.833e+14</td> <td> 5.91e+06</td> <td>  3.1e+07</td> <td> 0.000</td> <td> 1.83e+14</td> <td> 1.83e+14</td>\n",
              "</tr>\n",
              "<tr>\n",
              "  <th>Last Activity_Converted to Lead</th>                      <td>-3.405e+15</td> <td> 3.64e+07</td> <td>-9.36e+07</td> <td> 0.000</td> <td>-3.41e+15</td> <td>-3.41e+15</td>\n",
              "</tr>\n",
              "<tr>\n",
              "  <th>Last Activity_Email Bounced</th>                          <td>-4.502e+15</td> <td> 3.72e+07</td> <td>-1.21e+08</td> <td> 0.000</td> <td> -4.5e+15</td> <td> -4.5e+15</td>\n",
              "</tr>\n",
              "<tr>\n",
              "  <th>Last Activity_Email Link Clicked</th>                     <td>-3.242e+15</td> <td> 3.77e+07</td> <td>-8.61e+07</td> <td> 0.000</td> <td>-3.24e+15</td> <td>-3.24e+15</td>\n",
              "</tr>\n",
              "<tr>\n",
              "  <th>Last Activity_Email Marked Spam</th>                      <td>   13.7330</td> <td> 4.33e-07</td> <td> 3.17e+07</td> <td> 0.000</td> <td>   13.733</td> <td>   13.733</td>\n",
              "</tr>\n",
              "<tr>\n",
              "  <th>Last Activity_Email Opened</th>                           <td>-3.085e+15</td> <td> 3.62e+07</td> <td>-8.52e+07</td> <td> 0.000</td> <td>-3.08e+15</td> <td>-3.08e+15</td>\n",
              "</tr>\n",
              "<tr>\n",
              "  <th>Last Activity_Email Received</th>                         <td>-5.308e+15</td> <td> 7.63e+07</td> <td>-6.96e+07</td> <td> 0.000</td> <td>-5.31e+15</td> <td>-5.31e+15</td>\n",
              "</tr>\n",
              "<tr>\n",
              "  <th>Last Activity_Form Submitted on Website</th>              <td>-3.524e+15</td> <td> 3.73e+07</td> <td>-9.46e+07</td> <td> 0.000</td> <td>-3.52e+15</td> <td>-3.52e+15</td>\n",
              "</tr>\n",
              "<tr>\n",
              "  <th>Last Activity_Had a Phone Conversation</th>               <td>-3.833e+15</td> <td> 4.94e+07</td> <td>-7.77e+07</td> <td> 0.000</td> <td>-3.83e+15</td> <td>-3.83e+15</td>\n",
              "</tr>\n",
              "<tr>\n",
              "  <th>Last Activity_Olark Chat Conversation</th>                <td>-3.809e+15</td> <td> 3.63e+07</td> <td>-1.05e+08</td> <td> 0.000</td> <td>-3.81e+15</td> <td>-3.81e+15</td>\n",
              "</tr>\n",
              "<tr>\n",
              "  <th>Last Activity_Page Visited on Website</th>                <td>-3.628e+15</td> <td> 3.65e+07</td> <td>-9.94e+07</td> <td> 0.000</td> <td>-3.63e+15</td> <td>-3.63e+15</td>\n",
              "</tr>\n",
              "<tr>\n",
              "  <th>Last Activity_SMS Sent</th>                               <td>-3.729e+15</td> <td> 3.63e+07</td> <td>-1.03e+08</td> <td> 0.000</td> <td>-3.73e+15</td> <td>-3.73e+15</td>\n",
              "</tr>\n",
              "<tr>\n",
              "  <th>Last Activity_Unreachable</th>                            <td>-3.451e+15</td> <td> 3.79e+07</td> <td> -9.1e+07</td> <td> 0.000</td> <td>-3.45e+15</td> <td>-3.45e+15</td>\n",
              "</tr>\n",
              "<tr>\n",
              "  <th>Last Activity_Unsubscribed</th>                           <td>-3.091e+15</td> <td> 4.94e+07</td> <td>-6.26e+07</td> <td> 0.000</td> <td>-3.09e+15</td> <td>-3.09e+15</td>\n",
              "</tr>\n",
              "<tr>\n",
              "  <th>Last Activity_View in browser link Clicked</th>           <td>-5.102e+15</td> <td>  5.3e+07</td> <td>-9.63e+07</td> <td> 0.000</td> <td> -5.1e+15</td> <td> -5.1e+15</td>\n",
              "</tr>\n",
              "<tr>\n",
              "  <th>Last Activity_Visited Booth in Tradeshow</th>             <td>-7.372e+15</td> <td> 7.63e+07</td> <td>-9.66e+07</td> <td> 0.000</td> <td>-7.37e+15</td> <td>-7.37e+15</td>\n",
              "</tr>\n",
              "<tr>\n",
              "  <th>What is your current occupation_Housewife</th>            <td> 4.357e+15</td> <td> 4.24e+07</td> <td> 1.03e+08</td> <td> 0.000</td> <td> 4.36e+15</td> <td> 4.36e+15</td>\n",
              "</tr>\n",
              "<tr>\n",
              "  <th>What is your current occupation_Other</th>                <td>-1.483e+15</td> <td> 4.23e+07</td> <td>-3.51e+07</td> <td> 0.000</td> <td>-1.48e+15</td> <td>-1.48e+15</td>\n",
              "</tr>\n",
              "<tr>\n",
              "  <th>What is your current occupation_Student</th>              <td> 6.828e+14</td> <td> 3.44e+07</td> <td> 1.99e+07</td> <td> 0.000</td> <td> 6.83e+14</td> <td> 6.83e+14</td>\n",
              "</tr>\n",
              "<tr>\n",
              "  <th>What is your current occupation_Unemployed</th>           <td> 6.309e+14</td> <td> 3.38e+07</td> <td> 1.87e+07</td> <td> 0.000</td> <td> 6.31e+14</td> <td> 6.31e+14</td>\n",
              "</tr>\n",
              "<tr>\n",
              "  <th>What is your current occupation_Working Professional</th> <td> 1.394e+15</td> <td> 3.39e+07</td> <td> 4.11e+07</td> <td> 0.000</td> <td> 1.39e+15</td> <td> 1.39e+15</td>\n",
              "</tr>\n",
              "<tr>\n",
              "  <th>A free copy of Mastering The Interview_Yes</th>           <td> -1.71e+14</td> <td> 3.27e+06</td> <td>-5.22e+07</td> <td> 0.000</td> <td>-1.71e+14</td> <td>-1.71e+14</td>\n",
              "</tr>\n",
              "<tr>\n",
              "  <th>Last Notable Activity_Email Bounced</th>                  <td>-3.504e+14</td> <td> 5.27e+07</td> <td>-6.65e+06</td> <td> 0.000</td> <td> -3.5e+14</td> <td> -3.5e+14</td>\n",
              "</tr>\n",
              "<tr>\n",
              "  <th>Last Notable Activity_Email Link Clicked</th>             <td>-1.119e+15</td> <td> 5.27e+07</td> <td>-2.12e+07</td> <td> 0.000</td> <td>-1.12e+15</td> <td>-1.12e+15</td>\n",
              "</tr>\n",
              "<tr>\n",
              "  <th>Last Notable Activity_Email Marked Spam</th>              <td>   -1.9433</td> <td> 1.49e-07</td> <td>-1.31e+07</td> <td> 0.000</td> <td>   -1.943</td> <td>   -1.943</td>\n",
              "</tr>\n",
              "<tr>\n",
              "  <th>Last Notable Activity_Email Opened</th>                   <td>-1.057e+15</td> <td>  5.1e+07</td> <td>-2.07e+07</td> <td> 0.000</td> <td>-1.06e+15</td> <td>-1.06e+15</td>\n",
              "</tr>\n",
              "<tr>\n",
              "  <th>Last Notable Activity_Email Received</th>                 <td> 3.899e+15</td> <td> 1.08e+08</td> <td> 3.62e+07</td> <td> 0.000</td> <td>  3.9e+15</td> <td>  3.9e+15</td>\n",
              "</tr>\n",
              "<tr>\n",
              "  <th>Last Notable Activity_Had a Phone Conversation</th>       <td> 1.231e+15</td> <td> 6.63e+07</td> <td> 1.86e+07</td> <td> 0.000</td> <td> 1.23e+15</td> <td> 1.23e+15</td>\n",
              "</tr>\n",
              "<tr>\n",
              "  <th>Last Notable Activity_Modified</th>                       <td>-1.299e+15</td> <td>  5.1e+07</td> <td>-2.55e+07</td> <td> 0.000</td> <td> -1.3e+15</td> <td> -1.3e+15</td>\n",
              "</tr>\n",
              "<tr>\n",
              "  <th>Last Notable Activity_Olark Chat Conversation</th>        <td>-1.457e+15</td> <td>  5.2e+07</td> <td> -2.8e+07</td> <td> 0.000</td> <td>-1.46e+15</td> <td>-1.46e+15</td>\n",
              "</tr>\n",
              "<tr>\n",
              "  <th>Last Notable Activity_Page Visited on Website</th>        <td>-1.263e+15</td> <td> 5.16e+07</td> <td>-2.45e+07</td> <td> 0.000</td> <td>-1.26e+15</td> <td>-1.26e+15</td>\n",
              "</tr>\n",
              "<tr>\n",
              "  <th>Last Notable Activity_SMS Sent</th>                       <td>-1.532e+15</td> <td> 5.12e+07</td> <td>-2.99e+07</td> <td> 0.000</td> <td>-1.53e+15</td> <td>-1.53e+15</td>\n",
              "</tr>\n",
              "<tr>\n",
              "  <th>Last Notable Activity_Unreachable</th>                    <td>-5.621e+14</td> <td> 5.65e+07</td> <td>-9.95e+06</td> <td> 0.000</td> <td>-5.62e+14</td> <td>-5.62e+14</td>\n",
              "</tr>\n",
              "<tr>\n",
              "  <th>Last Notable Activity_Unsubscribed</th>                   <td>-1.606e+15</td> <td> 6.32e+07</td> <td>-2.54e+07</td> <td> 0.000</td> <td>-1.61e+15</td> <td>-1.61e+15</td>\n",
              "</tr>\n",
              "<tr>\n",
              "  <th>Last Notable Activity_View in browser link Clicked</th>   <td>-3.254e+15</td> <td> 9.29e+07</td> <td> -3.5e+07</td> <td> 0.000</td> <td>-3.25e+15</td> <td>-3.25e+15</td>\n",
              "</tr>\n",
              "<tr>\n",
              "  <th>Specialization_Banking, Investment And Insurance</th>     <td>-2.009e+13</td> <td> 6.29e+06</td> <td>-3.19e+06</td> <td> 0.000</td> <td>-2.01e+13</td> <td>-2.01e+13</td>\n",
              "</tr>\n",
              "<tr>\n",
              "  <th>Specialization_Business Administration</th>               <td>-4.636e+13</td> <td>    6e+06</td> <td>-7.73e+06</td> <td> 0.000</td> <td>-4.64e+13</td> <td>-4.64e+13</td>\n",
              "</tr>\n",
              "<tr>\n",
              "  <th>Specialization_E-Business</th>                            <td>-2.787e+13</td> <td> 1.35e+07</td> <td>-2.06e+06</td> <td> 0.000</td> <td>-2.79e+13</td> <td>-2.79e+13</td>\n",
              "</tr>\n",
              "<tr>\n",
              "  <th>Specialization_E-COMMERCE</th>                            <td>-1.067e+13</td> <td> 1.02e+07</td> <td>-1.05e+06</td> <td> 0.000</td> <td>-1.07e+13</td> <td>-1.07e+13</td>\n",
              "</tr>\n",
              "<tr>\n",
              "  <th>Specialization_Finance Management</th>                    <td>-2.334e+14</td> <td> 4.78e+06</td> <td>-4.89e+07</td> <td> 0.000</td> <td>-2.33e+14</td> <td>-2.33e+14</td>\n",
              "</tr>\n",
              "<tr>\n",
              "  <th>Specialization_Healthcare Management</th>                 <td> 5.326e+13</td> <td> 8.53e+06</td> <td> 6.25e+06</td> <td> 0.000</td> <td> 5.33e+13</td> <td> 5.33e+13</td>\n",
              "</tr>\n",
              "<tr>\n",
              "  <th>Specialization_Hospitality Management</th>                <td>-6.651e+14</td> <td> 1.02e+07</td> <td>-6.52e+07</td> <td> 0.000</td> <td>-6.65e+14</td> <td>-6.65e+14</td>\n",
              "</tr>\n",
              "<tr>\n",
              "  <th>Specialization_Human Resource Management</th>             <td>-1.273e+14</td> <td> 4.77e+06</td> <td>-2.67e+07</td> <td> 0.000</td> <td>-1.27e+14</td> <td>-1.27e+14</td>\n",
              "</tr>\n",
              "<tr>\n",
              "  <th>Specialization_IT Projects Management</th>                <td>-3.697e+13</td> <td> 6.35e+06</td> <td>-5.82e+06</td> <td> 0.000</td> <td> -3.7e+13</td> <td> -3.7e+13</td>\n",
              "</tr>\n",
              "<tr>\n",
              "  <th>Specialization_International Business</th>                <td> 5.559e+13</td> <td> 8.12e+06</td> <td> 6.85e+06</td> <td> 0.000</td> <td> 5.56e+13</td> <td> 5.56e+13</td>\n",
              "</tr>\n",
              "<tr>\n",
              "  <th>Specialization_Marketing Management</th>                  <td>-9.089e+13</td> <td> 4.63e+06</td> <td>-1.96e+07</td> <td> 0.000</td> <td>-9.09e+13</td> <td>-9.09e+13</td>\n",
              "</tr>\n",
              "<tr>\n",
              "  <th>Specialization_Media and Advertising</th>                 <td>-4.642e+14</td> <td> 7.94e+06</td> <td>-5.85e+07</td> <td> 0.000</td> <td>-4.64e+14</td> <td>-4.64e+14</td>\n",
              "</tr>\n",
              "<tr>\n",
              "  <th>Specialization_Operations Management</th>                 <td>-1.283e+14</td> <td> 5.43e+06</td> <td>-2.36e+07</td> <td> 0.000</td> <td>-1.28e+14</td> <td>-1.28e+14</td>\n",
              "</tr>\n",
              "<tr>\n",
              "  <th>Specialization_Retail Management</th>                     <td>-1.492e+14</td> <td> 1.01e+07</td> <td>-1.48e+07</td> <td> 0.000</td> <td>-1.49e+14</td> <td>-1.49e+14</td>\n",
              "</tr>\n",
              "<tr>\n",
              "  <th>Specialization_Rural and Agribusiness</th>                <td> 1.067e+14</td> <td> 1.16e+07</td> <td> 9.21e+06</td> <td> 0.000</td> <td> 1.07e+14</td> <td> 1.07e+14</td>\n",
              "</tr>\n",
              "<tr>\n",
              "  <th>Specialization_Services Excellence</th>                   <td>-1.804e+14</td> <td> 1.84e+07</td> <td>-9.79e+06</td> <td> 0.000</td> <td> -1.8e+14</td> <td> -1.8e+14</td>\n",
              "</tr>\n",
              "<tr>\n",
              "  <th>Specialization_Supply Chain Management</th>               <td> 3.421e+13</td> <td>  6.4e+06</td> <td> 5.34e+06</td> <td> 0.000</td> <td> 3.42e+13</td> <td> 3.42e+13</td>\n",
              "</tr>\n",
              "<tr>\n",
              "  <th>Specialization_Travel and Tourism</th>                    <td> 2.576e+13</td> <td> 7.98e+06</td> <td> 3.23e+06</td> <td> 0.000</td> <td> 2.58e+13</td> <td> 2.58e+13</td>\n",
              "</tr>\n",
              "</table>"
            ]
          },
          "metadata": {},
          "execution_count": 86
        }
      ]
    },
    {
      "cell_type": "code",
      "source": [
        "from statsmodels.stats.outliers_influence import variance_inflation_factor"
      ],
      "metadata": {
        "id": "9KKIi6EfwoyZ"
      },
      "execution_count": null,
      "outputs": []
    },
    {
      "cell_type": "code",
      "source": [
        "# VIF \n",
        "\n",
        "vif = pd.DataFrame()\n",
        "vif['Features'] = X_train.columns\n",
        "vif['VIF'] = [variance_inflation_factor(X_train.values, i) for i in range(X_train.shape[1])]\n",
        "vif['VIF'] = round(vif['VIF'], 2)\n",
        "vif = vif.sort_values(by = \"VIF\", ascending = False)\n",
        "vif"
      ],
      "metadata": {
        "colab": {
          "base_uri": "https://localhost:8080/",
          "height": 423
        },
        "id": "QtTp_AkkwxT1",
        "outputId": "03283c44-84a6-42f2-f137-315dddce442d"
      },
      "execution_count": null,
      "outputs": [
        {
          "output_type": "execute_result",
          "data": {
            "text/plain": [
              "                                      Features     VIF\n",
              "40  What is your current occupation_Unemployed  729.76\n",
              "46          Last Notable Activity_Email Opened  614.07\n",
              "8                           Lead Source_Google  542.82\n",
              "52              Last Notable Activity_SMS Sent  542.56\n",
              "49              Last Notable Activity_Modified  528.31\n",
              "..                                         ...     ...\n",
              "58                   Specialization_E-Business    1.10\n",
              "71          Specialization_Services Excellence    1.05\n",
              "13                   Lead Source_Press_Release     NaN\n",
              "25             Last Activity_Email Marked Spam     NaN\n",
              "45     Last Notable Activity_Email Marked Spam     NaN\n",
              "\n",
              "[74 rows x 2 columns]"
            ],
            "text/html": [
              "\n",
              "  <div id=\"df-699d00ca-2153-4798-a48a-1fff2f026642\">\n",
              "    <div class=\"colab-df-container\">\n",
              "      <div>\n",
              "<style scoped>\n",
              "    .dataframe tbody tr th:only-of-type {\n",
              "        vertical-align: middle;\n",
              "    }\n",
              "\n",
              "    .dataframe tbody tr th {\n",
              "        vertical-align: top;\n",
              "    }\n",
              "\n",
              "    .dataframe thead th {\n",
              "        text-align: right;\n",
              "    }\n",
              "</style>\n",
              "<table border=\"1\" class=\"dataframe\">\n",
              "  <thead>\n",
              "    <tr style=\"text-align: right;\">\n",
              "      <th></th>\n",
              "      <th>Features</th>\n",
              "      <th>VIF</th>\n",
              "    </tr>\n",
              "  </thead>\n",
              "  <tbody>\n",
              "    <tr>\n",
              "      <th>40</th>\n",
              "      <td>What is your current occupation_Unemployed</td>\n",
              "      <td>729.76</td>\n",
              "    </tr>\n",
              "    <tr>\n",
              "      <th>46</th>\n",
              "      <td>Last Notable Activity_Email Opened</td>\n",
              "      <td>614.07</td>\n",
              "    </tr>\n",
              "    <tr>\n",
              "      <th>8</th>\n",
              "      <td>Lead Source_Google</td>\n",
              "      <td>542.82</td>\n",
              "    </tr>\n",
              "    <tr>\n",
              "      <th>52</th>\n",
              "      <td>Last Notable Activity_SMS Sent</td>\n",
              "      <td>542.56</td>\n",
              "    </tr>\n",
              "    <tr>\n",
              "      <th>49</th>\n",
              "      <td>Last Notable Activity_Modified</td>\n",
              "      <td>528.31</td>\n",
              "    </tr>\n",
              "    <tr>\n",
              "      <th>...</th>\n",
              "      <td>...</td>\n",
              "      <td>...</td>\n",
              "    </tr>\n",
              "    <tr>\n",
              "      <th>58</th>\n",
              "      <td>Specialization_E-Business</td>\n",
              "      <td>1.10</td>\n",
              "    </tr>\n",
              "    <tr>\n",
              "      <th>71</th>\n",
              "      <td>Specialization_Services Excellence</td>\n",
              "      <td>1.05</td>\n",
              "    </tr>\n",
              "    <tr>\n",
              "      <th>13</th>\n",
              "      <td>Lead Source_Press_Release</td>\n",
              "      <td>NaN</td>\n",
              "    </tr>\n",
              "    <tr>\n",
              "      <th>25</th>\n",
              "      <td>Last Activity_Email Marked Spam</td>\n",
              "      <td>NaN</td>\n",
              "    </tr>\n",
              "    <tr>\n",
              "      <th>45</th>\n",
              "      <td>Last Notable Activity_Email Marked Spam</td>\n",
              "      <td>NaN</td>\n",
              "    </tr>\n",
              "  </tbody>\n",
              "</table>\n",
              "<p>74 rows × 2 columns</p>\n",
              "</div>\n",
              "      <button class=\"colab-df-convert\" onclick=\"convertToInteractive('df-699d00ca-2153-4798-a48a-1fff2f026642')\"\n",
              "              title=\"Convert this dataframe to an interactive table.\"\n",
              "              style=\"display:none;\">\n",
              "        \n",
              "  <svg xmlns=\"http://www.w3.org/2000/svg\" height=\"24px\"viewBox=\"0 0 24 24\"\n",
              "       width=\"24px\">\n",
              "    <path d=\"M0 0h24v24H0V0z\" fill=\"none\"/>\n",
              "    <path d=\"M18.56 5.44l.94 2.06.94-2.06 2.06-.94-2.06-.94-.94-2.06-.94 2.06-2.06.94zm-11 1L8.5 8.5l.94-2.06 2.06-.94-2.06-.94L8.5 2.5l-.94 2.06-2.06.94zm10 10l.94 2.06.94-2.06 2.06-.94-2.06-.94-.94-2.06-.94 2.06-2.06.94z\"/><path d=\"M17.41 7.96l-1.37-1.37c-.4-.4-.92-.59-1.43-.59-.52 0-1.04.2-1.43.59L10.3 9.45l-7.72 7.72c-.78.78-.78 2.05 0 2.83L4 21.41c.39.39.9.59 1.41.59.51 0 1.02-.2 1.41-.59l7.78-7.78 2.81-2.81c.8-.78.8-2.07 0-2.86zM5.41 20L4 18.59l7.72-7.72 1.47 1.35L5.41 20z\"/>\n",
              "  </svg>\n",
              "      </button>\n",
              "      \n",
              "  <style>\n",
              "    .colab-df-container {\n",
              "      display:flex;\n",
              "      flex-wrap:wrap;\n",
              "      gap: 12px;\n",
              "    }\n",
              "\n",
              "    .colab-df-convert {\n",
              "      background-color: #E8F0FE;\n",
              "      border: none;\n",
              "      border-radius: 50%;\n",
              "      cursor: pointer;\n",
              "      display: none;\n",
              "      fill: #1967D2;\n",
              "      height: 32px;\n",
              "      padding: 0 0 0 0;\n",
              "      width: 32px;\n",
              "    }\n",
              "\n",
              "    .colab-df-convert:hover {\n",
              "      background-color: #E2EBFA;\n",
              "      box-shadow: 0px 1px 2px rgba(60, 64, 67, 0.3), 0px 1px 3px 1px rgba(60, 64, 67, 0.15);\n",
              "      fill: #174EA6;\n",
              "    }\n",
              "\n",
              "    [theme=dark] .colab-df-convert {\n",
              "      background-color: #3B4455;\n",
              "      fill: #D2E3FC;\n",
              "    }\n",
              "\n",
              "    [theme=dark] .colab-df-convert:hover {\n",
              "      background-color: #434B5C;\n",
              "      box-shadow: 0px 1px 3px 1px rgba(0, 0, 0, 0.15);\n",
              "      filter: drop-shadow(0px 1px 2px rgba(0, 0, 0, 0.3));\n",
              "      fill: #FFFFFF;\n",
              "    }\n",
              "  </style>\n",
              "\n",
              "      <script>\n",
              "        const buttonEl =\n",
              "          document.querySelector('#df-699d00ca-2153-4798-a48a-1fff2f026642 button.colab-df-convert');\n",
              "        buttonEl.style.display =\n",
              "          google.colab.kernel.accessAllowed ? 'block' : 'none';\n",
              "\n",
              "        async function convertToInteractive(key) {\n",
              "          const element = document.querySelector('#df-699d00ca-2153-4798-a48a-1fff2f026642');\n",
              "          const dataTable =\n",
              "            await google.colab.kernel.invokeFunction('convertToInteractive',\n",
              "                                                     [key], {});\n",
              "          if (!dataTable) return;\n",
              "\n",
              "          const docLinkHtml = 'Like what you see? Visit the ' +\n",
              "            '<a target=\"_blank\" href=https://colab.research.google.com/notebooks/data_table.ipynb>data table notebook</a>'\n",
              "            + ' to learn more about interactive tables.';\n",
              "          element.innerHTML = '';\n",
              "          dataTable['output_type'] = 'display_data';\n",
              "          await google.colab.output.renderOutput(dataTable, element);\n",
              "          const docLink = document.createElement('div');\n",
              "          docLink.innerHTML = docLinkHtml;\n",
              "          element.appendChild(docLink);\n",
              "        }\n",
              "      </script>\n",
              "    </div>\n",
              "  </div>\n",
              "  "
            ]
          },
          "metadata": {},
          "execution_count": 88
        }
      ]
    },
    {
      "cell_type": "code",
      "source": [
        "X_train.drop('Lead Source_Reference', axis = 1, inplace = True)"
      ],
      "metadata": {
        "id": "I7VJNNiHwy1u"
      },
      "execution_count": null,
      "outputs": []
    },
    {
      "cell_type": "code",
      "source": [
        "X_train.drop('Last Notable Activity_Had a Phone Conversation', axis = 1, inplace = True)"
      ],
      "metadata": {
        "id": "lWvzk0M2wzJX"
      },
      "execution_count": null,
      "outputs": []
    },
    {
      "cell_type": "code",
      "source": [
        "X_train.drop('What is your current occupation_Housewife', axis = 1, inplace = True)"
      ],
      "metadata": {
        "id": "--CRx8Z5wzPQ"
      },
      "execution_count": null,
      "outputs": []
    },
    {
      "cell_type": "code",
      "source": [
        "X_train.drop('What is your current occupation_Working Professional', axis = 1, inplace = True)"
      ],
      "metadata": {
        "id": "zlNthCSHx901"
      },
      "execution_count": null,
      "outputs": []
    },
    {
      "cell_type": "code",
      "source": [
        "# Refit the model with the new set of features\n",
        "\n",
        "logm1 = sm.GLM(y_train,(sm.add_constant(X_train)), family = sm.families.Binomial())\n",
        "logm1.fit().summary()"
      ],
      "metadata": {
        "colab": {
          "base_uri": "https://localhost:8080/",
          "height": 1000
        },
        "id": "ZTV_0m3lwzTc",
        "outputId": "b44e73dc-8b3e-4f61-c14a-0450ae1f0afc"
      },
      "execution_count": null,
      "outputs": [
        {
          "output_type": "execute_result",
          "data": {
            "text/plain": [
              "<class 'statsmodels.iolib.summary.Summary'>\n",
              "\"\"\"\n",
              "                 Generalized Linear Model Regression Results                  \n",
              "==============================================================================\n",
              "Dep. Variable:              Converted   No. Observations:                 3954\n",
              "Model:                            GLM   Df Residuals:                     3886\n",
              "Model Family:                Binomial   Df Model:                           67\n",
              "Link Function:                  logit   Scale:                          1.0000\n",
              "Method:                          IRLS   Log-Likelihood:                    nan\n",
              "Date:                Tue, 03 May 2022   Deviance:                          nan\n",
              "Time:                        17:31:14   Pearson chi2:                 5.35e+18\n",
              "No. Iterations:                   100                                         \n",
              "Covariance Type:            nonrobust                                         \n",
              "======================================================================================================================\n",
              "                                                         coef    std err          z      P>|z|      [0.025      0.975]\n",
              "----------------------------------------------------------------------------------------------------------------------\n",
              "const                                               7.055e+15   5.71e+07   1.24e+08      0.000    7.06e+15    7.06e+15\n",
              "TotalVisits                                         2.158e+15   4.26e+07   5.06e+07      0.000    2.16e+15    2.16e+15\n",
              "Total Time Spent on Website                          2.35e+15   5.04e+06   4.67e+08      0.000    2.35e+15    2.35e+15\n",
              "Page Views Per Visit                               -7.363e+14   1.28e+07  -5.74e+07      0.000   -7.36e+14   -7.36e+14\n",
              "Lead Origin_Landing Page Submission                -6.351e+14   3.98e+06  -1.59e+08      0.000   -6.35e+14   -6.35e+14\n",
              "Lead Origin_Lead Add Form                            5.73e+14   3.89e+07   1.47e+07      0.000    5.73e+14    5.73e+14\n",
              "Lead Origin_Lead Import                              5.39e+15   6.93e+07   7.78e+07      0.000    5.39e+15    5.39e+15\n",
              "Lead Source_Direct Traffic                         -7.867e+14   3.93e+07     -2e+07      0.000   -7.87e+14   -7.87e+14\n",
              "Lead Source_Facebook                               -4.665e+15   7.81e+07  -5.98e+07      0.000   -4.67e+15   -4.67e+15\n",
              "Lead Source_Google                                 -1.035e+15   3.92e+07  -2.64e+07      0.000   -1.04e+15   -1.04e+15\n",
              "Lead Source_Live Chat                               4.199e+15   6.73e+07   6.24e+07      0.000     4.2e+15     4.2e+15\n",
              "Lead Source_Olark Chat                             -6.502e+14   3.91e+07  -1.66e+07      0.000    -6.5e+14    -6.5e+14\n",
              "Lead Source_Organic Search                         -9.714e+14   3.94e+07  -2.47e+07      0.000   -9.71e+14   -9.71e+14\n",
              "Lead Source_Pay per Click Ads                      -3.715e+15   7.79e+07  -4.77e+07      0.000   -3.72e+15   -3.72e+15\n",
              "Lead Source_Press_Release                            -15.2863    5.1e-07     -3e+07      0.000     -15.286     -15.286\n",
              "Lead Source_Referral Sites                         -3.036e+14   4.05e+07   -7.5e+06      0.000   -3.04e+14   -3.04e+14\n",
              "Lead Source_Social Media                           -4.693e+15   7.84e+07  -5.98e+07      0.000   -4.69e+15   -4.69e+15\n",
              "Lead Source_WeLearn                                 4.273e+15   7.79e+07   5.48e+07      0.000    4.27e+15    4.27e+15\n",
              "Lead Source_Welingak Website                        5.231e+14    8.5e+06   6.15e+07      0.000    5.23e+14    5.23e+14\n",
              "Lead Source_bing                                    4.835e+14   6.16e+07   7.84e+06      0.000    4.83e+14    4.83e+14\n",
              "Lead Source_testone                                -4.195e+15    7.8e+07  -5.38e+07      0.000    -4.2e+15    -4.2e+15\n",
              "Do Not Email_Yes                                   -4.396e+14   5.91e+06  -7.43e+07      0.000    -4.4e+14    -4.4e+14\n",
              "Last Activity_Converted to Lead                    -3.756e+15    3.5e+07  -1.07e+08      0.000   -3.76e+15   -3.76e+15\n",
              "Last Activity_Email Bounced                        -4.055e+15   3.59e+07  -1.13e+08      0.000   -4.05e+15   -4.05e+15\n",
              "Last Activity_Email Link Clicked                   -4.217e+15   3.64e+07  -1.16e+08      0.000   -4.22e+15   -4.22e+15\n",
              "Last Activity_Email Marked Spam                      -19.2592   2.46e-07  -7.84e+07      0.000     -19.259     -19.259\n",
              "Last Activity_Email Opened                           -4.8e+15   3.49e+07  -1.38e+08      0.000    -4.8e+15    -4.8e+15\n",
              "Last Activity_Email Received                       -6.642e+14   7.57e+07  -8.78e+06      0.000   -6.64e+14   -6.64e+14\n",
              "Last Activity_Form Submitted on Website            -3.584e+15    3.6e+07  -9.97e+07      0.000   -3.58e+15   -3.58e+15\n",
              "Last Activity_Had a Phone Conversation              -3.62e+15   4.13e+07  -8.77e+07      0.000   -3.62e+15   -3.62e+15\n",
              "Last Activity_Olark Chat Conversation              -3.578e+15    3.5e+07  -1.02e+08      0.000   -3.58e+15   -3.58e+15\n",
              "Last Activity_Page Visited on Website              -4.028e+15   3.51e+07  -1.15e+08      0.000   -4.03e+15   -4.03e+15\n",
              "Last Activity_SMS Sent                              -4.48e+15    3.5e+07  -1.28e+08      0.000   -4.48e+15   -4.48e+15\n",
              "Last Activity_Unreachable                           -3.42e+15   3.66e+07  -9.34e+07      0.000   -3.42e+15   -3.42e+15\n",
              "Last Activity_Unsubscribed                         -3.542e+15   4.84e+07  -7.32e+07      0.000   -3.54e+15   -3.54e+15\n",
              "Last Activity_View in browser link Clicked         -3.546e+15   5.21e+07  -6.81e+07      0.000   -3.55e+15   -3.55e+15\n",
              "Last Activity_Visited Booth in Tradeshow            -7.34e+15   7.57e+07   -9.7e+07      0.000   -7.34e+15   -7.34e+15\n",
              "What is your current occupation_Other              -1.397e+14   2.58e+07  -5.42e+06      0.000    -1.4e+14    -1.4e+14\n",
              "What is your current occupation_Student            -3.803e+14   7.22e+06  -5.27e+07      0.000    -3.8e+14    -3.8e+14\n",
              "What is your current occupation_Unemployed         -1.153e+15   3.68e+06  -3.13e+08      0.000   -1.15e+15   -1.15e+15\n",
              "A free copy of Mastering The Interview_Yes          -1.09e+12   3.27e+06  -3.33e+05      0.000   -1.09e+12   -1.09e+12\n",
              "Last Notable Activity_Email Bounced                -1.326e+15   3.52e+07  -3.77e+07      0.000   -1.33e+15   -1.33e+15\n",
              "Last Notable Activity_Email Link Clicked           -2.247e+15   3.52e+07  -6.38e+07      0.000   -2.25e+15   -2.25e+15\n",
              "Last Notable Activity_Email Marked Spam               11.8186   1.79e-07   6.62e+07      0.000      11.819      11.819\n",
              "Last Notable Activity_Email Opened                 -2.075e+15   3.28e+07  -6.33e+07      0.000   -2.07e+15   -2.07e+15\n",
              "Last Notable Activity_Email Received               -6.091e+15      1e+08  -6.06e+07      0.000   -6.09e+15   -6.09e+15\n",
              "Last Notable Activity_Modified                     -2.162e+15   3.26e+07  -6.64e+07      0.000   -2.16e+15   -2.16e+15\n",
              "Last Notable Activity_Olark Chat Conversation      -2.314e+15   3.42e+07  -6.76e+07      0.000   -2.31e+15   -2.31e+15\n",
              "Last Notable Activity_Page Visited on Website      -2.449e+15   3.36e+07  -7.29e+07      0.000   -2.45e+15   -2.45e+15\n",
              "Last Notable Activity_SMS Sent                     -1.691e+15    3.3e+07  -5.13e+07      0.000   -1.69e+15   -1.69e+15\n",
              "Last Notable Activity_Unreachable                  -2.206e+15   4.06e+07  -5.44e+07      0.000   -2.21e+15   -2.21e+15\n",
              "Last Notable Activity_Unsubscribed                  -1.91e+15   4.95e+07  -3.86e+07      0.000   -1.91e+15   -1.91e+15\n",
              "Last Notable Activity_View in browser link Clicked -2.174e+15   8.42e+07  -2.58e+07      0.000   -2.17e+15   -2.17e+15\n",
              "Specialization_Banking, Investment And Insurance    1.026e+15   6.28e+06   1.63e+08      0.000    1.03e+15    1.03e+15\n",
              "Specialization_Business Administration               8.45e+14   5.99e+06   1.41e+08      0.000    8.45e+14    8.45e+14\n",
              "Specialization_E-Business                           4.834e+14   1.35e+07   3.57e+07      0.000    4.83e+14    4.83e+14\n",
              "Specialization_E-COMMERCE                           1.068e+15   1.02e+07   1.05e+08      0.000    1.07e+15    1.07e+15\n",
              "Specialization_Finance Management                   7.342e+14   4.77e+06   1.54e+08      0.000    7.34e+14    7.34e+14\n",
              "Specialization_Healthcare Management                5.734e+14   8.52e+06   6.73e+07      0.000    5.73e+14    5.73e+14\n",
              "Specialization_Hospitality Management               4.751e+14   1.02e+07   4.66e+07      0.000    4.75e+14    4.75e+14\n",
              "Specialization_Human Resource Management            6.087e+14   4.76e+06   1.28e+08      0.000    6.09e+14    6.09e+14\n",
              "Specialization_IT Projects Management               7.891e+14   6.35e+06   1.24e+08      0.000    7.89e+14    7.89e+14\n",
              "Specialization_International Business               7.255e+14   8.12e+06   8.94e+07      0.000    7.26e+14    7.26e+14\n",
              "Specialization_Marketing Management                 6.679e+14   4.62e+06   1.44e+08      0.000    6.68e+14    6.68e+14\n",
              "Specialization_Media and Advertising                4.956e+14   7.93e+06   6.25e+07      0.000    4.96e+14    4.96e+14\n",
              "Specialization_Operations Management                7.716e+14   5.43e+06   1.42e+08      0.000    7.72e+14    7.72e+14\n",
              "Specialization_Retail Management                    1.046e+15   1.01e+07   1.03e+08      0.000    1.05e+15    1.05e+15\n",
              "Specialization_Rural and Agribusiness               1.654e+15   1.16e+07   1.43e+08      0.000    1.65e+15    1.65e+15\n",
              "Specialization_Services Excellence                      4e+14   1.84e+07   2.17e+07      0.000       4e+14       4e+14\n",
              "Specialization_Supply Chain Management              5.995e+14    6.4e+06   9.37e+07      0.000    5.99e+14    5.99e+14\n",
              "Specialization_Travel and Tourism                   1.025e+15   7.98e+06   1.28e+08      0.000    1.02e+15    1.02e+15\n",
              "======================================================================================================================\n",
              "\"\"\""
            ],
            "text/html": [
              "<table class=\"simpletable\">\n",
              "<caption>Generalized Linear Model Regression Results</caption>\n",
              "<tr>\n",
              "  <th>Dep. Variable:</th>       <td>Converted</td>    <th>  No. Observations:  </th>  <td>  3954</td> \n",
              "</tr>\n",
              "<tr>\n",
              "  <th>Model:</th>                  <td>GLM</td>       <th>  Df Residuals:      </th>  <td>  3886</td> \n",
              "</tr>\n",
              "<tr>\n",
              "  <th>Model Family:</th>        <td>Binomial</td>     <th>  Df Model:          </th>  <td>    67</td> \n",
              "</tr>\n",
              "<tr>\n",
              "  <th>Link Function:</th>         <td>logit</td>      <th>  Scale:             </th> <td>  1.0000</td>\n",
              "</tr>\n",
              "<tr>\n",
              "  <th>Method:</th>                <td>IRLS</td>       <th>  Log-Likelihood:    </th> <td>     nan</td>\n",
              "</tr>\n",
              "<tr>\n",
              "  <th>Date:</th>            <td>Tue, 03 May 2022</td> <th>  Deviance:          </th> <td>     nan</td>\n",
              "</tr>\n",
              "<tr>\n",
              "  <th>Time:</th>                <td>17:31:14</td>     <th>  Pearson chi2:      </th> <td>5.35e+18</td>\n",
              "</tr>\n",
              "<tr>\n",
              "  <th>No. Iterations:</th>         <td>100</td>       <th>                     </th>     <td> </td>   \n",
              "</tr>\n",
              "<tr>\n",
              "  <th>Covariance Type:</th>     <td>nonrobust</td>    <th>                     </th>     <td> </td>   \n",
              "</tr>\n",
              "</table>\n",
              "<table class=\"simpletable\">\n",
              "<tr>\n",
              "                           <td></td>                             <th>coef</th>     <th>std err</th>      <th>z</th>      <th>P>|z|</th>  <th>[0.025</th>    <th>0.975]</th>  \n",
              "</tr>\n",
              "<tr>\n",
              "  <th>const</th>                                              <td> 7.055e+15</td> <td> 5.71e+07</td> <td> 1.24e+08</td> <td> 0.000</td> <td> 7.06e+15</td> <td> 7.06e+15</td>\n",
              "</tr>\n",
              "<tr>\n",
              "  <th>TotalVisits</th>                                        <td> 2.158e+15</td> <td> 4.26e+07</td> <td> 5.06e+07</td> <td> 0.000</td> <td> 2.16e+15</td> <td> 2.16e+15</td>\n",
              "</tr>\n",
              "<tr>\n",
              "  <th>Total Time Spent on Website</th>                        <td>  2.35e+15</td> <td> 5.04e+06</td> <td> 4.67e+08</td> <td> 0.000</td> <td> 2.35e+15</td> <td> 2.35e+15</td>\n",
              "</tr>\n",
              "<tr>\n",
              "  <th>Page Views Per Visit</th>                               <td>-7.363e+14</td> <td> 1.28e+07</td> <td>-5.74e+07</td> <td> 0.000</td> <td>-7.36e+14</td> <td>-7.36e+14</td>\n",
              "</tr>\n",
              "<tr>\n",
              "  <th>Lead Origin_Landing Page Submission</th>                <td>-6.351e+14</td> <td> 3.98e+06</td> <td>-1.59e+08</td> <td> 0.000</td> <td>-6.35e+14</td> <td>-6.35e+14</td>\n",
              "</tr>\n",
              "<tr>\n",
              "  <th>Lead Origin_Lead Add Form</th>                          <td>  5.73e+14</td> <td> 3.89e+07</td> <td> 1.47e+07</td> <td> 0.000</td> <td> 5.73e+14</td> <td> 5.73e+14</td>\n",
              "</tr>\n",
              "<tr>\n",
              "  <th>Lead Origin_Lead Import</th>                            <td>  5.39e+15</td> <td> 6.93e+07</td> <td> 7.78e+07</td> <td> 0.000</td> <td> 5.39e+15</td> <td> 5.39e+15</td>\n",
              "</tr>\n",
              "<tr>\n",
              "  <th>Lead Source_Direct Traffic</th>                         <td>-7.867e+14</td> <td> 3.93e+07</td> <td>   -2e+07</td> <td> 0.000</td> <td>-7.87e+14</td> <td>-7.87e+14</td>\n",
              "</tr>\n",
              "<tr>\n",
              "  <th>Lead Source_Facebook</th>                               <td>-4.665e+15</td> <td> 7.81e+07</td> <td>-5.98e+07</td> <td> 0.000</td> <td>-4.67e+15</td> <td>-4.67e+15</td>\n",
              "</tr>\n",
              "<tr>\n",
              "  <th>Lead Source_Google</th>                                 <td>-1.035e+15</td> <td> 3.92e+07</td> <td>-2.64e+07</td> <td> 0.000</td> <td>-1.04e+15</td> <td>-1.04e+15</td>\n",
              "</tr>\n",
              "<tr>\n",
              "  <th>Lead Source_Live Chat</th>                              <td> 4.199e+15</td> <td> 6.73e+07</td> <td> 6.24e+07</td> <td> 0.000</td> <td>  4.2e+15</td> <td>  4.2e+15</td>\n",
              "</tr>\n",
              "<tr>\n",
              "  <th>Lead Source_Olark Chat</th>                             <td>-6.502e+14</td> <td> 3.91e+07</td> <td>-1.66e+07</td> <td> 0.000</td> <td> -6.5e+14</td> <td> -6.5e+14</td>\n",
              "</tr>\n",
              "<tr>\n",
              "  <th>Lead Source_Organic Search</th>                         <td>-9.714e+14</td> <td> 3.94e+07</td> <td>-2.47e+07</td> <td> 0.000</td> <td>-9.71e+14</td> <td>-9.71e+14</td>\n",
              "</tr>\n",
              "<tr>\n",
              "  <th>Lead Source_Pay per Click Ads</th>                      <td>-3.715e+15</td> <td> 7.79e+07</td> <td>-4.77e+07</td> <td> 0.000</td> <td>-3.72e+15</td> <td>-3.72e+15</td>\n",
              "</tr>\n",
              "<tr>\n",
              "  <th>Lead Source_Press_Release</th>                          <td>  -15.2863</td> <td>  5.1e-07</td> <td>   -3e+07</td> <td> 0.000</td> <td>  -15.286</td> <td>  -15.286</td>\n",
              "</tr>\n",
              "<tr>\n",
              "  <th>Lead Source_Referral Sites</th>                         <td>-3.036e+14</td> <td> 4.05e+07</td> <td> -7.5e+06</td> <td> 0.000</td> <td>-3.04e+14</td> <td>-3.04e+14</td>\n",
              "</tr>\n",
              "<tr>\n",
              "  <th>Lead Source_Social Media</th>                           <td>-4.693e+15</td> <td> 7.84e+07</td> <td>-5.98e+07</td> <td> 0.000</td> <td>-4.69e+15</td> <td>-4.69e+15</td>\n",
              "</tr>\n",
              "<tr>\n",
              "  <th>Lead Source_WeLearn</th>                                <td> 4.273e+15</td> <td> 7.79e+07</td> <td> 5.48e+07</td> <td> 0.000</td> <td> 4.27e+15</td> <td> 4.27e+15</td>\n",
              "</tr>\n",
              "<tr>\n",
              "  <th>Lead Source_Welingak Website</th>                       <td> 5.231e+14</td> <td>  8.5e+06</td> <td> 6.15e+07</td> <td> 0.000</td> <td> 5.23e+14</td> <td> 5.23e+14</td>\n",
              "</tr>\n",
              "<tr>\n",
              "  <th>Lead Source_bing</th>                                   <td> 4.835e+14</td> <td> 6.16e+07</td> <td> 7.84e+06</td> <td> 0.000</td> <td> 4.83e+14</td> <td> 4.83e+14</td>\n",
              "</tr>\n",
              "<tr>\n",
              "  <th>Lead Source_testone</th>                                <td>-4.195e+15</td> <td>  7.8e+07</td> <td>-5.38e+07</td> <td> 0.000</td> <td> -4.2e+15</td> <td> -4.2e+15</td>\n",
              "</tr>\n",
              "<tr>\n",
              "  <th>Do Not Email_Yes</th>                                   <td>-4.396e+14</td> <td> 5.91e+06</td> <td>-7.43e+07</td> <td> 0.000</td> <td> -4.4e+14</td> <td> -4.4e+14</td>\n",
              "</tr>\n",
              "<tr>\n",
              "  <th>Last Activity_Converted to Lead</th>                    <td>-3.756e+15</td> <td>  3.5e+07</td> <td>-1.07e+08</td> <td> 0.000</td> <td>-3.76e+15</td> <td>-3.76e+15</td>\n",
              "</tr>\n",
              "<tr>\n",
              "  <th>Last Activity_Email Bounced</th>                        <td>-4.055e+15</td> <td> 3.59e+07</td> <td>-1.13e+08</td> <td> 0.000</td> <td>-4.05e+15</td> <td>-4.05e+15</td>\n",
              "</tr>\n",
              "<tr>\n",
              "  <th>Last Activity_Email Link Clicked</th>                   <td>-4.217e+15</td> <td> 3.64e+07</td> <td>-1.16e+08</td> <td> 0.000</td> <td>-4.22e+15</td> <td>-4.22e+15</td>\n",
              "</tr>\n",
              "<tr>\n",
              "  <th>Last Activity_Email Marked Spam</th>                    <td>  -19.2592</td> <td> 2.46e-07</td> <td>-7.84e+07</td> <td> 0.000</td> <td>  -19.259</td> <td>  -19.259</td>\n",
              "</tr>\n",
              "<tr>\n",
              "  <th>Last Activity_Email Opened</th>                         <td>  -4.8e+15</td> <td> 3.49e+07</td> <td>-1.38e+08</td> <td> 0.000</td> <td> -4.8e+15</td> <td> -4.8e+15</td>\n",
              "</tr>\n",
              "<tr>\n",
              "  <th>Last Activity_Email Received</th>                       <td>-6.642e+14</td> <td> 7.57e+07</td> <td>-8.78e+06</td> <td> 0.000</td> <td>-6.64e+14</td> <td>-6.64e+14</td>\n",
              "</tr>\n",
              "<tr>\n",
              "  <th>Last Activity_Form Submitted on Website</th>            <td>-3.584e+15</td> <td>  3.6e+07</td> <td>-9.97e+07</td> <td> 0.000</td> <td>-3.58e+15</td> <td>-3.58e+15</td>\n",
              "</tr>\n",
              "<tr>\n",
              "  <th>Last Activity_Had a Phone Conversation</th>             <td> -3.62e+15</td> <td> 4.13e+07</td> <td>-8.77e+07</td> <td> 0.000</td> <td>-3.62e+15</td> <td>-3.62e+15</td>\n",
              "</tr>\n",
              "<tr>\n",
              "  <th>Last Activity_Olark Chat Conversation</th>              <td>-3.578e+15</td> <td>  3.5e+07</td> <td>-1.02e+08</td> <td> 0.000</td> <td>-3.58e+15</td> <td>-3.58e+15</td>\n",
              "</tr>\n",
              "<tr>\n",
              "  <th>Last Activity_Page Visited on Website</th>              <td>-4.028e+15</td> <td> 3.51e+07</td> <td>-1.15e+08</td> <td> 0.000</td> <td>-4.03e+15</td> <td>-4.03e+15</td>\n",
              "</tr>\n",
              "<tr>\n",
              "  <th>Last Activity_SMS Sent</th>                             <td> -4.48e+15</td> <td>  3.5e+07</td> <td>-1.28e+08</td> <td> 0.000</td> <td>-4.48e+15</td> <td>-4.48e+15</td>\n",
              "</tr>\n",
              "<tr>\n",
              "  <th>Last Activity_Unreachable</th>                          <td> -3.42e+15</td> <td> 3.66e+07</td> <td>-9.34e+07</td> <td> 0.000</td> <td>-3.42e+15</td> <td>-3.42e+15</td>\n",
              "</tr>\n",
              "<tr>\n",
              "  <th>Last Activity_Unsubscribed</th>                         <td>-3.542e+15</td> <td> 4.84e+07</td> <td>-7.32e+07</td> <td> 0.000</td> <td>-3.54e+15</td> <td>-3.54e+15</td>\n",
              "</tr>\n",
              "<tr>\n",
              "  <th>Last Activity_View in browser link Clicked</th>         <td>-3.546e+15</td> <td> 5.21e+07</td> <td>-6.81e+07</td> <td> 0.000</td> <td>-3.55e+15</td> <td>-3.55e+15</td>\n",
              "</tr>\n",
              "<tr>\n",
              "  <th>Last Activity_Visited Booth in Tradeshow</th>           <td> -7.34e+15</td> <td> 7.57e+07</td> <td> -9.7e+07</td> <td> 0.000</td> <td>-7.34e+15</td> <td>-7.34e+15</td>\n",
              "</tr>\n",
              "<tr>\n",
              "  <th>What is your current occupation_Other</th>              <td>-1.397e+14</td> <td> 2.58e+07</td> <td>-5.42e+06</td> <td> 0.000</td> <td> -1.4e+14</td> <td> -1.4e+14</td>\n",
              "</tr>\n",
              "<tr>\n",
              "  <th>What is your current occupation_Student</th>            <td>-3.803e+14</td> <td> 7.22e+06</td> <td>-5.27e+07</td> <td> 0.000</td> <td> -3.8e+14</td> <td> -3.8e+14</td>\n",
              "</tr>\n",
              "<tr>\n",
              "  <th>What is your current occupation_Unemployed</th>         <td>-1.153e+15</td> <td> 3.68e+06</td> <td>-3.13e+08</td> <td> 0.000</td> <td>-1.15e+15</td> <td>-1.15e+15</td>\n",
              "</tr>\n",
              "<tr>\n",
              "  <th>A free copy of Mastering The Interview_Yes</th>         <td> -1.09e+12</td> <td> 3.27e+06</td> <td>-3.33e+05</td> <td> 0.000</td> <td>-1.09e+12</td> <td>-1.09e+12</td>\n",
              "</tr>\n",
              "<tr>\n",
              "  <th>Last Notable Activity_Email Bounced</th>                <td>-1.326e+15</td> <td> 3.52e+07</td> <td>-3.77e+07</td> <td> 0.000</td> <td>-1.33e+15</td> <td>-1.33e+15</td>\n",
              "</tr>\n",
              "<tr>\n",
              "  <th>Last Notable Activity_Email Link Clicked</th>           <td>-2.247e+15</td> <td> 3.52e+07</td> <td>-6.38e+07</td> <td> 0.000</td> <td>-2.25e+15</td> <td>-2.25e+15</td>\n",
              "</tr>\n",
              "<tr>\n",
              "  <th>Last Notable Activity_Email Marked Spam</th>            <td>   11.8186</td> <td> 1.79e-07</td> <td> 6.62e+07</td> <td> 0.000</td> <td>   11.819</td> <td>   11.819</td>\n",
              "</tr>\n",
              "<tr>\n",
              "  <th>Last Notable Activity_Email Opened</th>                 <td>-2.075e+15</td> <td> 3.28e+07</td> <td>-6.33e+07</td> <td> 0.000</td> <td>-2.07e+15</td> <td>-2.07e+15</td>\n",
              "</tr>\n",
              "<tr>\n",
              "  <th>Last Notable Activity_Email Received</th>               <td>-6.091e+15</td> <td>    1e+08</td> <td>-6.06e+07</td> <td> 0.000</td> <td>-6.09e+15</td> <td>-6.09e+15</td>\n",
              "</tr>\n",
              "<tr>\n",
              "  <th>Last Notable Activity_Modified</th>                     <td>-2.162e+15</td> <td> 3.26e+07</td> <td>-6.64e+07</td> <td> 0.000</td> <td>-2.16e+15</td> <td>-2.16e+15</td>\n",
              "</tr>\n",
              "<tr>\n",
              "  <th>Last Notable Activity_Olark Chat Conversation</th>      <td>-2.314e+15</td> <td> 3.42e+07</td> <td>-6.76e+07</td> <td> 0.000</td> <td>-2.31e+15</td> <td>-2.31e+15</td>\n",
              "</tr>\n",
              "<tr>\n",
              "  <th>Last Notable Activity_Page Visited on Website</th>      <td>-2.449e+15</td> <td> 3.36e+07</td> <td>-7.29e+07</td> <td> 0.000</td> <td>-2.45e+15</td> <td>-2.45e+15</td>\n",
              "</tr>\n",
              "<tr>\n",
              "  <th>Last Notable Activity_SMS Sent</th>                     <td>-1.691e+15</td> <td>  3.3e+07</td> <td>-5.13e+07</td> <td> 0.000</td> <td>-1.69e+15</td> <td>-1.69e+15</td>\n",
              "</tr>\n",
              "<tr>\n",
              "  <th>Last Notable Activity_Unreachable</th>                  <td>-2.206e+15</td> <td> 4.06e+07</td> <td>-5.44e+07</td> <td> 0.000</td> <td>-2.21e+15</td> <td>-2.21e+15</td>\n",
              "</tr>\n",
              "<tr>\n",
              "  <th>Last Notable Activity_Unsubscribed</th>                 <td> -1.91e+15</td> <td> 4.95e+07</td> <td>-3.86e+07</td> <td> 0.000</td> <td>-1.91e+15</td> <td>-1.91e+15</td>\n",
              "</tr>\n",
              "<tr>\n",
              "  <th>Last Notable Activity_View in browser link Clicked</th> <td>-2.174e+15</td> <td> 8.42e+07</td> <td>-2.58e+07</td> <td> 0.000</td> <td>-2.17e+15</td> <td>-2.17e+15</td>\n",
              "</tr>\n",
              "<tr>\n",
              "  <th>Specialization_Banking, Investment And Insurance</th>   <td> 1.026e+15</td> <td> 6.28e+06</td> <td> 1.63e+08</td> <td> 0.000</td> <td> 1.03e+15</td> <td> 1.03e+15</td>\n",
              "</tr>\n",
              "<tr>\n",
              "  <th>Specialization_Business Administration</th>             <td>  8.45e+14</td> <td> 5.99e+06</td> <td> 1.41e+08</td> <td> 0.000</td> <td> 8.45e+14</td> <td> 8.45e+14</td>\n",
              "</tr>\n",
              "<tr>\n",
              "  <th>Specialization_E-Business</th>                          <td> 4.834e+14</td> <td> 1.35e+07</td> <td> 3.57e+07</td> <td> 0.000</td> <td> 4.83e+14</td> <td> 4.83e+14</td>\n",
              "</tr>\n",
              "<tr>\n",
              "  <th>Specialization_E-COMMERCE</th>                          <td> 1.068e+15</td> <td> 1.02e+07</td> <td> 1.05e+08</td> <td> 0.000</td> <td> 1.07e+15</td> <td> 1.07e+15</td>\n",
              "</tr>\n",
              "<tr>\n",
              "  <th>Specialization_Finance Management</th>                  <td> 7.342e+14</td> <td> 4.77e+06</td> <td> 1.54e+08</td> <td> 0.000</td> <td> 7.34e+14</td> <td> 7.34e+14</td>\n",
              "</tr>\n",
              "<tr>\n",
              "  <th>Specialization_Healthcare Management</th>               <td> 5.734e+14</td> <td> 8.52e+06</td> <td> 6.73e+07</td> <td> 0.000</td> <td> 5.73e+14</td> <td> 5.73e+14</td>\n",
              "</tr>\n",
              "<tr>\n",
              "  <th>Specialization_Hospitality Management</th>              <td> 4.751e+14</td> <td> 1.02e+07</td> <td> 4.66e+07</td> <td> 0.000</td> <td> 4.75e+14</td> <td> 4.75e+14</td>\n",
              "</tr>\n",
              "<tr>\n",
              "  <th>Specialization_Human Resource Management</th>           <td> 6.087e+14</td> <td> 4.76e+06</td> <td> 1.28e+08</td> <td> 0.000</td> <td> 6.09e+14</td> <td> 6.09e+14</td>\n",
              "</tr>\n",
              "<tr>\n",
              "  <th>Specialization_IT Projects Management</th>              <td> 7.891e+14</td> <td> 6.35e+06</td> <td> 1.24e+08</td> <td> 0.000</td> <td> 7.89e+14</td> <td> 7.89e+14</td>\n",
              "</tr>\n",
              "<tr>\n",
              "  <th>Specialization_International Business</th>              <td> 7.255e+14</td> <td> 8.12e+06</td> <td> 8.94e+07</td> <td> 0.000</td> <td> 7.26e+14</td> <td> 7.26e+14</td>\n",
              "</tr>\n",
              "<tr>\n",
              "  <th>Specialization_Marketing Management</th>                <td> 6.679e+14</td> <td> 4.62e+06</td> <td> 1.44e+08</td> <td> 0.000</td> <td> 6.68e+14</td> <td> 6.68e+14</td>\n",
              "</tr>\n",
              "<tr>\n",
              "  <th>Specialization_Media and Advertising</th>               <td> 4.956e+14</td> <td> 7.93e+06</td> <td> 6.25e+07</td> <td> 0.000</td> <td> 4.96e+14</td> <td> 4.96e+14</td>\n",
              "</tr>\n",
              "<tr>\n",
              "  <th>Specialization_Operations Management</th>               <td> 7.716e+14</td> <td> 5.43e+06</td> <td> 1.42e+08</td> <td> 0.000</td> <td> 7.72e+14</td> <td> 7.72e+14</td>\n",
              "</tr>\n",
              "<tr>\n",
              "  <th>Specialization_Retail Management</th>                   <td> 1.046e+15</td> <td> 1.01e+07</td> <td> 1.03e+08</td> <td> 0.000</td> <td> 1.05e+15</td> <td> 1.05e+15</td>\n",
              "</tr>\n",
              "<tr>\n",
              "  <th>Specialization_Rural and Agribusiness</th>              <td> 1.654e+15</td> <td> 1.16e+07</td> <td> 1.43e+08</td> <td> 0.000</td> <td> 1.65e+15</td> <td> 1.65e+15</td>\n",
              "</tr>\n",
              "<tr>\n",
              "  <th>Specialization_Services Excellence</th>                 <td>     4e+14</td> <td> 1.84e+07</td> <td> 2.17e+07</td> <td> 0.000</td> <td>    4e+14</td> <td>    4e+14</td>\n",
              "</tr>\n",
              "<tr>\n",
              "  <th>Specialization_Supply Chain Management</th>             <td> 5.995e+14</td> <td>  6.4e+06</td> <td> 9.37e+07</td> <td> 0.000</td> <td> 5.99e+14</td> <td> 5.99e+14</td>\n",
              "</tr>\n",
              "<tr>\n",
              "  <th>Specialization_Travel and Tourism</th>                  <td> 1.025e+15</td> <td> 7.98e+06</td> <td> 1.28e+08</td> <td> 0.000</td> <td> 1.02e+15</td> <td> 1.02e+15</td>\n",
              "</tr>\n",
              "</table>"
            ]
          },
          "metadata": {},
          "execution_count": 94
        }
      ]
    },
    {
      "cell_type": "code",
      "source": [
        "vif = pd.DataFrame()\n",
        "vif['Features'] = X_train.columns\n",
        "vif['VIF'] = [variance_inflation_factor(X_train.values, i) for i in range(X_train.shape[1])]\n",
        "vif['VIF'] = round(vif['VIF'], 2)\n",
        "vif = vif.sort_values(by = \"VIF\", ascending = False)\n",
        "vif"
      ],
      "metadata": {
        "colab": {
          "base_uri": "https://localhost:8080/",
          "height": 423
        },
        "id": "cv7pTj6nxtQO",
        "outputId": "fd4a7503-e460-4c7e-ff9e-8fd5a46df714"
      },
      "execution_count": null,
      "outputs": [
        {
          "output_type": "execute_result",
          "data": {
            "text/plain": [
              "                                   Features     VIF\n",
              "5                   Lead Origin_Lead Import     inf\n",
              "7                      Lead Source_Facebook     inf\n",
              "25               Last Activity_Email Opened  406.87\n",
              "8                        Lead Source_Google  391.91\n",
              "31                   Last Activity_SMS Sent  357.63\n",
              "..                                      ...     ...\n",
              "9                     Lead Source_Live Chat    1.01\n",
              "15                 Lead Source_Social Media     NaN\n",
              "24          Last Activity_Email Marked Spam     NaN\n",
              "42  Last Notable Activity_Email Marked Spam     NaN\n",
              "44     Last Notable Activity_Email Received     NaN\n",
              "\n",
              "[70 rows x 2 columns]"
            ],
            "text/html": [
              "\n",
              "  <div id=\"df-a39b28bb-913d-4535-9d66-568d0ba66583\">\n",
              "    <div class=\"colab-df-container\">\n",
              "      <div>\n",
              "<style scoped>\n",
              "    .dataframe tbody tr th:only-of-type {\n",
              "        vertical-align: middle;\n",
              "    }\n",
              "\n",
              "    .dataframe tbody tr th {\n",
              "        vertical-align: top;\n",
              "    }\n",
              "\n",
              "    .dataframe thead th {\n",
              "        text-align: right;\n",
              "    }\n",
              "</style>\n",
              "<table border=\"1\" class=\"dataframe\">\n",
              "  <thead>\n",
              "    <tr style=\"text-align: right;\">\n",
              "      <th></th>\n",
              "      <th>Features</th>\n",
              "      <th>VIF</th>\n",
              "    </tr>\n",
              "  </thead>\n",
              "  <tbody>\n",
              "    <tr>\n",
              "      <th>5</th>\n",
              "      <td>Lead Origin_Lead Import</td>\n",
              "      <td>inf</td>\n",
              "    </tr>\n",
              "    <tr>\n",
              "      <th>7</th>\n",
              "      <td>Lead Source_Facebook</td>\n",
              "      <td>inf</td>\n",
              "    </tr>\n",
              "    <tr>\n",
              "      <th>25</th>\n",
              "      <td>Last Activity_Email Opened</td>\n",
              "      <td>406.87</td>\n",
              "    </tr>\n",
              "    <tr>\n",
              "      <th>8</th>\n",
              "      <td>Lead Source_Google</td>\n",
              "      <td>391.91</td>\n",
              "    </tr>\n",
              "    <tr>\n",
              "      <th>31</th>\n",
              "      <td>Last Activity_SMS Sent</td>\n",
              "      <td>357.63</td>\n",
              "    </tr>\n",
              "    <tr>\n",
              "      <th>...</th>\n",
              "      <td>...</td>\n",
              "      <td>...</td>\n",
              "    </tr>\n",
              "    <tr>\n",
              "      <th>9</th>\n",
              "      <td>Lead Source_Live Chat</td>\n",
              "      <td>1.01</td>\n",
              "    </tr>\n",
              "    <tr>\n",
              "      <th>15</th>\n",
              "      <td>Lead Source_Social Media</td>\n",
              "      <td>NaN</td>\n",
              "    </tr>\n",
              "    <tr>\n",
              "      <th>24</th>\n",
              "      <td>Last Activity_Email Marked Spam</td>\n",
              "      <td>NaN</td>\n",
              "    </tr>\n",
              "    <tr>\n",
              "      <th>42</th>\n",
              "      <td>Last Notable Activity_Email Marked Spam</td>\n",
              "      <td>NaN</td>\n",
              "    </tr>\n",
              "    <tr>\n",
              "      <th>44</th>\n",
              "      <td>Last Notable Activity_Email Received</td>\n",
              "      <td>NaN</td>\n",
              "    </tr>\n",
              "  </tbody>\n",
              "</table>\n",
              "<p>70 rows × 2 columns</p>\n",
              "</div>\n",
              "      <button class=\"colab-df-convert\" onclick=\"convertToInteractive('df-a39b28bb-913d-4535-9d66-568d0ba66583')\"\n",
              "              title=\"Convert this dataframe to an interactive table.\"\n",
              "              style=\"display:none;\">\n",
              "        \n",
              "  <svg xmlns=\"http://www.w3.org/2000/svg\" height=\"24px\"viewBox=\"0 0 24 24\"\n",
              "       width=\"24px\">\n",
              "    <path d=\"M0 0h24v24H0V0z\" fill=\"none\"/>\n",
              "    <path d=\"M18.56 5.44l.94 2.06.94-2.06 2.06-.94-2.06-.94-.94-2.06-.94 2.06-2.06.94zm-11 1L8.5 8.5l.94-2.06 2.06-.94-2.06-.94L8.5 2.5l-.94 2.06-2.06.94zm10 10l.94 2.06.94-2.06 2.06-.94-2.06-.94-.94-2.06-.94 2.06-2.06.94z\"/><path d=\"M17.41 7.96l-1.37-1.37c-.4-.4-.92-.59-1.43-.59-.52 0-1.04.2-1.43.59L10.3 9.45l-7.72 7.72c-.78.78-.78 2.05 0 2.83L4 21.41c.39.39.9.59 1.41.59.51 0 1.02-.2 1.41-.59l7.78-7.78 2.81-2.81c.8-.78.8-2.07 0-2.86zM5.41 20L4 18.59l7.72-7.72 1.47 1.35L5.41 20z\"/>\n",
              "  </svg>\n",
              "      </button>\n",
              "      \n",
              "  <style>\n",
              "    .colab-df-container {\n",
              "      display:flex;\n",
              "      flex-wrap:wrap;\n",
              "      gap: 12px;\n",
              "    }\n",
              "\n",
              "    .colab-df-convert {\n",
              "      background-color: #E8F0FE;\n",
              "      border: none;\n",
              "      border-radius: 50%;\n",
              "      cursor: pointer;\n",
              "      display: none;\n",
              "      fill: #1967D2;\n",
              "      height: 32px;\n",
              "      padding: 0 0 0 0;\n",
              "      width: 32px;\n",
              "    }\n",
              "\n",
              "    .colab-df-convert:hover {\n",
              "      background-color: #E2EBFA;\n",
              "      box-shadow: 0px 1px 2px rgba(60, 64, 67, 0.3), 0px 1px 3px 1px rgba(60, 64, 67, 0.15);\n",
              "      fill: #174EA6;\n",
              "    }\n",
              "\n",
              "    [theme=dark] .colab-df-convert {\n",
              "      background-color: #3B4455;\n",
              "      fill: #D2E3FC;\n",
              "    }\n",
              "\n",
              "    [theme=dark] .colab-df-convert:hover {\n",
              "      background-color: #434B5C;\n",
              "      box-shadow: 0px 1px 3px 1px rgba(0, 0, 0, 0.15);\n",
              "      filter: drop-shadow(0px 1px 2px rgba(0, 0, 0, 0.3));\n",
              "      fill: #FFFFFF;\n",
              "    }\n",
              "  </style>\n",
              "\n",
              "      <script>\n",
              "        const buttonEl =\n",
              "          document.querySelector('#df-a39b28bb-913d-4535-9d66-568d0ba66583 button.colab-df-convert');\n",
              "        buttonEl.style.display =\n",
              "          google.colab.kernel.accessAllowed ? 'block' : 'none';\n",
              "\n",
              "        async function convertToInteractive(key) {\n",
              "          const element = document.querySelector('#df-a39b28bb-913d-4535-9d66-568d0ba66583');\n",
              "          const dataTable =\n",
              "            await google.colab.kernel.invokeFunction('convertToInteractive',\n",
              "                                                     [key], {});\n",
              "          if (!dataTable) return;\n",
              "\n",
              "          const docLinkHtml = 'Like what you see? Visit the ' +\n",
              "            '<a target=\"_blank\" href=https://colab.research.google.com/notebooks/data_table.ipynb>data table notebook</a>'\n",
              "            + ' to learn more about interactive tables.';\n",
              "          element.innerHTML = '';\n",
              "          dataTable['output_type'] = 'display_data';\n",
              "          await google.colab.output.renderOutput(dataTable, element);\n",
              "          const docLink = document.createElement('div');\n",
              "          docLink.innerHTML = docLinkHtml;\n",
              "          element.appendChild(docLink);\n",
              "        }\n",
              "      </script>\n",
              "    </div>\n",
              "  </div>\n",
              "  "
            ]
          },
          "metadata": {},
          "execution_count": 194
        }
      ]
    },
    {
      "cell_type": "code",
      "source": [
        "logm1 = sm.GLM(y_train,(sm.add_constant(X_train)), family = sm.families.Binomial())\n",
        "res = logm1.fit()\n",
        "res.summary()"
      ],
      "metadata": {
        "colab": {
          "base_uri": "https://localhost:8080/",
          "height": 1000
        },
        "id": "I-e7qWvPxtU0",
        "outputId": "c91ea36a-ed58-472a-f9fc-7fd1e70b6707"
      },
      "execution_count": null,
      "outputs": [
        {
          "output_type": "execute_result",
          "data": {
            "text/plain": [
              "<class 'statsmodels.iolib.summary.Summary'>\n",
              "\"\"\"\n",
              "                 Generalized Linear Model Regression Results                  \n",
              "==============================================================================\n",
              "Dep. Variable:              Converted   No. Observations:                 3954\n",
              "Model:                            GLM   Df Residuals:                     3886\n",
              "Model Family:                Binomial   Df Model:                           67\n",
              "Link Function:                  logit   Scale:                          1.0000\n",
              "Method:                          IRLS   Log-Likelihood:                    nan\n",
              "Date:                Tue, 03 May 2022   Deviance:                          nan\n",
              "Time:                        17:32:10   Pearson chi2:                 5.35e+18\n",
              "No. Iterations:                   100                                         \n",
              "Covariance Type:            nonrobust                                         \n",
              "======================================================================================================================\n",
              "                                                         coef    std err          z      P>|z|      [0.025      0.975]\n",
              "----------------------------------------------------------------------------------------------------------------------\n",
              "const                                               7.055e+15   5.71e+07   1.24e+08      0.000    7.06e+15    7.06e+15\n",
              "TotalVisits                                         2.158e+15   4.26e+07   5.06e+07      0.000    2.16e+15    2.16e+15\n",
              "Total Time Spent on Website                          2.35e+15   5.04e+06   4.67e+08      0.000    2.35e+15    2.35e+15\n",
              "Page Views Per Visit                               -7.363e+14   1.28e+07  -5.74e+07      0.000   -7.36e+14   -7.36e+14\n",
              "Lead Origin_Landing Page Submission                -6.351e+14   3.98e+06  -1.59e+08      0.000   -6.35e+14   -6.35e+14\n",
              "Lead Origin_Lead Add Form                            5.73e+14   3.89e+07   1.47e+07      0.000    5.73e+14    5.73e+14\n",
              "Lead Origin_Lead Import                              5.39e+15   6.93e+07   7.78e+07      0.000    5.39e+15    5.39e+15\n",
              "Lead Source_Direct Traffic                         -7.867e+14   3.93e+07     -2e+07      0.000   -7.87e+14   -7.87e+14\n",
              "Lead Source_Facebook                               -4.665e+15   7.81e+07  -5.98e+07      0.000   -4.67e+15   -4.67e+15\n",
              "Lead Source_Google                                 -1.035e+15   3.92e+07  -2.64e+07      0.000   -1.04e+15   -1.04e+15\n",
              "Lead Source_Live Chat                               4.199e+15   6.73e+07   6.24e+07      0.000     4.2e+15     4.2e+15\n",
              "Lead Source_Olark Chat                             -6.502e+14   3.91e+07  -1.66e+07      0.000    -6.5e+14    -6.5e+14\n",
              "Lead Source_Organic Search                         -9.714e+14   3.94e+07  -2.47e+07      0.000   -9.71e+14   -9.71e+14\n",
              "Lead Source_Pay per Click Ads                      -3.715e+15   7.79e+07  -4.77e+07      0.000   -3.72e+15   -3.72e+15\n",
              "Lead Source_Press_Release                            -15.2863    5.1e-07     -3e+07      0.000     -15.286     -15.286\n",
              "Lead Source_Referral Sites                         -3.036e+14   4.05e+07   -7.5e+06      0.000   -3.04e+14   -3.04e+14\n",
              "Lead Source_Social Media                           -4.693e+15   7.84e+07  -5.98e+07      0.000   -4.69e+15   -4.69e+15\n",
              "Lead Source_WeLearn                                 4.273e+15   7.79e+07   5.48e+07      0.000    4.27e+15    4.27e+15\n",
              "Lead Source_Welingak Website                        5.231e+14    8.5e+06   6.15e+07      0.000    5.23e+14    5.23e+14\n",
              "Lead Source_bing                                    4.835e+14   6.16e+07   7.84e+06      0.000    4.83e+14    4.83e+14\n",
              "Lead Source_testone                                -4.195e+15    7.8e+07  -5.38e+07      0.000    -4.2e+15    -4.2e+15\n",
              "Do Not Email_Yes                                   -4.396e+14   5.91e+06  -7.43e+07      0.000    -4.4e+14    -4.4e+14\n",
              "Last Activity_Converted to Lead                    -3.756e+15    3.5e+07  -1.07e+08      0.000   -3.76e+15   -3.76e+15\n",
              "Last Activity_Email Bounced                        -4.055e+15   3.59e+07  -1.13e+08      0.000   -4.05e+15   -4.05e+15\n",
              "Last Activity_Email Link Clicked                   -4.217e+15   3.64e+07  -1.16e+08      0.000   -4.22e+15   -4.22e+15\n",
              "Last Activity_Email Marked Spam                      -19.2592   2.46e-07  -7.84e+07      0.000     -19.259     -19.259\n",
              "Last Activity_Email Opened                           -4.8e+15   3.49e+07  -1.38e+08      0.000    -4.8e+15    -4.8e+15\n",
              "Last Activity_Email Received                       -6.642e+14   7.57e+07  -8.78e+06      0.000   -6.64e+14   -6.64e+14\n",
              "Last Activity_Form Submitted on Website            -3.584e+15    3.6e+07  -9.97e+07      0.000   -3.58e+15   -3.58e+15\n",
              "Last Activity_Had a Phone Conversation              -3.62e+15   4.13e+07  -8.77e+07      0.000   -3.62e+15   -3.62e+15\n",
              "Last Activity_Olark Chat Conversation              -3.578e+15    3.5e+07  -1.02e+08      0.000   -3.58e+15   -3.58e+15\n",
              "Last Activity_Page Visited on Website              -4.028e+15   3.51e+07  -1.15e+08      0.000   -4.03e+15   -4.03e+15\n",
              "Last Activity_SMS Sent                              -4.48e+15    3.5e+07  -1.28e+08      0.000   -4.48e+15   -4.48e+15\n",
              "Last Activity_Unreachable                           -3.42e+15   3.66e+07  -9.34e+07      0.000   -3.42e+15   -3.42e+15\n",
              "Last Activity_Unsubscribed                         -3.542e+15   4.84e+07  -7.32e+07      0.000   -3.54e+15   -3.54e+15\n",
              "Last Activity_View in browser link Clicked         -3.546e+15   5.21e+07  -6.81e+07      0.000   -3.55e+15   -3.55e+15\n",
              "Last Activity_Visited Booth in Tradeshow            -7.34e+15   7.57e+07   -9.7e+07      0.000   -7.34e+15   -7.34e+15\n",
              "What is your current occupation_Other              -1.397e+14   2.58e+07  -5.42e+06      0.000    -1.4e+14    -1.4e+14\n",
              "What is your current occupation_Student            -3.803e+14   7.22e+06  -5.27e+07      0.000    -3.8e+14    -3.8e+14\n",
              "What is your current occupation_Unemployed         -1.153e+15   3.68e+06  -3.13e+08      0.000   -1.15e+15   -1.15e+15\n",
              "A free copy of Mastering The Interview_Yes          -1.09e+12   3.27e+06  -3.33e+05      0.000   -1.09e+12   -1.09e+12\n",
              "Last Notable Activity_Email Bounced                -1.326e+15   3.52e+07  -3.77e+07      0.000   -1.33e+15   -1.33e+15\n",
              "Last Notable Activity_Email Link Clicked           -2.247e+15   3.52e+07  -6.38e+07      0.000   -2.25e+15   -2.25e+15\n",
              "Last Notable Activity_Email Marked Spam               11.8186   1.79e-07   6.62e+07      0.000      11.819      11.819\n",
              "Last Notable Activity_Email Opened                 -2.075e+15   3.28e+07  -6.33e+07      0.000   -2.07e+15   -2.07e+15\n",
              "Last Notable Activity_Email Received               -6.091e+15      1e+08  -6.06e+07      0.000   -6.09e+15   -6.09e+15\n",
              "Last Notable Activity_Modified                     -2.162e+15   3.26e+07  -6.64e+07      0.000   -2.16e+15   -2.16e+15\n",
              "Last Notable Activity_Olark Chat Conversation      -2.314e+15   3.42e+07  -6.76e+07      0.000   -2.31e+15   -2.31e+15\n",
              "Last Notable Activity_Page Visited on Website      -2.449e+15   3.36e+07  -7.29e+07      0.000   -2.45e+15   -2.45e+15\n",
              "Last Notable Activity_SMS Sent                     -1.691e+15    3.3e+07  -5.13e+07      0.000   -1.69e+15   -1.69e+15\n",
              "Last Notable Activity_Unreachable                  -2.206e+15   4.06e+07  -5.44e+07      0.000   -2.21e+15   -2.21e+15\n",
              "Last Notable Activity_Unsubscribed                  -1.91e+15   4.95e+07  -3.86e+07      0.000   -1.91e+15   -1.91e+15\n",
              "Last Notable Activity_View in browser link Clicked -2.174e+15   8.42e+07  -2.58e+07      0.000   -2.17e+15   -2.17e+15\n",
              "Specialization_Banking, Investment And Insurance    1.026e+15   6.28e+06   1.63e+08      0.000    1.03e+15    1.03e+15\n",
              "Specialization_Business Administration               8.45e+14   5.99e+06   1.41e+08      0.000    8.45e+14    8.45e+14\n",
              "Specialization_E-Business                           4.834e+14   1.35e+07   3.57e+07      0.000    4.83e+14    4.83e+14\n",
              "Specialization_E-COMMERCE                           1.068e+15   1.02e+07   1.05e+08      0.000    1.07e+15    1.07e+15\n",
              "Specialization_Finance Management                   7.342e+14   4.77e+06   1.54e+08      0.000    7.34e+14    7.34e+14\n",
              "Specialization_Healthcare Management                5.734e+14   8.52e+06   6.73e+07      0.000    5.73e+14    5.73e+14\n",
              "Specialization_Hospitality Management               4.751e+14   1.02e+07   4.66e+07      0.000    4.75e+14    4.75e+14\n",
              "Specialization_Human Resource Management            6.087e+14   4.76e+06   1.28e+08      0.000    6.09e+14    6.09e+14\n",
              "Specialization_IT Projects Management               7.891e+14   6.35e+06   1.24e+08      0.000    7.89e+14    7.89e+14\n",
              "Specialization_International Business               7.255e+14   8.12e+06   8.94e+07      0.000    7.26e+14    7.26e+14\n",
              "Specialization_Marketing Management                 6.679e+14   4.62e+06   1.44e+08      0.000    6.68e+14    6.68e+14\n",
              "Specialization_Media and Advertising                4.956e+14   7.93e+06   6.25e+07      0.000    4.96e+14    4.96e+14\n",
              "Specialization_Operations Management                7.716e+14   5.43e+06   1.42e+08      0.000    7.72e+14    7.72e+14\n",
              "Specialization_Retail Management                    1.046e+15   1.01e+07   1.03e+08      0.000    1.05e+15    1.05e+15\n",
              "Specialization_Rural and Agribusiness               1.654e+15   1.16e+07   1.43e+08      0.000    1.65e+15    1.65e+15\n",
              "Specialization_Services Excellence                      4e+14   1.84e+07   2.17e+07      0.000       4e+14       4e+14\n",
              "Specialization_Supply Chain Management              5.995e+14    6.4e+06   9.37e+07      0.000    5.99e+14    5.99e+14\n",
              "Specialization_Travel and Tourism                   1.025e+15   7.98e+06   1.28e+08      0.000    1.02e+15    1.02e+15\n",
              "======================================================================================================================\n",
              "\"\"\""
            ],
            "text/html": [
              "<table class=\"simpletable\">\n",
              "<caption>Generalized Linear Model Regression Results</caption>\n",
              "<tr>\n",
              "  <th>Dep. Variable:</th>       <td>Converted</td>    <th>  No. Observations:  </th>  <td>  3954</td> \n",
              "</tr>\n",
              "<tr>\n",
              "  <th>Model:</th>                  <td>GLM</td>       <th>  Df Residuals:      </th>  <td>  3886</td> \n",
              "</tr>\n",
              "<tr>\n",
              "  <th>Model Family:</th>        <td>Binomial</td>     <th>  Df Model:          </th>  <td>    67</td> \n",
              "</tr>\n",
              "<tr>\n",
              "  <th>Link Function:</th>         <td>logit</td>      <th>  Scale:             </th> <td>  1.0000</td>\n",
              "</tr>\n",
              "<tr>\n",
              "  <th>Method:</th>                <td>IRLS</td>       <th>  Log-Likelihood:    </th> <td>     nan</td>\n",
              "</tr>\n",
              "<tr>\n",
              "  <th>Date:</th>            <td>Tue, 03 May 2022</td> <th>  Deviance:          </th> <td>     nan</td>\n",
              "</tr>\n",
              "<tr>\n",
              "  <th>Time:</th>                <td>17:32:10</td>     <th>  Pearson chi2:      </th> <td>5.35e+18</td>\n",
              "</tr>\n",
              "<tr>\n",
              "  <th>No. Iterations:</th>         <td>100</td>       <th>                     </th>     <td> </td>   \n",
              "</tr>\n",
              "<tr>\n",
              "  <th>Covariance Type:</th>     <td>nonrobust</td>    <th>                     </th>     <td> </td>   \n",
              "</tr>\n",
              "</table>\n",
              "<table class=\"simpletable\">\n",
              "<tr>\n",
              "                           <td></td>                             <th>coef</th>     <th>std err</th>      <th>z</th>      <th>P>|z|</th>  <th>[0.025</th>    <th>0.975]</th>  \n",
              "</tr>\n",
              "<tr>\n",
              "  <th>const</th>                                              <td> 7.055e+15</td> <td> 5.71e+07</td> <td> 1.24e+08</td> <td> 0.000</td> <td> 7.06e+15</td> <td> 7.06e+15</td>\n",
              "</tr>\n",
              "<tr>\n",
              "  <th>TotalVisits</th>                                        <td> 2.158e+15</td> <td> 4.26e+07</td> <td> 5.06e+07</td> <td> 0.000</td> <td> 2.16e+15</td> <td> 2.16e+15</td>\n",
              "</tr>\n",
              "<tr>\n",
              "  <th>Total Time Spent on Website</th>                        <td>  2.35e+15</td> <td> 5.04e+06</td> <td> 4.67e+08</td> <td> 0.000</td> <td> 2.35e+15</td> <td> 2.35e+15</td>\n",
              "</tr>\n",
              "<tr>\n",
              "  <th>Page Views Per Visit</th>                               <td>-7.363e+14</td> <td> 1.28e+07</td> <td>-5.74e+07</td> <td> 0.000</td> <td>-7.36e+14</td> <td>-7.36e+14</td>\n",
              "</tr>\n",
              "<tr>\n",
              "  <th>Lead Origin_Landing Page Submission</th>                <td>-6.351e+14</td> <td> 3.98e+06</td> <td>-1.59e+08</td> <td> 0.000</td> <td>-6.35e+14</td> <td>-6.35e+14</td>\n",
              "</tr>\n",
              "<tr>\n",
              "  <th>Lead Origin_Lead Add Form</th>                          <td>  5.73e+14</td> <td> 3.89e+07</td> <td> 1.47e+07</td> <td> 0.000</td> <td> 5.73e+14</td> <td> 5.73e+14</td>\n",
              "</tr>\n",
              "<tr>\n",
              "  <th>Lead Origin_Lead Import</th>                            <td>  5.39e+15</td> <td> 6.93e+07</td> <td> 7.78e+07</td> <td> 0.000</td> <td> 5.39e+15</td> <td> 5.39e+15</td>\n",
              "</tr>\n",
              "<tr>\n",
              "  <th>Lead Source_Direct Traffic</th>                         <td>-7.867e+14</td> <td> 3.93e+07</td> <td>   -2e+07</td> <td> 0.000</td> <td>-7.87e+14</td> <td>-7.87e+14</td>\n",
              "</tr>\n",
              "<tr>\n",
              "  <th>Lead Source_Facebook</th>                               <td>-4.665e+15</td> <td> 7.81e+07</td> <td>-5.98e+07</td> <td> 0.000</td> <td>-4.67e+15</td> <td>-4.67e+15</td>\n",
              "</tr>\n",
              "<tr>\n",
              "  <th>Lead Source_Google</th>                                 <td>-1.035e+15</td> <td> 3.92e+07</td> <td>-2.64e+07</td> <td> 0.000</td> <td>-1.04e+15</td> <td>-1.04e+15</td>\n",
              "</tr>\n",
              "<tr>\n",
              "  <th>Lead Source_Live Chat</th>                              <td> 4.199e+15</td> <td> 6.73e+07</td> <td> 6.24e+07</td> <td> 0.000</td> <td>  4.2e+15</td> <td>  4.2e+15</td>\n",
              "</tr>\n",
              "<tr>\n",
              "  <th>Lead Source_Olark Chat</th>                             <td>-6.502e+14</td> <td> 3.91e+07</td> <td>-1.66e+07</td> <td> 0.000</td> <td> -6.5e+14</td> <td> -6.5e+14</td>\n",
              "</tr>\n",
              "<tr>\n",
              "  <th>Lead Source_Organic Search</th>                         <td>-9.714e+14</td> <td> 3.94e+07</td> <td>-2.47e+07</td> <td> 0.000</td> <td>-9.71e+14</td> <td>-9.71e+14</td>\n",
              "</tr>\n",
              "<tr>\n",
              "  <th>Lead Source_Pay per Click Ads</th>                      <td>-3.715e+15</td> <td> 7.79e+07</td> <td>-4.77e+07</td> <td> 0.000</td> <td>-3.72e+15</td> <td>-3.72e+15</td>\n",
              "</tr>\n",
              "<tr>\n",
              "  <th>Lead Source_Press_Release</th>                          <td>  -15.2863</td> <td>  5.1e-07</td> <td>   -3e+07</td> <td> 0.000</td> <td>  -15.286</td> <td>  -15.286</td>\n",
              "</tr>\n",
              "<tr>\n",
              "  <th>Lead Source_Referral Sites</th>                         <td>-3.036e+14</td> <td> 4.05e+07</td> <td> -7.5e+06</td> <td> 0.000</td> <td>-3.04e+14</td> <td>-3.04e+14</td>\n",
              "</tr>\n",
              "<tr>\n",
              "  <th>Lead Source_Social Media</th>                           <td>-4.693e+15</td> <td> 7.84e+07</td> <td>-5.98e+07</td> <td> 0.000</td> <td>-4.69e+15</td> <td>-4.69e+15</td>\n",
              "</tr>\n",
              "<tr>\n",
              "  <th>Lead Source_WeLearn</th>                                <td> 4.273e+15</td> <td> 7.79e+07</td> <td> 5.48e+07</td> <td> 0.000</td> <td> 4.27e+15</td> <td> 4.27e+15</td>\n",
              "</tr>\n",
              "<tr>\n",
              "  <th>Lead Source_Welingak Website</th>                       <td> 5.231e+14</td> <td>  8.5e+06</td> <td> 6.15e+07</td> <td> 0.000</td> <td> 5.23e+14</td> <td> 5.23e+14</td>\n",
              "</tr>\n",
              "<tr>\n",
              "  <th>Lead Source_bing</th>                                   <td> 4.835e+14</td> <td> 6.16e+07</td> <td> 7.84e+06</td> <td> 0.000</td> <td> 4.83e+14</td> <td> 4.83e+14</td>\n",
              "</tr>\n",
              "<tr>\n",
              "  <th>Lead Source_testone</th>                                <td>-4.195e+15</td> <td>  7.8e+07</td> <td>-5.38e+07</td> <td> 0.000</td> <td> -4.2e+15</td> <td> -4.2e+15</td>\n",
              "</tr>\n",
              "<tr>\n",
              "  <th>Do Not Email_Yes</th>                                   <td>-4.396e+14</td> <td> 5.91e+06</td> <td>-7.43e+07</td> <td> 0.000</td> <td> -4.4e+14</td> <td> -4.4e+14</td>\n",
              "</tr>\n",
              "<tr>\n",
              "  <th>Last Activity_Converted to Lead</th>                    <td>-3.756e+15</td> <td>  3.5e+07</td> <td>-1.07e+08</td> <td> 0.000</td> <td>-3.76e+15</td> <td>-3.76e+15</td>\n",
              "</tr>\n",
              "<tr>\n",
              "  <th>Last Activity_Email Bounced</th>                        <td>-4.055e+15</td> <td> 3.59e+07</td> <td>-1.13e+08</td> <td> 0.000</td> <td>-4.05e+15</td> <td>-4.05e+15</td>\n",
              "</tr>\n",
              "<tr>\n",
              "  <th>Last Activity_Email Link Clicked</th>                   <td>-4.217e+15</td> <td> 3.64e+07</td> <td>-1.16e+08</td> <td> 0.000</td> <td>-4.22e+15</td> <td>-4.22e+15</td>\n",
              "</tr>\n",
              "<tr>\n",
              "  <th>Last Activity_Email Marked Spam</th>                    <td>  -19.2592</td> <td> 2.46e-07</td> <td>-7.84e+07</td> <td> 0.000</td> <td>  -19.259</td> <td>  -19.259</td>\n",
              "</tr>\n",
              "<tr>\n",
              "  <th>Last Activity_Email Opened</th>                         <td>  -4.8e+15</td> <td> 3.49e+07</td> <td>-1.38e+08</td> <td> 0.000</td> <td> -4.8e+15</td> <td> -4.8e+15</td>\n",
              "</tr>\n",
              "<tr>\n",
              "  <th>Last Activity_Email Received</th>                       <td>-6.642e+14</td> <td> 7.57e+07</td> <td>-8.78e+06</td> <td> 0.000</td> <td>-6.64e+14</td> <td>-6.64e+14</td>\n",
              "</tr>\n",
              "<tr>\n",
              "  <th>Last Activity_Form Submitted on Website</th>            <td>-3.584e+15</td> <td>  3.6e+07</td> <td>-9.97e+07</td> <td> 0.000</td> <td>-3.58e+15</td> <td>-3.58e+15</td>\n",
              "</tr>\n",
              "<tr>\n",
              "  <th>Last Activity_Had a Phone Conversation</th>             <td> -3.62e+15</td> <td> 4.13e+07</td> <td>-8.77e+07</td> <td> 0.000</td> <td>-3.62e+15</td> <td>-3.62e+15</td>\n",
              "</tr>\n",
              "<tr>\n",
              "  <th>Last Activity_Olark Chat Conversation</th>              <td>-3.578e+15</td> <td>  3.5e+07</td> <td>-1.02e+08</td> <td> 0.000</td> <td>-3.58e+15</td> <td>-3.58e+15</td>\n",
              "</tr>\n",
              "<tr>\n",
              "  <th>Last Activity_Page Visited on Website</th>              <td>-4.028e+15</td> <td> 3.51e+07</td> <td>-1.15e+08</td> <td> 0.000</td> <td>-4.03e+15</td> <td>-4.03e+15</td>\n",
              "</tr>\n",
              "<tr>\n",
              "  <th>Last Activity_SMS Sent</th>                             <td> -4.48e+15</td> <td>  3.5e+07</td> <td>-1.28e+08</td> <td> 0.000</td> <td>-4.48e+15</td> <td>-4.48e+15</td>\n",
              "</tr>\n",
              "<tr>\n",
              "  <th>Last Activity_Unreachable</th>                          <td> -3.42e+15</td> <td> 3.66e+07</td> <td>-9.34e+07</td> <td> 0.000</td> <td>-3.42e+15</td> <td>-3.42e+15</td>\n",
              "</tr>\n",
              "<tr>\n",
              "  <th>Last Activity_Unsubscribed</th>                         <td>-3.542e+15</td> <td> 4.84e+07</td> <td>-7.32e+07</td> <td> 0.000</td> <td>-3.54e+15</td> <td>-3.54e+15</td>\n",
              "</tr>\n",
              "<tr>\n",
              "  <th>Last Activity_View in browser link Clicked</th>         <td>-3.546e+15</td> <td> 5.21e+07</td> <td>-6.81e+07</td> <td> 0.000</td> <td>-3.55e+15</td> <td>-3.55e+15</td>\n",
              "</tr>\n",
              "<tr>\n",
              "  <th>Last Activity_Visited Booth in Tradeshow</th>           <td> -7.34e+15</td> <td> 7.57e+07</td> <td> -9.7e+07</td> <td> 0.000</td> <td>-7.34e+15</td> <td>-7.34e+15</td>\n",
              "</tr>\n",
              "<tr>\n",
              "  <th>What is your current occupation_Other</th>              <td>-1.397e+14</td> <td> 2.58e+07</td> <td>-5.42e+06</td> <td> 0.000</td> <td> -1.4e+14</td> <td> -1.4e+14</td>\n",
              "</tr>\n",
              "<tr>\n",
              "  <th>What is your current occupation_Student</th>            <td>-3.803e+14</td> <td> 7.22e+06</td> <td>-5.27e+07</td> <td> 0.000</td> <td> -3.8e+14</td> <td> -3.8e+14</td>\n",
              "</tr>\n",
              "<tr>\n",
              "  <th>What is your current occupation_Unemployed</th>         <td>-1.153e+15</td> <td> 3.68e+06</td> <td>-3.13e+08</td> <td> 0.000</td> <td>-1.15e+15</td> <td>-1.15e+15</td>\n",
              "</tr>\n",
              "<tr>\n",
              "  <th>A free copy of Mastering The Interview_Yes</th>         <td> -1.09e+12</td> <td> 3.27e+06</td> <td>-3.33e+05</td> <td> 0.000</td> <td>-1.09e+12</td> <td>-1.09e+12</td>\n",
              "</tr>\n",
              "<tr>\n",
              "  <th>Last Notable Activity_Email Bounced</th>                <td>-1.326e+15</td> <td> 3.52e+07</td> <td>-3.77e+07</td> <td> 0.000</td> <td>-1.33e+15</td> <td>-1.33e+15</td>\n",
              "</tr>\n",
              "<tr>\n",
              "  <th>Last Notable Activity_Email Link Clicked</th>           <td>-2.247e+15</td> <td> 3.52e+07</td> <td>-6.38e+07</td> <td> 0.000</td> <td>-2.25e+15</td> <td>-2.25e+15</td>\n",
              "</tr>\n",
              "<tr>\n",
              "  <th>Last Notable Activity_Email Marked Spam</th>            <td>   11.8186</td> <td> 1.79e-07</td> <td> 6.62e+07</td> <td> 0.000</td> <td>   11.819</td> <td>   11.819</td>\n",
              "</tr>\n",
              "<tr>\n",
              "  <th>Last Notable Activity_Email Opened</th>                 <td>-2.075e+15</td> <td> 3.28e+07</td> <td>-6.33e+07</td> <td> 0.000</td> <td>-2.07e+15</td> <td>-2.07e+15</td>\n",
              "</tr>\n",
              "<tr>\n",
              "  <th>Last Notable Activity_Email Received</th>               <td>-6.091e+15</td> <td>    1e+08</td> <td>-6.06e+07</td> <td> 0.000</td> <td>-6.09e+15</td> <td>-6.09e+15</td>\n",
              "</tr>\n",
              "<tr>\n",
              "  <th>Last Notable Activity_Modified</th>                     <td>-2.162e+15</td> <td> 3.26e+07</td> <td>-6.64e+07</td> <td> 0.000</td> <td>-2.16e+15</td> <td>-2.16e+15</td>\n",
              "</tr>\n",
              "<tr>\n",
              "  <th>Last Notable Activity_Olark Chat Conversation</th>      <td>-2.314e+15</td> <td> 3.42e+07</td> <td>-6.76e+07</td> <td> 0.000</td> <td>-2.31e+15</td> <td>-2.31e+15</td>\n",
              "</tr>\n",
              "<tr>\n",
              "  <th>Last Notable Activity_Page Visited on Website</th>      <td>-2.449e+15</td> <td> 3.36e+07</td> <td>-7.29e+07</td> <td> 0.000</td> <td>-2.45e+15</td> <td>-2.45e+15</td>\n",
              "</tr>\n",
              "<tr>\n",
              "  <th>Last Notable Activity_SMS Sent</th>                     <td>-1.691e+15</td> <td>  3.3e+07</td> <td>-5.13e+07</td> <td> 0.000</td> <td>-1.69e+15</td> <td>-1.69e+15</td>\n",
              "</tr>\n",
              "<tr>\n",
              "  <th>Last Notable Activity_Unreachable</th>                  <td>-2.206e+15</td> <td> 4.06e+07</td> <td>-5.44e+07</td> <td> 0.000</td> <td>-2.21e+15</td> <td>-2.21e+15</td>\n",
              "</tr>\n",
              "<tr>\n",
              "  <th>Last Notable Activity_Unsubscribed</th>                 <td> -1.91e+15</td> <td> 4.95e+07</td> <td>-3.86e+07</td> <td> 0.000</td> <td>-1.91e+15</td> <td>-1.91e+15</td>\n",
              "</tr>\n",
              "<tr>\n",
              "  <th>Last Notable Activity_View in browser link Clicked</th> <td>-2.174e+15</td> <td> 8.42e+07</td> <td>-2.58e+07</td> <td> 0.000</td> <td>-2.17e+15</td> <td>-2.17e+15</td>\n",
              "</tr>\n",
              "<tr>\n",
              "  <th>Specialization_Banking, Investment And Insurance</th>   <td> 1.026e+15</td> <td> 6.28e+06</td> <td> 1.63e+08</td> <td> 0.000</td> <td> 1.03e+15</td> <td> 1.03e+15</td>\n",
              "</tr>\n",
              "<tr>\n",
              "  <th>Specialization_Business Administration</th>             <td>  8.45e+14</td> <td> 5.99e+06</td> <td> 1.41e+08</td> <td> 0.000</td> <td> 8.45e+14</td> <td> 8.45e+14</td>\n",
              "</tr>\n",
              "<tr>\n",
              "  <th>Specialization_E-Business</th>                          <td> 4.834e+14</td> <td> 1.35e+07</td> <td> 3.57e+07</td> <td> 0.000</td> <td> 4.83e+14</td> <td> 4.83e+14</td>\n",
              "</tr>\n",
              "<tr>\n",
              "  <th>Specialization_E-COMMERCE</th>                          <td> 1.068e+15</td> <td> 1.02e+07</td> <td> 1.05e+08</td> <td> 0.000</td> <td> 1.07e+15</td> <td> 1.07e+15</td>\n",
              "</tr>\n",
              "<tr>\n",
              "  <th>Specialization_Finance Management</th>                  <td> 7.342e+14</td> <td> 4.77e+06</td> <td> 1.54e+08</td> <td> 0.000</td> <td> 7.34e+14</td> <td> 7.34e+14</td>\n",
              "</tr>\n",
              "<tr>\n",
              "  <th>Specialization_Healthcare Management</th>               <td> 5.734e+14</td> <td> 8.52e+06</td> <td> 6.73e+07</td> <td> 0.000</td> <td> 5.73e+14</td> <td> 5.73e+14</td>\n",
              "</tr>\n",
              "<tr>\n",
              "  <th>Specialization_Hospitality Management</th>              <td> 4.751e+14</td> <td> 1.02e+07</td> <td> 4.66e+07</td> <td> 0.000</td> <td> 4.75e+14</td> <td> 4.75e+14</td>\n",
              "</tr>\n",
              "<tr>\n",
              "  <th>Specialization_Human Resource Management</th>           <td> 6.087e+14</td> <td> 4.76e+06</td> <td> 1.28e+08</td> <td> 0.000</td> <td> 6.09e+14</td> <td> 6.09e+14</td>\n",
              "</tr>\n",
              "<tr>\n",
              "  <th>Specialization_IT Projects Management</th>              <td> 7.891e+14</td> <td> 6.35e+06</td> <td> 1.24e+08</td> <td> 0.000</td> <td> 7.89e+14</td> <td> 7.89e+14</td>\n",
              "</tr>\n",
              "<tr>\n",
              "  <th>Specialization_International Business</th>              <td> 7.255e+14</td> <td> 8.12e+06</td> <td> 8.94e+07</td> <td> 0.000</td> <td> 7.26e+14</td> <td> 7.26e+14</td>\n",
              "</tr>\n",
              "<tr>\n",
              "  <th>Specialization_Marketing Management</th>                <td> 6.679e+14</td> <td> 4.62e+06</td> <td> 1.44e+08</td> <td> 0.000</td> <td> 6.68e+14</td> <td> 6.68e+14</td>\n",
              "</tr>\n",
              "<tr>\n",
              "  <th>Specialization_Media and Advertising</th>               <td> 4.956e+14</td> <td> 7.93e+06</td> <td> 6.25e+07</td> <td> 0.000</td> <td> 4.96e+14</td> <td> 4.96e+14</td>\n",
              "</tr>\n",
              "<tr>\n",
              "  <th>Specialization_Operations Management</th>               <td> 7.716e+14</td> <td> 5.43e+06</td> <td> 1.42e+08</td> <td> 0.000</td> <td> 7.72e+14</td> <td> 7.72e+14</td>\n",
              "</tr>\n",
              "<tr>\n",
              "  <th>Specialization_Retail Management</th>                   <td> 1.046e+15</td> <td> 1.01e+07</td> <td> 1.03e+08</td> <td> 0.000</td> <td> 1.05e+15</td> <td> 1.05e+15</td>\n",
              "</tr>\n",
              "<tr>\n",
              "  <th>Specialization_Rural and Agribusiness</th>              <td> 1.654e+15</td> <td> 1.16e+07</td> <td> 1.43e+08</td> <td> 0.000</td> <td> 1.65e+15</td> <td> 1.65e+15</td>\n",
              "</tr>\n",
              "<tr>\n",
              "  <th>Specialization_Services Excellence</th>                 <td>     4e+14</td> <td> 1.84e+07</td> <td> 2.17e+07</td> <td> 0.000</td> <td>    4e+14</td> <td>    4e+14</td>\n",
              "</tr>\n",
              "<tr>\n",
              "  <th>Specialization_Supply Chain Management</th>             <td> 5.995e+14</td> <td>  6.4e+06</td> <td> 9.37e+07</td> <td> 0.000</td> <td> 5.99e+14</td> <td> 5.99e+14</td>\n",
              "</tr>\n",
              "<tr>\n",
              "  <th>Specialization_Travel and Tourism</th>                  <td> 1.025e+15</td> <td> 7.98e+06</td> <td> 1.28e+08</td> <td> 0.000</td> <td> 1.02e+15</td> <td> 1.02e+15</td>\n",
              "</tr>\n",
              "</table>"
            ]
          },
          "metadata": {},
          "execution_count": 95
        }
      ]
    },
    {
      "cell_type": "markdown",
      "source": [
        "Model Evaluation"
      ],
      "metadata": {
        "id": "xMhOrlh1_Zoe"
      }
    },
    {
      "cell_type": "code",
      "source": [
        "y_train_pred = res.predict(sm.add_constant(X_train))\n",
        "y_train_pred[:10]"
      ],
      "metadata": {
        "colab": {
          "base_uri": "https://localhost:8080/"
        },
        "id": "pCVc55zmxtZb",
        "outputId": "2558bc27-8d6e-41d3-d046-8f127dc6e798"
      },
      "execution_count": null,
      "outputs": [
        {
          "output_type": "execute_result",
          "data": {
            "text/plain": [
              "6384    1.0\n",
              "2108    0.0\n",
              "1502    1.0\n",
              "3801    0.0\n",
              "1985    1.0\n",
              "3057    0.0\n",
              "7127    1.0\n",
              "2820    0.0\n",
              "7317    0.0\n",
              "6792    1.0\n",
              "dtype: float64"
            ]
          },
          "metadata": {},
          "execution_count": 96
        }
      ]
    },
    {
      "cell_type": "code",
      "source": [
        "y_train_pred = y_train_pred.values.reshape(-1)\n",
        "y_train_pred[:10]"
      ],
      "metadata": {
        "colab": {
          "base_uri": "https://localhost:8080/"
        },
        "id": "xzj3yikixtel",
        "outputId": "43c5d0a7-e82e-4962-8dcb-decd0e384ff0"
      },
      "execution_count": null,
      "outputs": [
        {
          "output_type": "execute_result",
          "data": {
            "text/plain": [
              "array([1., 0., 1., 0., 1., 0., 1., 0., 0., 1.])"
            ]
          },
          "metadata": {},
          "execution_count": 97
        }
      ]
    },
    {
      "cell_type": "code",
      "source": [
        "y_train_pred_final = pd.DataFrame({'Converted':y_train.values, 'Conversion_Prob':y_train_pred})\n",
        "y_train_pred_final.head()"
      ],
      "metadata": {
        "id": "xGn1pMYrE7Nf",
        "colab": {
          "base_uri": "https://localhost:8080/",
          "height": 206
        },
        "outputId": "1f532fe8-58a0-4b1c-a7e0-a6b25f783a95"
      },
      "execution_count": 121,
      "outputs": [
        {
          "output_type": "execute_result",
          "data": {
            "text/plain": [
              "   Converted  Conversion_Prob\n",
              "0          1              1.0\n",
              "1          1              0.0\n",
              "2          1              1.0\n",
              "3          1              0.0\n",
              "4          0              1.0"
            ],
            "text/html": [
              "\n",
              "  <div id=\"df-547e3cad-a455-4f09-a448-0757ae64047b\">\n",
              "    <div class=\"colab-df-container\">\n",
              "      <div>\n",
              "<style scoped>\n",
              "    .dataframe tbody tr th:only-of-type {\n",
              "        vertical-align: middle;\n",
              "    }\n",
              "\n",
              "    .dataframe tbody tr th {\n",
              "        vertical-align: top;\n",
              "    }\n",
              "\n",
              "    .dataframe thead th {\n",
              "        text-align: right;\n",
              "    }\n",
              "</style>\n",
              "<table border=\"1\" class=\"dataframe\">\n",
              "  <thead>\n",
              "    <tr style=\"text-align: right;\">\n",
              "      <th></th>\n",
              "      <th>Converted</th>\n",
              "      <th>Conversion_Prob</th>\n",
              "    </tr>\n",
              "  </thead>\n",
              "  <tbody>\n",
              "    <tr>\n",
              "      <th>0</th>\n",
              "      <td>1</td>\n",
              "      <td>1.0</td>\n",
              "    </tr>\n",
              "    <tr>\n",
              "      <th>1</th>\n",
              "      <td>1</td>\n",
              "      <td>0.0</td>\n",
              "    </tr>\n",
              "    <tr>\n",
              "      <th>2</th>\n",
              "      <td>1</td>\n",
              "      <td>1.0</td>\n",
              "    </tr>\n",
              "    <tr>\n",
              "      <th>3</th>\n",
              "      <td>1</td>\n",
              "      <td>0.0</td>\n",
              "    </tr>\n",
              "    <tr>\n",
              "      <th>4</th>\n",
              "      <td>0</td>\n",
              "      <td>1.0</td>\n",
              "    </tr>\n",
              "  </tbody>\n",
              "</table>\n",
              "</div>\n",
              "      <button class=\"colab-df-convert\" onclick=\"convertToInteractive('df-547e3cad-a455-4f09-a448-0757ae64047b')\"\n",
              "              title=\"Convert this dataframe to an interactive table.\"\n",
              "              style=\"display:none;\">\n",
              "        \n",
              "  <svg xmlns=\"http://www.w3.org/2000/svg\" height=\"24px\"viewBox=\"0 0 24 24\"\n",
              "       width=\"24px\">\n",
              "    <path d=\"M0 0h24v24H0V0z\" fill=\"none\"/>\n",
              "    <path d=\"M18.56 5.44l.94 2.06.94-2.06 2.06-.94-2.06-.94-.94-2.06-.94 2.06-2.06.94zm-11 1L8.5 8.5l.94-2.06 2.06-.94-2.06-.94L8.5 2.5l-.94 2.06-2.06.94zm10 10l.94 2.06.94-2.06 2.06-.94-2.06-.94-.94-2.06-.94 2.06-2.06.94z\"/><path d=\"M17.41 7.96l-1.37-1.37c-.4-.4-.92-.59-1.43-.59-.52 0-1.04.2-1.43.59L10.3 9.45l-7.72 7.72c-.78.78-.78 2.05 0 2.83L4 21.41c.39.39.9.59 1.41.59.51 0 1.02-.2 1.41-.59l7.78-7.78 2.81-2.81c.8-.78.8-2.07 0-2.86zM5.41 20L4 18.59l7.72-7.72 1.47 1.35L5.41 20z\"/>\n",
              "  </svg>\n",
              "      </button>\n",
              "      \n",
              "  <style>\n",
              "    .colab-df-container {\n",
              "      display:flex;\n",
              "      flex-wrap:wrap;\n",
              "      gap: 12px;\n",
              "    }\n",
              "\n",
              "    .colab-df-convert {\n",
              "      background-color: #E8F0FE;\n",
              "      border: none;\n",
              "      border-radius: 50%;\n",
              "      cursor: pointer;\n",
              "      display: none;\n",
              "      fill: #1967D2;\n",
              "      height: 32px;\n",
              "      padding: 0 0 0 0;\n",
              "      width: 32px;\n",
              "    }\n",
              "\n",
              "    .colab-df-convert:hover {\n",
              "      background-color: #E2EBFA;\n",
              "      box-shadow: 0px 1px 2px rgba(60, 64, 67, 0.3), 0px 1px 3px 1px rgba(60, 64, 67, 0.15);\n",
              "      fill: #174EA6;\n",
              "    }\n",
              "\n",
              "    [theme=dark] .colab-df-convert {\n",
              "      background-color: #3B4455;\n",
              "      fill: #D2E3FC;\n",
              "    }\n",
              "\n",
              "    [theme=dark] .colab-df-convert:hover {\n",
              "      background-color: #434B5C;\n",
              "      box-shadow: 0px 1px 3px 1px rgba(0, 0, 0, 0.15);\n",
              "      filter: drop-shadow(0px 1px 2px rgba(0, 0, 0, 0.3));\n",
              "      fill: #FFFFFF;\n",
              "    }\n",
              "  </style>\n",
              "\n",
              "      <script>\n",
              "        const buttonEl =\n",
              "          document.querySelector('#df-547e3cad-a455-4f09-a448-0757ae64047b button.colab-df-convert');\n",
              "        buttonEl.style.display =\n",
              "          google.colab.kernel.accessAllowed ? 'block' : 'none';\n",
              "\n",
              "        async function convertToInteractive(key) {\n",
              "          const element = document.querySelector('#df-547e3cad-a455-4f09-a448-0757ae64047b');\n",
              "          const dataTable =\n",
              "            await google.colab.kernel.invokeFunction('convertToInteractive',\n",
              "                                                     [key], {});\n",
              "          if (!dataTable) return;\n",
              "\n",
              "          const docLinkHtml = 'Like what you see? Visit the ' +\n",
              "            '<a target=\"_blank\" href=https://colab.research.google.com/notebooks/data_table.ipynb>data table notebook</a>'\n",
              "            + ' to learn more about interactive tables.';\n",
              "          element.innerHTML = '';\n",
              "          dataTable['output_type'] = 'display_data';\n",
              "          await google.colab.output.renderOutput(dataTable, element);\n",
              "          const docLink = document.createElement('div');\n",
              "          docLink.innerHTML = docLinkHtml;\n",
              "          element.appendChild(docLink);\n",
              "        }\n",
              "      </script>\n",
              "    </div>\n",
              "  </div>\n",
              "  "
            ]
          },
          "metadata": {},
          "execution_count": 121
        }
      ]
    },
    {
      "cell_type": "code",
      "source": [
        ""
      ],
      "metadata": {
        "id": "znFhTkIjFoOP"
      },
      "execution_count": null,
      "outputs": []
    }
  ],
  "metadata": {
    "colab": {
      "collapsed_sections": [],
      "name": "Logistic Regression On leads.ipynb",
      "provenance": []
    },
    "kernelspec": {
      "display_name": "Python 3",
      "language": "python",
      "name": "python3"
    },
    "language_info": {
      "codemirror_mode": {
        "name": "ipython",
        "version": 3
      },
      "file_extension": ".py",
      "mimetype": "text/x-python",
      "name": "python",
      "nbconvert_exporter": "python",
      "pygments_lexer": "ipython3",
      "version": "3.8.3"
    }
  },
  "nbformat": 4,
  "nbformat_minor": 0
}